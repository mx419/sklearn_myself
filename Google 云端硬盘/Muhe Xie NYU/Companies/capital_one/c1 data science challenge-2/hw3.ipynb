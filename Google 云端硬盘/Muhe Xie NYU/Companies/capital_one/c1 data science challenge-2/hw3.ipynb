{
 "cells": [
  {
   "cell_type": "code",
   "execution_count": 1,
   "metadata": {
    "collapsed": true
   },
   "outputs": [],
   "source": [
    "import os\n",
    "import numpy as np\n",
    "import pickle\n",
    "import random\n",
    "import time"
   ]
  },
  {
   "cell_type": "code",
   "execution_count": 2,
   "metadata": {
    "collapsed": true
   },
   "outputs": [],
   "source": [
    "import matplotlib.pyplot as plt\n",
    "%matplotlib inline\n",
    "from sklearn.cross_validation import train_test_split"
   ]
  },
  {
   "cell_type": "code",
   "execution_count": 3,
   "metadata": {
    "collapsed": true
   },
   "outputs": [],
   "source": [
    "def read_data(file):\n",
    "    '''\n",
    "    Read each file into a list of strings. \n",
    "    Example:\n",
    "    [\"it's\", 'a', 'curious', 'thing', \"i've\", 'found', 'that', 'when', 'willis', 'is', 'not', 'called', 'on', \n",
    "    ...'to', 'carry', 'the', 'whole', 'movie', \"he's\", 'much', 'better', 'and', 'so', 'is', 'the', 'movie']\n",
    "    '''\n",
    "    f = open(file)\n",
    "    lines = f.read().split(' ')\n",
    "    symbols = '${}()[].,:;+-*/&|<>=~\" '\n",
    "    words = map(lambda Element: Element.translate(None, symbols).strip(), lines)\n",
    "    words = filter(None, words)\n",
    "    return words"
   ]
  },
  {
   "cell_type": "code",
   "execution_count": 4,
   "metadata": {
    "collapsed": true
   },
   "outputs": [],
   "source": [
    "def folder_list(path,label):\n",
    "    '''\n",
    "    PARAMETER PATH IS THE PATH OF YOUR LOCAL FOLDER\n",
    "    '''\n",
    "    filelist = os.listdir(path)\n",
    "    review = []\n",
    "    label_list = []\n",
    "    for infile in filelist:\n",
    "        file = os.path.join(path,infile)\n",
    "        r = read_data(file)\n",
    "        review.append(r)\n",
    "        label_list.append(label)\n",
    "    return review,label_list\n"
   ]
  },
  {
   "cell_type": "code",
   "execution_count": 189,
   "metadata": {
    "collapsed": false
   },
   "outputs": [
    {
     "data": {
      "text/plain": [
       "1000"
      ]
     },
     "execution_count": 189,
     "metadata": {},
     "output_type": "execute_result"
    }
   ],
   "source": [
    "len(review)"
   ]
  },
  {
   "cell_type": "code",
   "execution_count": 152,
   "metadata": {
    "collapsed": true
   },
   "outputs": [],
   "source": [
    "pos_path = '/Users/MuheXie/Desktop/mltest/data/pos'\n",
    "neg_path = '/Users/MuheXie/Desktop/mltest/data/neg'\n",
    "pos_review,pos_labels = folder_list(pos_path,1)\n",
    "neg_review,neg_labels= folder_list(neg_path,-1)"
   ]
  },
  {
   "cell_type": "code",
   "execution_count": 157,
   "metadata": {
    "collapsed": false
   },
   "outputs": [],
   "source": [
    "review_both = pos_review + neg_review"
   ]
  },
  {
   "cell_type": "code",
   "execution_count": 162,
   "metadata": {
    "collapsed": true
   },
   "outputs": [],
   "source": [
    "label_both = pos_labels+neg_labels"
   ]
  },
  {
   "cell_type": "code",
   "execution_count": 168,
   "metadata": {
    "collapsed": false
   },
   "outputs": [],
   "source": [
    "Text_train, Text_test, y_train, y_test = train_test_split(review_both, label_both, test_size = 500, random_state=5)"
   ]
  },
  {
   "cell_type": "code",
   "execution_count": 170,
   "metadata": {
    "collapsed": false
   },
   "outputs": [],
   "source": [
    "pickle.dump(Text_train, open( \"Text_train.p\", \"wb\"))\n",
    "pickle.dump(Text_test, open( \"Text_test.p\", \"wb\"))\n",
    "pickle.dump(y_train, open( \"y_train.p\", \"wb\"))\n",
    "pickle.dump(y_test, open( \"y_test.p\", \"wb\"))"
   ]
  },
  {
   "cell_type": "code",
   "execution_count": 102,
   "metadata": {
    "collapsed": false
   },
   "outputs": [],
   "source": [
    "Text_train2 = pickle.load( open( \"Text_train.p\", \"rb\" ) )\n",
    "Text_test2 = pickle.load( open( \"Text_test.p\", \"rb\" ) )\n",
    "y_train2 = pickle.load( open( \"y_train.p\", \"rb\" ) )\n",
    "y_test2 = pickle.load( open( \"y_test.p\", \"rb\" ) )\n"
   ]
  },
  {
   "cell_type": "code",
   "execution_count": 103,
   "metadata": {
    "collapsed": false
   },
   "outputs": [
    {
     "data": {
      "text/plain": [
       "['i',\n",
       " 'can',\n",
       " 'see',\n",
       " 'a',\n",
       " 'decent',\n",
       " 'sports',\n",
       " 'movie',\n",
       " 'struggling',\n",
       " 'to',\n",
       " 'break',\n",
       " 'free',\n",
       " 'of',\n",
       " 'oliver',\n",
       " \"stone's\",\n",
       " '`any',\n",
       " 'given',\n",
       " \"sunday'\",\n",
       " \"it's\",\n",
       " 'an',\n",
       " 'entertaining',\n",
       " 'movie',\n",
       " 'that',\n",
       " 'offers',\n",
       " 'both',\n",
       " 'insight',\n",
       " 'and',\n",
       " 'excitement',\n",
       " 'into',\n",
       " 'the',\n",
       " 'rockem',\n",
       " 'sockem',\n",
       " 'profession',\n",
       " 'of',\n",
       " 'pro',\n",
       " 'football',\n",
       " 'unfortunately',\n",
       " 'the',\n",
       " 'director',\n",
       " 'seems',\n",
       " 'to',\n",
       " 'have',\n",
       " 'only',\n",
       " 'one',\n",
       " 'priority',\n",
       " 'on',\n",
       " 'his',\n",
       " 'mind',\n",
       " 'sprucing',\n",
       " 'up',\n",
       " 'the',\n",
       " 'film',\n",
       " 'with',\n",
       " 'an',\n",
       " 'assortment',\n",
       " 'of',\n",
       " 'fancy',\n",
       " 'camera',\n",
       " 'maneuvers',\n",
       " 'in',\n",
       " 'altering',\n",
       " 'each',\n",
       " 'frame',\n",
       " 'with',\n",
       " 'quickflash',\n",
       " 'photography',\n",
       " 'and',\n",
       " 'dizzying',\n",
       " 'inyourface',\n",
       " 'editing',\n",
       " 'stone',\n",
       " 'appears',\n",
       " 'to',\n",
       " 'have',\n",
       " 'completely',\n",
       " 'ignored',\n",
       " 'the',\n",
       " 'matter',\n",
       " 'of',\n",
       " 'plausible',\n",
       " 'character',\n",
       " 'development',\n",
       " 'and',\n",
       " 'football',\n",
       " 'politics',\n",
       " 'we',\n",
       " 'see',\n",
       " 'glimpses',\n",
       " 'of',\n",
       " 'greatness',\n",
       " 'but',\n",
       " '`any',\n",
       " 'given',\n",
       " \"sunday'\",\n",
       " 'has',\n",
       " 'its',\n",
       " 'agenda',\n",
       " 'all',\n",
       " 'tangled',\n",
       " 'in',\n",
       " 'technical',\n",
       " 'gobbledygook',\n",
       " 'it',\n",
       " 'grows',\n",
       " 'tiresome',\n",
       " 'and',\n",
       " 'monotonous',\n",
       " 'yes',\n",
       " 'stone',\n",
       " 'has',\n",
       " 'pulled',\n",
       " 'a',\n",
       " 'brian',\n",
       " 'depalma',\n",
       " 'matters',\n",
       " 'of',\n",
       " 'importance',\n",
       " 'are',\n",
       " 'pushed',\n",
       " 'aside',\n",
       " 'right',\n",
       " 'from',\n",
       " 'the',\n",
       " 'getgo',\n",
       " 'tony',\n",
       " \"d'amato\",\n",
       " 'al',\n",
       " 'pacino',\n",
       " 'coach',\n",
       " 'of',\n",
       " 'the',\n",
       " 'struggling',\n",
       " 'miami',\n",
       " 'sharks',\n",
       " 'finds',\n",
       " 'his',\n",
       " 'team',\n",
       " 'stuck',\n",
       " 'in',\n",
       " 'a',\n",
       " 'losing',\n",
       " 'rut',\n",
       " 'aging',\n",
       " 'quarterback',\n",
       " 'cap',\n",
       " 'rooney',\n",
       " 'dennis',\n",
       " 'quaid',\n",
       " 'appears',\n",
       " 'to',\n",
       " 'be',\n",
       " 'losing',\n",
       " 'his',\n",
       " 'touch',\n",
       " 'and',\n",
       " \"d'amato\",\n",
       " \"can't\",\n",
       " 'seem',\n",
       " 'to',\n",
       " 'ignite',\n",
       " 'any',\n",
       " 'passion',\n",
       " 'in',\n",
       " 'his',\n",
       " 'squad',\n",
       " 'when',\n",
       " 'cap',\n",
       " 'is',\n",
       " 'injured',\n",
       " 'on',\n",
       " 'the',\n",
       " 'field',\n",
       " 'and',\n",
       " 'after',\n",
       " 'a',\n",
       " 'patch',\n",
       " 'of',\n",
       " 'unlikely',\n",
       " 'events',\n",
       " 'occur',\n",
       " 'thirdstring',\n",
       " 'qb',\n",
       " 'willie',\n",
       " 'beaman',\n",
       " 'jamie',\n",
       " 'foxx',\n",
       " 'is',\n",
       " 'brought',\n",
       " 'into',\n",
       " 'the',\n",
       " 'game',\n",
       " 'once',\n",
       " 'in',\n",
       " 'the',\n",
       " 'huddle',\n",
       " 'and',\n",
       " 'this',\n",
       " 'becomes',\n",
       " 'an',\n",
       " 'ingame',\n",
       " 'ritual',\n",
       " 'beaman',\n",
       " 'horks',\n",
       " 'all',\n",
       " 'over',\n",
       " 'the',\n",
       " 'field',\n",
       " 'nerves',\n",
       " 'you',\n",
       " 'see',\n",
       " 'eventually',\n",
       " 'though',\n",
       " 'the',\n",
       " 'ancy',\n",
       " 'youngster',\n",
       " 'wins',\n",
       " 'the',\n",
       " 'game',\n",
       " 'for',\n",
       " 'his',\n",
       " 'teammates',\n",
       " 'sparking',\n",
       " 'his',\n",
       " 'rise',\n",
       " 'to',\n",
       " 'fame',\n",
       " 'in',\n",
       " 'the',\n",
       " 'football',\n",
       " 'world',\n",
       " 'the',\n",
       " 'endorsements',\n",
       " 'the',\n",
       " 'music',\n",
       " 'videos',\n",
       " 'etc',\n",
       " 'and',\n",
       " 'stone',\n",
       " 'straps',\n",
       " 'us',\n",
       " 'in',\n",
       " 'for',\n",
       " 'the',\n",
       " 'jolting',\n",
       " 'ride',\n",
       " 'of',\n",
       " 'behindthescenes',\n",
       " 'stress',\n",
       " 'and',\n",
       " 'fury',\n",
       " 'that',\n",
       " 'the',\n",
       " 'business',\n",
       " 'is',\n",
       " 'apparently',\n",
       " 'like',\n",
       " 'and',\n",
       " 'i',\n",
       " 'believe',\n",
       " 'it',\n",
       " 'there',\n",
       " 'is',\n",
       " 'some',\n",
       " 'intriguing',\n",
       " 'insight',\n",
       " 'posed',\n",
       " 'but',\n",
       " 'in',\n",
       " 'the',\n",
       " 'big',\n",
       " 'scheme',\n",
       " 'of',\n",
       " 'things',\n",
       " 'stone',\n",
       " 'fumbles',\n",
       " 'the',\n",
       " 'ball',\n",
       " 'the',\n",
       " 'problem',\n",
       " 'with',\n",
       " 'the',\n",
       " \"director's\",\n",
       " 'visual',\n",
       " 'approach',\n",
       " 'is',\n",
       " 'this',\n",
       " 'he',\n",
       " 'uses',\n",
       " 'extravagant',\n",
       " 'editing',\n",
       " 'devices',\n",
       " 'when',\n",
       " 'a',\n",
       " 'more',\n",
       " 'conventional',\n",
       " 'approach',\n",
       " 'would',\n",
       " 'have',\n",
       " 'been',\n",
       " 'appropriate',\n",
       " 'football',\n",
       " 'is',\n",
       " 'an',\n",
       " 'exciting',\n",
       " 'game',\n",
       " 'to',\n",
       " 'watch',\n",
       " 'but',\n",
       " 'stone',\n",
       " 'seems',\n",
       " 'to',\n",
       " 'think',\n",
       " 'dizzying',\n",
       " 'the',\n",
       " 'audience',\n",
       " 'with',\n",
       " 'an',\n",
       " 'assault',\n",
       " 'on',\n",
       " 'the',\n",
       " 'senses',\n",
       " 'will',\n",
       " 'only',\n",
       " 'add',\n",
       " 'to',\n",
       " 'the',\n",
       " 'adrenaline',\n",
       " 'rush',\n",
       " 'i',\n",
       " 'guess',\n",
       " 'he',\n",
       " 'is',\n",
       " 'mistaken',\n",
       " '`any',\n",
       " 'given',\n",
       " \"sunday'\",\n",
       " 'is',\n",
       " 'a',\n",
       " 'visual',\n",
       " 'kaleidoscope',\n",
       " 'that',\n",
       " 'leaves',\n",
       " 'the',\n",
       " 'audience',\n",
       " 'in',\n",
       " 'a',\n",
       " 'frustrated',\n",
       " 'stupor',\n",
       " 'more',\n",
       " 'frequently',\n",
       " 'than',\n",
       " 'it',\n",
       " 'excites',\n",
       " 'them',\n",
       " 'many',\n",
       " 'football',\n",
       " 'fans',\n",
       " 'including',\n",
       " 'one',\n",
       " 'i',\n",
       " 'attended',\n",
       " 'with',\n",
       " 'are',\n",
       " 'liable',\n",
       " 'to',\n",
       " 'be',\n",
       " 'disappointed',\n",
       " 'with',\n",
       " 'the',\n",
       " \"`ultrastylish'\",\n",
       " 'way',\n",
       " 'stone',\n",
       " 'has',\n",
       " 'decided',\n",
       " 'to',\n",
       " 'present',\n",
       " 'the',\n",
       " 'game',\n",
       " 'in',\n",
       " 'return',\n",
       " 'a',\n",
       " 'threestar',\n",
       " 'film',\n",
       " 'becomes',\n",
       " 'unfortunately',\n",
       " 'degraded',\n",
       " 'due',\n",
       " 'to',\n",
       " 'the',\n",
       " \"director's\",\n",
       " 'tampering',\n",
       " 'in',\n",
       " 'welcome',\n",
       " 'scenes',\n",
       " 'when',\n",
       " 'the',\n",
       " 'visual',\n",
       " 'pummeling',\n",
       " 'comes',\n",
       " 'to',\n",
       " 'a',\n",
       " 'break',\n",
       " 'this',\n",
       " 'actually',\n",
       " 'shows',\n",
       " 'decent',\n",
       " 'character',\n",
       " 'development',\n",
       " 'and',\n",
       " 'interaction',\n",
       " 'for',\n",
       " 'instance',\n",
       " 'heated',\n",
       " 'returns',\n",
       " 'between',\n",
       " \"d'amato\",\n",
       " 'and',\n",
       " 'feisty',\n",
       " 'young',\n",
       " 'owner',\n",
       " 'christina',\n",
       " 'pagniacci',\n",
       " 'cameron',\n",
       " 'diaz',\n",
       " 'are',\n",
       " 'enjoyable',\n",
       " 'to',\n",
       " 'watch',\n",
       " 'there',\n",
       " 'is',\n",
       " 'also',\n",
       " 'a',\n",
       " 'solid',\n",
       " 'performance',\n",
       " 'from',\n",
       " 'jamie',\n",
       " 'foxx',\n",
       " 'who',\n",
       " 'experiments',\n",
       " 'with',\n",
       " 'great',\n",
       " 'success',\n",
       " 'in',\n",
       " 'his',\n",
       " 'first',\n",
       " 'trek',\n",
       " 'into',\n",
       " 'dramatic',\n",
       " 'territory',\n",
       " 'the',\n",
       " 'stellar',\n",
       " 'supporting',\n",
       " 'cast',\n",
       " 'includes',\n",
       " 'matthew',\n",
       " 'modine',\n",
       " 'aaron',\n",
       " 'eckhart',\n",
       " 'lauren',\n",
       " 'holly',\n",
       " 'annmargret',\n",
       " 'and',\n",
       " 'charlton',\n",
       " 'heston',\n",
       " 'in',\n",
       " 'an',\n",
       " 'extraordinarily',\n",
       " 'brief',\n",
       " 'appearance',\n",
       " 'unfortunately',\n",
       " 'too',\n",
       " 'many',\n",
       " 'big',\n",
       " 'names',\n",
       " 'are',\n",
       " 'wasted',\n",
       " 'a',\n",
       " 'typical',\n",
       " 'demise',\n",
       " 'for',\n",
       " 'a',\n",
       " 'film',\n",
       " 'with',\n",
       " 'such',\n",
       " 'a',\n",
       " 'large',\n",
       " 'and',\n",
       " 'experienced',\n",
       " 'cast',\n",
       " 'pacino',\n",
       " 'makes',\n",
       " 'some',\n",
       " 'interesting',\n",
       " 'progress',\n",
       " 'with',\n",
       " 'his',\n",
       " 'character',\n",
       " 'you',\n",
       " 'begin',\n",
       " 'to',\n",
       " 'identify',\n",
       " 'with',\n",
       " 'coach',\n",
       " \"d'amato\",\n",
       " 'and',\n",
       " 'the',\n",
       " 'morals',\n",
       " 'he',\n",
       " 'is',\n",
       " 'striving',\n",
       " 'for',\n",
       " 'but',\n",
       " 'i',\n",
       " 'often',\n",
       " 'felt',\n",
       " 'he',\n",
       " 'was',\n",
       " 'just',\n",
       " 'another',\n",
       " 'play',\n",
       " 'thing',\n",
       " 'stone',\n",
       " 'could',\n",
       " 'weave',\n",
       " 'in',\n",
       " 'and',\n",
       " 'out',\n",
       " 'of',\n",
       " 'his',\n",
       " 'editing',\n",
       " 'dynamics',\n",
       " '`any',\n",
       " 'given',\n",
       " \"sunday'\",\n",
       " 'is',\n",
       " 'a',\n",
       " 'watchable',\n",
       " 'but',\n",
       " 'disappointing',\n",
       " 'sports',\n",
       " 'film',\n",
       " 'in',\n",
       " 'which',\n",
       " 'plot',\n",
       " 'and',\n",
       " 'characters',\n",
       " 'take',\n",
       " 'a',\n",
       " 'back',\n",
       " 'seat',\n",
       " 'to',\n",
       " 'excessive',\n",
       " 'filmmaking',\n",
       " 'technique',\n",
       " 'and',\n",
       " 'a',\n",
       " 'very',\n",
       " 'distant',\n",
       " 'back',\n",
       " 'seat',\n",
       " 'at',\n",
       " 'that']"
      ]
     },
     "execution_count": 103,
     "metadata": {},
     "output_type": "execute_result"
    }
   ],
   "source": [
    "Text_train2[2]"
   ]
  },
  {
   "cell_type": "code",
   "execution_count": 174,
   "metadata": {
    "collapsed": false
   },
   "outputs": [
    {
     "data": {
      "text/plain": [
       "True"
      ]
     },
     "execution_count": 174,
     "metadata": {},
     "output_type": "execute_result"
    }
   ],
   "source": [
    "np.array_equal(np.array(Text_train),np.array(Text_train2))"
   ]
  },
  {
   "cell_type": "code",
   "execution_count": 175,
   "metadata": {
    "collapsed": false
   },
   "outputs": [
    {
     "data": {
      "text/plain": [
       "True"
      ]
     },
     "execution_count": 175,
     "metadata": {},
     "output_type": "execute_result"
    }
   ],
   "source": [
    "np.array_equal(np.array(Text_test),np.array(Text_test2))"
   ]
  },
  {
   "cell_type": "code",
   "execution_count": 176,
   "metadata": {
    "collapsed": false
   },
   "outputs": [
    {
     "data": {
      "text/plain": [
       "True"
      ]
     },
     "execution_count": 176,
     "metadata": {},
     "output_type": "execute_result"
    }
   ],
   "source": [
    "np.array_equal(np.array(y_test),np.array(y_test2))"
   ]
  },
  {
   "cell_type": "code",
   "execution_count": 177,
   "metadata": {
    "collapsed": false
   },
   "outputs": [
    {
     "data": {
      "text/plain": [
       "True"
      ]
     },
     "execution_count": 177,
     "metadata": {},
     "output_type": "execute_result"
    }
   ],
   "source": [
    "np.array_equal(np.array(y_train2),np.array(y_train))"
   ]
  },
  {
   "cell_type": "code",
   "execution_count": null,
   "metadata": {
    "collapsed": true
   },
   "outputs": [],
   "source": [
    "#NO NEED THAT\n",
    "# def shuffle_data():\n",
    "#     '''\n",
    "#     pos_path is where you save positive review data.\n",
    "#     neg_path is where you save negative review data.\n",
    "#     '''\n",
    "#     pos_path = \"/Users/drosen/Dropbox/share/ML1003-share/Homework/hw3-sentiment-analysis/release/data/neg\"\n",
    "#     neg_path = \n",
    "\n",
    "#     pos_review,pos_labels = folder_list(pos_path,1)\n",
    "#     neg_review = folder_list(neg_path,-1)\n",
    "\n",
    "#     review = pos_review + neg_review\n",
    "#     random.shuffle(review)"
   ]
  },
  {
   "cell_type": "markdown",
   "metadata": {},
   "source": [
    "//////////////5.1/////////////////////////////"
   ]
  },
  {
   "cell_type": "code",
   "execution_count": 25,
   "metadata": {
    "collapsed": false
   },
   "outputs": [],
   "source": [
    "def dotProduct(d1, d2):\n",
    "    \"\"\"\n",
    "    @param dict d1: a feature vector represented by a mapping from a feature (string) to a weight (float).\n",
    "    @param dict d2: same as d1\n",
    "    @return float: the dot product between d1 and d2\n",
    "    \"\"\"\n",
    "    if len(d1) < len(d2):\n",
    "        return dotProduct(d2, d1)\n",
    "    else:\n",
    "        return sum(d1.get(f, 0) * v for f, v in d2.items())\n",
    "\n",
    "def increment(d1, scale, d2):\n",
    "    \"\"\"\n",
    "    Implements d1 += scale * d2 for sparse vectors.\n",
    "    @param dict d1: the feature vector which is mutated.\n",
    "    @param float scale\n",
    "    @param dict d2: a feature vector.\n",
    "\n",
    "    NOTE: This function does not return anything, but rather\n",
    "    increments d1 in place. We do this because it is much faster to\n",
    "    change elements of d1 in place than to build a new dictionary and\n",
    "    return it.\n",
    "    \"\"\"\n",
    "    for f, v in d2.items():\n",
    "        d1[f] = d1.get(f, 0) + v * scale"
   ]
  },
  {
   "cell_type": "code",
   "execution_count": 24,
   "metadata": {
    "collapsed": false
   },
   "outputs": [],
   "source": [
    "from collections import *\n",
    "def convert_strlist_to_dic(word_list):\n",
    "    '''\n",
    "    convert a word l\n",
    "    '''\n",
    "    cnt = Counter()\n",
    "    for word in word_list:\n",
    "        cnt[word] += 1\n",
    "    return cnt"
   ]
  },
  {
   "cell_type": "code",
   "execution_count": 299,
   "metadata": {
    "collapsed": false
   },
   "outputs": [],
   "source": [
    "#...... store converted things\n",
    "#Text_train[0]"
   ]
  },
  {
   "cell_type": "code",
   "execution_count": 304,
   "metadata": {
    "collapsed": false
   },
   "outputs": [],
   "source": [
    "Text_train_dic_list = []\n",
    "for i in range(len(Text_train)):\n",
    "    Text_train_dic_list.append(convert_strlist_to_dic(Text_train[i]))"
   ]
  },
  {
   "cell_type": "code",
   "execution_count": 320,
   "metadata": {
    "collapsed": false
   },
   "outputs": [],
   "source": [
    "pickle.dump(Text_train_dic_list, open( \"Text_train_dic_list.p\", \"wb\"))"
   ]
  },
  {
   "cell_type": "code",
   "execution_count": 525,
   "metadata": {
    "collapsed": true
   },
   "outputs": [],
   "source": [
    "Text_train_dic_list2 = pickle.load( open( \"Text_train_dic_list.p\", \"rb\" ) )"
   ]
  },
  {
   "cell_type": "code",
   "execution_count": 323,
   "metadata": {
    "collapsed": true
   },
   "outputs": [],
   "source": [
    "Text_test_dic_list = []\n",
    "for i in range(len(Text_test)):\n",
    "    Text_test_dic_list.append(convert_strlist_to_dic(Text_test[i]))"
   ]
  },
  {
   "cell_type": "code",
   "execution_count": 324,
   "metadata": {
    "collapsed": true
   },
   "outputs": [],
   "source": [
    "pickle.dump(Text_test_dic_list, open( \"Text_test_dic_list.p\", \"wb\"))"
   ]
  },
  {
   "cell_type": "code",
   "execution_count": 526,
   "metadata": {
    "collapsed": true
   },
   "outputs": [],
   "source": [
    "Text_test_dic_list2 = pickle.load( open( \"Text_test_dic_list.p\", \"rb\" ) )"
   ]
  },
  {
   "cell_type": "code",
   "execution_count": 326,
   "metadata": {
    "collapsed": false
   },
   "outputs": [
    {
     "data": {
      "text/plain": [
       "True"
      ]
     },
     "execution_count": 326,
     "metadata": {},
     "output_type": "execute_result"
    }
   ],
   "source": [
    "np.array_equal(np.array(Text_test_dic_list),np.array(Text_test_dic_list2))"
   ]
  },
  {
   "cell_type": "code",
   "execution_count": 327,
   "metadata": {
    "collapsed": false
   },
   "outputs": [
    {
     "data": {
      "text/plain": [
       "True"
      ]
     },
     "execution_count": 327,
     "metadata": {},
     "output_type": "execute_result"
    }
   ],
   "source": [
    "np.array_equal(np.array(Text_train_dic_list),np.array(Text_train_dic_list2))"
   ]
  },
  {
   "cell_type": "code",
   "execution_count": 250,
   "metadata": {
    "collapsed": false
   },
   "outputs": [],
   "source": [
    "abc = convert_strlist_to_dic(np.array(['I','am','a','fat','pig','and','and']))"
   ]
  },
  {
   "cell_type": "code",
   "execution_count": 509,
   "metadata": {
    "collapsed": false
   },
   "outputs": [],
   "source": [
    "w={'minimal':1.3,'Harry':-1.1,'viable':-4.2,'and':2.2,'product':9.1,'II':100}\n",
    "x={'Potter':2, 'Harry':2 ,'bb':100, 'and':3, 'II':1,'I':1.5}"
   ]
  },
  {
   "cell_type": "code",
   "execution_count": 222,
   "metadata": {
    "collapsed": false
   },
   "outputs": [
    {
     "data": {
      "text/plain": [
       "104.39999999999999"
      ]
     },
     "execution_count": 222,
     "metadata": {},
     "output_type": "execute_result"
    }
   ],
   "source": [
    "dotProduct(w,x)"
   ]
  },
  {
   "cell_type": "markdown",
   "metadata": {},
   "source": [
    "### 6 svm via pegasos"
   ]
  },
  {
   "cell_type": "code",
   "execution_count": 358,
   "metadata": {
    "collapsed": false
   },
   "outputs": [],
   "source": [
    "increment(x,-0.1,x)"
   ]
  },
  {
   "cell_type": "code",
   "execution_count": 371,
   "metadata": {
    "collapsed": false
   },
   "outputs": [
    {
     "data": {
      "text/plain": [
       "0"
      ]
     },
     "execution_count": 371,
     "metadata": {},
     "output_type": "execute_result"
    }
   ],
   "source": [
    "dotProduct({},{})"
   ]
  },
  {
   "cell_type": "markdown",
   "metadata": {},
   "source": [
    "#### 6.1"
   ]
  },
  {
   "cell_type": "code",
   "execution_count": 23,
   "metadata": {
    "collapsed": true
   },
   "outputs": [],
   "source": [
    "def rounddic(dica,number):\n",
    "    for i in dica:\n",
    "        dica[i] = round(dica[i],number)\n",
    "\n"
   ]
  },
  {
   "cell_type": "code",
   "execution_count": 10,
   "metadata": {
    "collapsed": false
   },
   "outputs": [],
   "source": [
    "def pegasos_algorithm(text_train_dic_list,y_train, lambda_value= 0.01, max_iter = 100,w_init ={}):\n",
    "    '''\n",
    "    text_train is a dic list\n",
    "    '''\n",
    "    step_t = 1\n",
    "    w = w_init\n",
    "    print \"wfinish\"\n",
    "    num_instance = len(y_train)\n",
    "    new_index = np.arange(num_instance)\n",
    "    print \"new_index_finish\"\n",
    "    start_time = time.time()\n",
    "    for i in range(max_iter):\n",
    "        #np.random.shuffle(new_index)\n",
    "        print \"shuffle time\"\n",
    "        print i\n",
    "        for j in new_index:\n",
    "            step_t = step_t+1\n",
    "            eta_t = 1.0/(step_t*lambda_value)\n",
    "            # print j\n",
    "            if y_train[j]*dotProduct(w,text_train_dic_list[j]) < 1:\n",
    "                #w = (1-eta_t*lambda_value)*w +eta_t*y_train[i]*x\n",
    "                increment(w,-eta_t*lambda_value,w)\n",
    "                increment(w,eta_t*y_train[j],text_train_dic_list[j])\n",
    "            else:\n",
    "                increment(w,-eta_t*lambda_value,w)\n",
    "    #print \"time = \" % time.time()- start_time  \n",
    "    print \"time = \"+ str(time.time()- start_time)\n",
    "    return w\n",
    "    "
   ]
  },
  {
   "cell_type": "code",
   "execution_count": 9,
   "metadata": {
    "collapsed": true
   },
   "outputs": [],
   "source": [
    "def pegasos_accelerate_algorithm(text_train_dic_list,y_train, lambda_value= 0.01, max_iter = 100,w_init ={}):\n",
    "    step_t = 1\n",
    "    w = w_init\n",
    "    s = 1\n",
    "    W = {}\n",
    "    num_instance = len(y_train)\n",
    "    new_index = np.arange(num_instance)\n",
    "    start_time = time.time()\n",
    "    for i in range(max_iter):\n",
    "        #print \"shuffle time\"\n",
    "        #print i\n",
    "        np.random.shuffle(new_index)\n",
    "        for j in new_index:\n",
    "            step_t = step_t+1\n",
    "            eta_t = 1.0/(step_t*lambda_value)\n",
    "            s_before = s\n",
    "            s = s*(1-eta_t*lambda_value)\n",
    "            if s_before*y_train[j]*dotProduct(W,text_train_dic_list[j]) < 1:\n",
    "                increment(W,(1.0/s)*eta_t*y_train[j],text_train_dic_list[j])\n",
    "    \n",
    "    increment(W,s-1.0,W) \n",
    "    print \"time = \"+ str(time.time()- start_time)\n",
    "    return W\n",
    "                "
   ]
  },
  {
   "cell_type": "code",
   "execution_count": 490,
   "metadata": {
    "collapsed": false
   },
   "outputs": [
    {
     "name": "stdout",
     "output_type": "stream",
     "text": [
      "wfinish\n",
      "new_index_finish\n",
      "shuffle time\n",
      "0\n",
      "shuffle time\n",
      "1\n",
      "shuffle time\n",
      "2\n",
      "shuffle time\n",
      "3\n",
      "shuffle time\n",
      "4\n",
      "time = 471.284276009\n"
     ]
    }
   ],
   "source": [
    "w_final = pegasos_algorithm(Text_train_dic_list,y_train,0.01,5,{})"
   ]
  },
  {
   "cell_type": "code",
   "execution_count": 538,
   "metadata": {
    "collapsed": false
   },
   "outputs": [
    {
     "name": "stdout",
     "output_type": "stream",
     "text": [
      "time = 1.12590479851\n"
     ]
    }
   ],
   "source": [
    "w_final2 = pegasos_accelerate_algorithm(Text_train_dic_list,y_train,0.01,5,{})"
   ]
  },
  {
   "cell_type": "code",
   "execution_count": 436,
   "metadata": {
    "collapsed": false
   },
   "outputs": [
    {
     "name": "stdout",
     "output_type": "stream",
     "text": [
      "wfinish\n",
      "new_index_finish\n",
      "shuffle time\n",
      "0\n",
      "shuffle time\n",
      "1\n",
      "shuffle time\n",
      "2\n",
      "time = 255.207496166\n"
     ]
    }
   ],
   "source": [
    "w_final3 = pegasos_algorithm(Text_train_dic_list,y_train,0.01,3,{})"
   ]
  },
  {
   "cell_type": "code",
   "execution_count": 437,
   "metadata": {
    "collapsed": false
   },
   "outputs": [
    {
     "name": "stdout",
     "output_type": "stream",
     "text": [
      "shuffle time\n",
      "0\n",
      "shuffle time\n",
      "1\n",
      "shuffle time\n",
      "2\n",
      "time = 0.671307086945\n"
     ]
    }
   ],
   "source": [
    "w_final4 = pegasos_accelerate_algorithm(Text_train_dic_list,y_train,0.01,3,{})"
   ]
  },
  {
   "cell_type": "code",
   "execution_count": 519,
   "metadata": {
    "collapsed": false
   },
   "outputs": [
    {
     "data": {
      "text/plain": [
       "1"
      ]
     },
     "execution_count": 519,
     "metadata": {},
     "output_type": "execute_result"
    }
   ],
   "source": [
    "cmp(w_final,w_final2)"
   ]
  },
  {
   "cell_type": "code",
   "execution_count": 494,
   "metadata": {
    "collapsed": false
   },
   "outputs": [],
   "source": [
    "w_final_backup = w_final.copy()\n",
    "w_final2_backup = w_final2.copy()"
   ]
  },
  {
   "cell_type": "code",
   "execution_count": 514,
   "metadata": {
    "collapsed": false
   },
   "outputs": [],
   "source": [
    "rounddic(w_final_backup,3)\n",
    "#w_final_backup"
   ]
  },
  {
   "cell_type": "code",
   "execution_count": 501,
   "metadata": {
    "collapsed": false
   },
   "outputs": [],
   "source": [
    "rounddic(w_final2_backup,3)"
   ]
  },
  {
   "cell_type": "code",
   "execution_count": 508,
   "metadata": {
    "collapsed": false
   },
   "outputs": [
    {
     "data": {
      "text/plain": [
       "0"
      ]
     },
     "execution_count": 508,
     "metadata": {},
     "output_type": "execute_result"
    }
   ],
   "source": [
    "cmp(w_final2_backup,w_final_backup)"
   ]
  },
  {
   "cell_type": "markdown",
   "metadata": {},
   "source": [
    "### 5 test 01 loss"
   ]
  },
  {
   "cell_type": "code",
   "execution_count": 27,
   "metadata": {
    "collapsed": false
   },
   "outputs": [],
   "source": [
    "def get_zero_one_loss(text_train,y_train,w):\n",
    "    predict_list = []\n",
    "    num_instance = len(y_train)\n",
    "    for i in range(num_instance):\n",
    "        predict_list.append(dotProduct(text_train[i],w))\n",
    "    result = map(lambda x,y:x*y,predict_list,y_train)\n",
    "    \n",
    "    return np.mean(np.sign(result)<0)"
   ]
  },
  {
   "cell_type": "code",
   "execution_count": 528,
   "metadata": {
    "collapsed": false
   },
   "outputs": [
    {
     "data": {
      "text/plain": [
       "0.070000000000000007"
      ]
     },
     "execution_count": 528,
     "metadata": {},
     "output_type": "execute_result"
    }
   ],
   "source": [
    "get_zero_one_loss(Text_train_dic_list,y_train,w_final)"
   ]
  },
  {
   "cell_type": "code",
   "execution_count": 539,
   "metadata": {
    "collapsed": false
   },
   "outputs": [
    {
     "data": {
      "text/plain": [
       "0.051999999999999998"
      ]
     },
     "execution_count": 539,
     "metadata": {},
     "output_type": "execute_result"
    }
   ],
   "source": [
    "get_zero_one_loss(Text_train_dic_list2,y_train2,w_final2)"
   ]
  },
  {
   "cell_type": "code",
   "execution_count": 565,
   "metadata": {
    "collapsed": true
   },
   "outputs": [],
   "source": [
    "num_iter_list = np.arange(15,56)\n",
    "loss_list = np.array([1])"
   ]
  },
  {
   "cell_type": "code",
   "execution_count": null,
   "metadata": {
    "collapsed": true
   },
   "outputs": [],
   "source": [
    "for i in num_iter_list:\n",
    "    "
   ]
  },
  {
   "cell_type": "code",
   "execution_count": 566,
   "metadata": {
    "collapsed": false
   },
   "outputs": [],
   "source": [
    "loss_list = np.zeros(len(num_iter_list))"
   ]
  },
  {
   "cell_type": "code",
   "execution_count": 561,
   "metadata": {
    "collapsed": false
   },
   "outputs": [
    {
     "data": {
      "text/plain": [
       "40"
      ]
     },
     "execution_count": 561,
     "metadata": {},
     "output_type": "execute_result"
    }
   ],
   "source": [
    "len(loss_list)"
   ]
  },
  {
   "cell_type": "code",
   "execution_count": 567,
   "metadata": {
    "collapsed": false
   },
   "outputs": [
    {
     "name": "stdout",
     "output_type": "stream",
     "text": [
      "time = 3.21605610847\n",
      "time = 3.05432105064\n",
      "time = 3.35276508331\n",
      "time = 3.4337618351\n",
      "time = 3.58180093765\n",
      "time = 4.31839084625\n",
      "time = 4.18763995171\n",
      "time = 4.53523015976\n",
      "time = 4.24645805359\n",
      "time = 4.52481889725\n",
      "time = 4.72859382629\n",
      "time = 5.0221619606\n",
      "time = 5.55785608292\n",
      "time = 5.43748998642\n",
      "time = 5.29699015617\n",
      "time = 5.6502020359\n",
      "time = 5.88743710518\n",
      "time = 6.52889585495\n",
      "time = 6.19838690758\n",
      "time = 6.11756205559\n",
      "time = 6.46362400055\n",
      "time = 6.53748106956\n",
      "time = 6.93938398361\n",
      "time = 6.7988910675\n",
      "time = 7.13361597061\n",
      "time = 7.42540287971\n",
      "time = 7.23935699463\n",
      "time = 7.67350506783\n",
      "time = 7.61298680305\n",
      "time = 8.08326196671\n",
      "time = 8.92513394356\n",
      "time = 8.34051990509\n",
      "time = 8.49721813202\n",
      "time = 8.60939598083\n",
      "time = 8.71077895164\n",
      "time = 9.49485397339\n",
      "time = 9.97669911385\n",
      "time = 10.0256209373\n",
      "time = 9.70266509056\n",
      "time = 9.9458398819\n",
      "time = 10.687128067\n"
     ]
    }
   ],
   "source": [
    "for i in range(len(loss_list)):\n",
    "    wtmp = pegasos_accelerate_algorithm(Text_train_dic_list,y_train,0.01,num_iter_list[i],{})\n",
    "    loss_list[i] = get_zero_one_loss(Text_test_dic_list,y_test,wtmp)\n",
    "    "
   ]
  },
  {
   "cell_type": "code",
   "execution_count": 564,
   "metadata": {
    "collapsed": false
   },
   "outputs": [
    {
     "data": {
      "image/png": "[encoded data removed]",
      "text/plain": [
       "<matplotlib.figure.Figure at 0x11fa086d0>"
      ]
     },
     "metadata": {},
     "output_type": "display_data"
    }
   ],
   "source": [
    "plt.figure(figsize = (15,10))\n",
    "plt.xlabel(\"steps\")\n",
    "plt.ylabel(\"square-loss\")\n",
    "plt.plot(num_iter_list,loss_list)\n",
    "\n",
    "plt.legend(loc=\"upper right\")"
   ]
  },
  {
   "cell_type": "code",
   "execution_count": 568,
   "metadata": {
    "collapsed": false
   },
   "outputs": [
    {
     "data": {
      "image/png": "[encoded data removed]",
      "text/plain": [
       "<matplotlib.figure.Figure at 0x119743c50>"
      ]
     },
     "metadata": {},
     "output_type": "display_data"
    }
   ],
   "source": [
    "plt.figure(figsize = (15,10))\n",
    "plt.xlabel(\"steps\")\n",
    "plt.ylabel(\"square-loss\")\n",
    "plt.plot(num_iter_list,loss_list)\n",
    "\n",
    "plt.legend(loc=\"upper right\")"
   ]
  },
  {
   "cell_type": "markdown",
   "metadata": {},
   "source": [
    "### 6.6 search for best lambda"
   ]
  },
  {
   "cell_type": "code",
   "execution_count": 15,
   "metadata": {
    "collapsed": true
   },
   "outputs": [],
   "source": [
    "Text_train_dic_list = pickle.load(open( \"Text_train_dic_list.p\", \"rb\" ) )"
   ]
  },
  {
   "cell_type": "code",
   "execution_count": 16,
   "metadata": {
    "collapsed": true
   },
   "outputs": [],
   "source": [
    "y_train = pickle.load( open( \"y_train.p\", \"rb\" ) )"
   ]
  },
  {
   "cell_type": "code",
   "execution_count": 18,
   "metadata": {
    "collapsed": true
   },
   "outputs": [],
   "source": [
    "Text_test_dic_list = pickle.load( open( \"Text_test_dic_list.p\", \"rb\" ) )"
   ]
  },
  {
   "cell_type": "code",
   "execution_count": 20,
   "metadata": {
    "collapsed": true
   },
   "outputs": [],
   "source": [
    "y_test = pickle.load( open( \"y_test.p\", \"rb\" ) )"
   ]
  },
  {
   "cell_type": "code",
   "execution_count": 21,
   "metadata": {
    "collapsed": true
   },
   "outputs": [],
   "source": [
    "lambda_list = np.array([10**x for x in range(-8,1)])\n",
    "loss_list = np.zeros(len(lambda_list))"
   ]
  },
  {
   "cell_type": "code",
   "execution_count": 31,
   "metadata": {
    "collapsed": false
   },
   "outputs": [
    {
     "name": "stdout",
     "output_type": "stream",
     "text": [
      "time = 9.07218909264\n",
      "time = 9.08453202248\n",
      "time = 8.94571208954\n",
      "time = 9.1748380661\n",
      "time = 8.5403418541\n",
      "time = 8.58962798119\n",
      "time = 8.62733507156\n",
      "time = 9.60335111618\n",
      "time = 12.3984510899\n"
     ]
    }
   ],
   "source": [
    "for i in range(len(loss_list)):\n",
    "    wtmp = pegasos_accelerate_algorithm(Text_train_dic_list,y_train,lambda_list[i],30,{})\n",
    "    loss_list[i] = get_zero_one_loss(Text_test_dic_list,y_test,wtmp)"
   ]
  },
  {
   "cell_type": "code",
   "execution_count": 32,
   "metadata": {
    "collapsed": false
   },
   "outputs": [
    {
     "data": {
      "text/plain": [
       "array([ 0.168,  0.176,  0.198,  0.18 ,  0.184,  0.174,  0.158,  0.214,\n",
       "        0.194])"
      ]
     },
     "execution_count": 32,
     "metadata": {},
     "output_type": "execute_result"
    }
   ],
   "source": [
    "x_axis = np.arange(-8,1)\n",
    "loss_list"
   ]
  },
  {
   "cell_type": "code",
   "execution_count": 33,
   "metadata": {
    "collapsed": false
   },
   "outputs": [
    {
     "data": {
      "image/png": "[encoded data removed]",
      "text/plain": [
       "<matplotlib.figure.Figure at 0x113bfca10>"
      ]
     },
     "metadata": {},
     "output_type": "display_data"
    }
   ],
   "source": [
    "plt.figure(figsize = (15,10))\n",
    "plt.xlabel(\"log $\\lambda$\")\n",
    "plt.ylabel(\"0-1 loss\")\n",
    "plt.plot(x_axis,loss_list,label= '0-1 loss')\n",
    "\n",
    "plt.legend(loc=\"upper right\")\n",
    "plt.savefig(\"loss_for_different_regularization_parameter.png\")"
   ]
  },
  {
   "cell_type": "markdown",
   "metadata": {},
   "source": [
    "$\\lambda$ = 0.01 is the best choice"
   ]
  },
  {
   "cell_type": "code",
   "execution_count": 73,
   "metadata": {
    "collapsed": true
   },
   "outputs": [],
   "source": [
    "x_axis = np.array([0.004,0.008,0.01,0.015,0.02,0.04,0.08])"
   ]
  },
  {
   "cell_type": "code",
   "execution_count": 74,
   "metadata": {
    "collapsed": false
   },
   "outputs": [],
   "source": [
    "lambda_list = x_axis\n",
    "loss_list = np.zeros(len(lambda_list))"
   ]
  },
  {
   "cell_type": "code",
   "execution_count": 75,
   "metadata": {
    "collapsed": false
   },
   "outputs": [
    {
     "name": "stdout",
     "output_type": "stream",
     "text": [
      "time = 8.36516499519\n",
      "time = 8.36137890816\n",
      "time = 8.48772192001\n",
      "time = 8.35778594017\n",
      "time = 8.33065605164\n",
      "time = 8.74463582039\n",
      "time = 9.25346302986\n"
     ]
    }
   ],
   "source": [
    "for i in range(len(loss_list)):\n",
    "    wtmp = pegasos_accelerate_algorithm(Text_train_dic_list,y_train,lambda_list[i],30,{})\n",
    "    loss_list[i] = get_zero_one_loss(Text_test_dic_list,y_test,wtmp)"
   ]
  },
  {
   "cell_type": "code",
   "execution_count": 76,
   "metadata": {
    "collapsed": false
   },
   "outputs": [
    {
     "data": {
      "text/plain": [
       "array([ 0.202,  0.172,  0.174,  0.184,  0.184,  0.176,  0.188])"
      ]
     },
     "execution_count": 76,
     "metadata": {},
     "output_type": "execute_result"
    }
   ],
   "source": [
    "loss_list"
   ]
  },
  {
   "cell_type": "code",
   "execution_count": 78,
   "metadata": {
    "collapsed": false
   },
   "outputs": [
    {
     "data": {
      "image/png": "[encoded data removed]",
      "text/plain": [
       "<matplotlib.figure.Figure at 0x11495b0d0>"
      ]
     },
     "metadata": {},
     "output_type": "display_data"
    }
   ],
   "source": [
    "plt.figure(figsize = (15,10))\n",
    "plt.xlabel(\"$\\lambda$\")\n",
    "plt.ylabel(\"0-1 loss\")\n",
    "\n",
    "plt.plot(x_axis[:],loss_list[:],label= '0-1 loss')\n",
    "\n",
    "plt.legend(loc=\"upper right\")\n",
    "plt.savefig(\"loss_for_different_regularization_parameter_zoom.png\")"
   ]
  },
  {
   "cell_type": "markdown",
   "metadata": {},
   "source": [
    "#### optional 6.8"
   ]
  },
  {
   "cell_type": "code",
   "execution_count": 79,
   "metadata": {
    "collapsed": true
   },
   "outputs": [],
   "source": [
    "def pegasos_accelerate_algorithm2(text_train_dic_list,y_train, lambda_value= 0.01, max_iter = 100,w_init ={}):\n",
    "    step_t = 1\n",
    "    w = w_init\n",
    "    s = 1\n",
    "    count0 = 0\n",
    "    W = {}\n",
    "    num_instance = len(y_train)\n",
    "    new_index = np.arange(num_instance)\n",
    "    start_time = time.time()\n",
    "    for i in range(max_iter):\n",
    "        #print \"shuffle time\"\n",
    "        #print i\n",
    "        np.random.shuffle(new_index)\n",
    "        for j in new_index:\n",
    "            step_t = step_t+1\n",
    "            eta_t = 1.0/(step_t*lambda_value)\n",
    "            s_before = s\n",
    "            s = s*(1-eta_t*lambda_value)\n",
    "            if s_before*y_train[j]*dotProduct(W,text_train_dic_list[j]) < 1:\n",
    "                if(dotProduct(W,text_train_dic_list[j])) ==0:\n",
    "                    count0+=1\n",
    "                    \n",
    "                increment(W,(1.0/s)*eta_t*y_train[j],text_train_dic_list[j])\n",
    "    \n",
    "    increment(W,s-1.0,W) \n",
    "    print \"time = \"+ str(time.time()- start_time)\n",
    "    return W,count0\n",
    "                "
   ]
  },
  {
   "cell_type": "code",
   "execution_count": 82,
   "metadata": {
    "collapsed": false
   },
   "outputs": [
    {
     "name": "stdout",
     "output_type": "stream",
     "text": [
      "time = 8.44849300385\n"
     ]
    }
   ],
   "source": [
    "wtmp,ccc = pegasos_accelerate_algorithm2(Text_train_dic_list,y_train,0.08,40,{})"
   ]
  },
  {
   "cell_type": "code",
   "execution_count": 94,
   "metadata": {
    "collapsed": false
   },
   "outputs": [
    {
     "data": {
      "text/plain": [
       "{'astrosbraves': -0.0004166597223367319,\n",
       " 'woods': 0.007499875002110912,\n",
       " 'spiders': 0.0010416493058471588,\n",
       " 'bazooms': -0.0004166597223367319,\n",
       " 'hanging': 0.01333311111477542,\n",
       " 'woody': -0.003749937501055456,\n",
       " 'comically': 0.0004166597223367319,\n",
       " 'localized': 0.003958267362207835,\n",
       " 'disobeying': -0.001458309028180338,\n",
       " 'hennings': -0.0016666388893469275,\n",
       " 'scold': 0.00020832986116836594,\n",
       " \"lucinda's\": 0.0004166597223367319,\n",
       " 'originality': -0.02749954167438773,\n",
       " 'mutinies': 0.0004166597223367319,\n",
       " 'rickman': 0.0006249895835068742,\n",
       " 'slothful': 0.001458309028180338,\n",
       " 'wracked': 0.0010416493058471588,\n",
       " \"wood'\": 0.0006249895835068742,\n",
       " \"franklin's\": -0.0022916284728466962,\n",
       " 'stipulate': -0.0010416493058471588,\n",
       " 'ambulancechaser': 0.001874968750527728,\n",
       " 'rawhide': 0.008124864585568048,\n",
       " 'bringing': -0.00833319444677727,\n",
       " 'unsworth': -0.0016666388893469275,\n",
       " 'liaisons': -0.006458225696235331,\n",
       " 'grueling': 0.0008333194446734637,\n",
       " 'wooden': -0.011249812503137946,\n",
       " 'wednesday': 0.004791586806902615,\n",
       " 'broiled': -0.00020832986116836594,\n",
       " 'circuitry': -0.0012499791670137483,\n",
       " 'crotch': 0.002708288195208297,\n",
       " 'elgar': 0.0004166597223367319,\n",
       " 'stereotypical': -0.009166513891386785,\n",
       " 'shows': 0.02708288195208297,\n",
       " 'gavan': -0.0012499791670137483,\n",
       " \"tom's\": 0.013541440976041486,\n",
       " 'wellspoken': 0.0012499791670137483,\n",
       " 'snuggles': -0.00020832986116836594,\n",
       " 'frederick': 0.0022916284728466962,\n",
       " 'miniatures': -0.008124864585568048,\n",
       " 'mortgages': -0.0010416493058471588,\n",
       " 'francesca': -0.004999916668054993,\n",
       " 'consenting': -0.00020832986116836594,\n",
       " 'goodnight_': 0.00020832986116836594,\n",
       " 'scraped': 0.0012499791670137483,\n",
       " 'inanimate': -0.0024999583340274967,\n",
       " 'errors': -0.003958267362207835,\n",
       " 'notinahurry': 0.0024999583340274967,\n",
       " 'tiered': -0.0012499791670137483,\n",
       " 'cooking': 0.0035416076398746554,\n",
       " \"madman's\": 0.00020832986116836594,\n",
       " 'joely': -0.008749854169082028,\n",
       " 'outfielders': -0.0016666388893469275,\n",
       " \"vacano's\": 0.0008333194446734637,\n",
       " 'succumb': 0.0016666388893469275,\n",
       " 'shocks': 0.004791586806902615,\n",
       " 'jubilantly': -0.002916618056360676,\n",
       " 'rocque': -0.001874968750527728,\n",
       " 'shadowis': 0.001874968750527728,\n",
       " 'china': -0.016249729171136096,\n",
       " 'shandling': 0.0004166597223367319,\n",
       " 'wiseguy': -0.003333277778693855,\n",
       " 'natured': -0.00020832986116836594,\n",
       " 'reggae': 0.0008333194446734637,\n",
       " 'kids': 0.023541274312037785,\n",
       " 'uplifting': 0.00666655555738771,\n",
       " 'controversy': -0.0016666388893469275,\n",
       " 'crowdpleasing': 0.0020832986116943175,\n",
       " 'neurologist': 0.00020832986116836594,\n",
       " 'spotty': -0.0035416076398746554,\n",
       " 'comicbookgonefeaturefilm': 0.0045832569456933925,\n",
       " 'golden': 0.010416493058414744,\n",
       " 'cobblers': -0.00020832986116836594,\n",
       " 'projection': 0.0008333194446734637,\n",
       " 'bowielike': 0.00020832986116836594,\n",
       " 'panslavic': 0.00020832986116836594,\n",
       " 'outraging': 0.0004166597223367319,\n",
       " 'lengthen': -0.0016666388893469275,\n",
       " 'emerich': 0.0008333194446734637,\n",
       " 'unsinkable': 0.0004166597223367319,\n",
       " 'stern': 0.00666655555738771,\n",
       " 'dna': 0.0020832986116943175,\n",
       " 'catchy': 0.012916451392470663,\n",
       " 'insecurity': 0.0004166597223367319,\n",
       " 'cannibal': 0.0024999583340274967,\n",
       " 'sidebars': 0.0008333194446734637,\n",
       " \"vampire's\": -0.0008333194446734637,\n",
       " 'music': 0.014166430559498622,\n",
       " 'therefore': 0.008541524307929649,\n",
       " 'mystic': 0.0008333194446734637,\n",
       " 'thingsgoneawry': 0.003333277778693855,\n",
       " 'deloreans': -0.004791586806902615,\n",
       " 'mesmerize': 0.00020832986116836594,\n",
       " 'atodds': 0.0004166597223367319,\n",
       " 'yahoo': -0.024374593756874674,\n",
       " 'quigon': 0.01687471875470692,\n",
       " 'meteorologist': 0.004999916668054993,\n",
       " 'jadziabolek': -0.004166597223388635,\n",
       " 'eggar': 0.00020832986116836594,\n",
       " 'boorman': -0.019791336811067595,\n",
       " 'tomes': -0.0020832986116943175,\n",
       " 'exco': 0.0022916284728466962,\n",
       " 'drugaddiction': 0.0031249479175414763,\n",
       " 'circumstances': 0.009166513891386785,\n",
       " 'reingold': 0.00020832986116836594,\n",
       " \"captain's\": 0.0010416493058471588,\n",
       " 'locked': 0.0045832569456933925,\n",
       " 'daqughter': -0.0020832986116943175,\n",
       " \"malka's\": 0.0008333194446734637,\n",
       " 'locker': -0.00020832986116836594,\n",
       " 'locket': 0.0031249479175414763,\n",
       " 'soundbite': 0.00020832986116836594,\n",
       " 'gershon': 0.004999916668054993,\n",
       " 'coulda': 0.0020832986116943175,\n",
       " 'matilda': -0.001874968750527728,\n",
       " 'kidnapperkiller': -0.0024999583340274967,\n",
       " 'wang': 0.0031249479175414763,\n",
       " 'wane': -0.00020832986116836594,\n",
       " 'portorican': -0.0012499791670137483,\n",
       " 'dishearteningly': 0.0004166597223367319,\n",
       " 'want': 0.02687455209070322,\n",
       " 'chesslike': 0.0004166597223367319,\n",
       " 'absolute': -0.006458225696235331,\n",
       " 'vicent': -0.001874968750527728,\n",
       " 'beyer': -0.001874968750527728,\n",
       " 'travel': -0.022291295145123513,\n",
       " 'copious': 0.004374927084541014,\n",
       " 'disbelieving': 0.001458309028180338,\n",
       " 'rudnick': 0.0004166597223367319,\n",
       " 'dangerfield': -0.0006249895835068742,\n",
       " 'dared': 0.0004166597223367319,\n",
       " 'prostitues': -0.002708288195208297,\n",
       " 'cadence': -0.0006249895835068742,\n",
       " 'selfesteem': -0.0012499791670137483,\n",
       " \"execution's\": -0.0022916284728466962,\n",
       " 'thivisol': 0.0004166597223367319,\n",
       " 'dinosaurs': 0.016249729171136096,\n",
       " 'wrong': 0.01895801736645808,\n",
       " 'acerbity': -0.00020832986116836594,\n",
       " 'sentencing': 0.0008333194446734637,\n",
       " 'cleavagebusting': -0.00937484375265285,\n",
       " 'promotion': -0.005833236112721352,\n",
       " 'colorfully': 0.00020832986116836594,\n",
       " 'glenne': -0.003749937501055456,\n",
       " 'subplots': -0.02499958334033181,\n",
       " 'sickening': -0.013749770837193864,\n",
       " 'tulip': -0.001874968750527728,\n",
       " '18th': -0.001458309028180338,\n",
       " 'perpetrator': -0.00791653472441567,\n",
       " 'nonsensical': -0.004791586806902615,\n",
       " 'romper': 0.001458309028180338,\n",
       " 'disengaging': -0.0006249895835068742,\n",
       " 'snugly': 0.0006249895835068742,\n",
       " \"twit'\": -0.001458309028180338,\n",
       " 'welcomed': 0.0024999583340274967,\n",
       " 'stoicism': 0.0016666388893469275,\n",
       " 'whizzing': -0.0016666388893469275,\n",
       " 'matsumoto': 0.00020832986116836594,\n",
       " 'sidekicks': 0.008541524307929649,\n",
       " 'rewarded': 0.003749937501055456,\n",
       " 'playhouse': 0.001458309028180338,\n",
       " 'landonce': -0.0016666388893469275,\n",
       " \"series's\": 0.0024999583340274967,\n",
       " 'fit': 0.007499875002110912,\n",
       " 'screaming': -0.0008333194446734637,\n",
       " 'fix': -0.005833236112721352,\n",
       " 'fig': -0.00020832986116836594,\n",
       " 'wales': 0.0006249895835068742,\n",
       " 'fin': 0.002916618056360676,\n",
       " 'zucker': -6.009907141520197e-18,\n",
       " 'songwriter': -0.0012499791670137483,\n",
       " 'municipality': -0.0024999583340274967,\n",
       " 'sneakysmart': -0.003958267362207835,\n",
       " 'recollections': 0.0016666388893469275,\n",
       " 'effects': 0.022499625006275892,\n",
       " 'multidimensional': 0.004374927084541014,\n",
       " 'sixteen': 0.006874885418596932,\n",
       " 'undeveloped': -0.006874885418596932,\n",
       " 'saddened': 0.001458309028180338,\n",
       " 'whacking': -0.001458309028180338,\n",
       " 'bartok': 0.002916618056360676,\n",
       " 'barton': -0.0008333194446734637,\n",
       " 'foregin': -0.0006249895835068742,\n",
       " 'sugarplums': 0.001458309028180338,\n",
       " 'frewer': -0.001458309028180338,\n",
       " 'cronenberggore': -0.003749937501055456,\n",
       " 'neonazis': -0.0024999583340274967,\n",
       " 'arrow': 0.006041565973930574,\n",
       " 'ingrid': 0.001458309028180338,\n",
       " 'burial': 0.001458309028180338,\n",
       " 'allah': 0.00020832986116836594,\n",
       " 'allan': -0.009166513891386785,\n",
       " 'parasites': 0.005624906251568973,\n",
       " \"soundwe're\": 0.0004166597223367319,\n",
       " '`john': 0.0012499791670137483,\n",
       " 'supertech': 0.0004166597223367319,\n",
       " '`run': 0.0012499791670137483,\n",
       " 'touts': -0.0035416076398746554,\n",
       " 'oprah': 0.003958267362207835,\n",
       " 'smirk': -0.00020832986116836594,\n",
       " 'scrumptiously': -0.0006249895835068742,\n",
       " \"reeves'\": -0.012499791670165905,\n",
       " 'angular': 0.0016666388893469275,\n",
       " 'encourage': 0.0016666388893469275,\n",
       " 'adapt': -0.0010416493058471588,\n",
       " 'zellwegger': -0.004166597223388635,\n",
       " 'outburst': -0.0008333194446734637,\n",
       " 'abbott': -0.0008333194446734637,\n",
       " 'stamping': 0.0006249895835068742,\n",
       " 'suspensescience': 0.0004166597223367319,\n",
       " 'hf': -0.00020832986116836594,\n",
       " 'tongueandcheek': -0.0031249479175414763,\n",
       " 'beristain': 0.00020832986116836594,\n",
       " 'estimate': -0.0004166597223367319,\n",
       " 'universally': -0.007083215279749311,\n",
       " 'chlorine': -0.0008333194446734637,\n",
       " 'husbands': 0.002916618056360676,\n",
       " 'sickeningly': -0.0012499791670137483,\n",
       " '77yearold': 0.00020832986116836594,\n",
       " \"grabthar's\": 0.0020832986116943175,\n",
       " 'disturbed': -0.0035416076398746554,\n",
       " 'dentures': -0.0004166597223367319,\n",
       " 'loudness': -0.0031249479175414763,\n",
       " 'stripe': 0.0020832986116943175,\n",
       " 'popularbutslow': 0.0024999583340274967,\n",
       " 'disfigured': 0.003749937501055456,\n",
       " \"damme's\": -0.002916618056360676,\n",
       " 'stylistics': 0.0012499791670137483,\n",
       " 'megabytes': 0.002708288195208297,\n",
       " 'tusks': -0.0004166597223367319,\n",
       " 'sooty': 0.005416576390416594,\n",
       " 'olds': -0.0035416076398746554,\n",
       " \"verhoven's\": -0.004166597223388635,\n",
       " 'renovated': 0.00020832986116836594,\n",
       " 'service': 0.02062465625567711,\n",
       " 'forrester': 0.007083215279749311,\n",
       " 'corsucant': 0.00020832986116836594,\n",
       " 'reuben': 0.013124781253623041,\n",
       " 'needed': -0.010833152780833188,\n",
       " 'master': 0.03333277778710908,\n",
       " '_2001_': -0.00020832986116836594,\n",
       " 'critter': 0.00833319444677727,\n",
       " \"feelin'\": 0.0004166597223367319,\n",
       " 'genesis': -0.0006249895835068742,\n",
       " 'weendigo': 0.0008333194446734637,\n",
       " 'caitlyn': -0.002916618056360676,\n",
       " 'rewards': -0.0062498958350829525,\n",
       " 'oingo': 0.00020832986116836594,\n",
       " 'task': -0.029999500008443647,\n",
       " 'mutilated': -0.006458225696235331,\n",
       " \"knott's\": -0.0022916284728466962,\n",
       " 'positively': 0.00020832986116836594,\n",
       " 'ahmed': -0.017916368060468812,\n",
       " 'zoomout': 0.0016666388893469275,\n",
       " 'handcuffs': -0.003333277778693855,\n",
       " 'meditative': 0.0004166597223367319,\n",
       " 'idly': -0.0006249895835068742,\n",
       " 'idle': 0.004791586806902615,\n",
       " 'sheen': 0.009791503474957608,\n",
       " 'feeling': 0.028332861118997243,\n",
       " \"oscar's\": -0.003333277778693855,\n",
       " 'nobudget': -0.00020832986116836594,\n",
       " 'longs': 0.0004166597223367319,\n",
       " 'sustaining': 0.0031249479175414763,\n",
       " 'politely': 0.001874968750527728,\n",
       " 'spectrum': -0.0004166597223367319,\n",
       " 'newsreels': -0.0022916284728466962,\n",
       " 'bogan': 0.0004166597223367319,\n",
       " 'coachmen': 0.0016666388893469275,\n",
       " 'urinate': 0.0020832986116943175,\n",
       " 'dozen': 0.010416493058414744,\n",
       " 'affairs': -0.004791586806902615,\n",
       " 'wholesome': 0.004166597223388635,\n",
       " 'mostly': 0.010624822919567123,\n",
       " 'portillo': 0.0008333194446734637,\n",
       " 'uncouth': -0.0022916284728466962,\n",
       " 'racers': 0.0008333194446734637,\n",
       " 'workmates': 0.0020832986116943175,\n",
       " 'stephanopolusstyle': 0.0016666388893469275,\n",
       " 'shipments': 0.0004166597223367319,\n",
       " 'committing': 0.004166597223388635,\n",
       " 'jammed': -0.0006249895835068742,\n",
       " 'limitless': -0.001458309028180338,\n",
       " 'diminishing': 0.0008333194446734637,\n",
       " 'cinematic': -0.02270795486742827,\n",
       " 'resonates': 0.0012499791670137483,\n",
       " 'disjointed': 0.005833236112721352,\n",
       " 'mouth': 0.03979100348351494,\n",
       " 'dollsized': 0.002708288195208297,\n",
       " 'ashes': 0.0010416493058471588,\n",
       " 'expound': -0.0045832569456933925,\n",
       " 'singer': 0.001458309028180338,\n",
       " 'oftplayed': -0.00020832986116836594,\n",
       " \"1987's\": -0.0020832986116943175,\n",
       " \"sirens'\": 0.0020832986116943175,\n",
       " 'singed': -0.0004166597223367319,\n",
       " 'fugitives': 0.0016666388893469275,\n",
       " 'keeble': -0.0062498958350829525,\n",
       " 'rayden': -0.0035416076398746554,\n",
       " 'costello': -0.0006249895835068742,\n",
       " 'scream': 0.04812419793006484,\n",
       " 'saying': -0.012083131947861148,\n",
       " 'teresa': -0.003749937501055456,\n",
       " 'loitered': -0.00020832986116836594,\n",
       " 'rediscovery': 0.0004166597223367319,\n",
       " 'ulcer': 0.003958267362207835,\n",
       " 'tempted': -0.003958267362207835,\n",
       " 'cheaply': -0.0024999583340274967,\n",
       " 'thai': 0.0062498958350829525,\n",
       " 'hounded': -0.0022916284728466962,\n",
       " 'orleans': 0.007083215279749311,\n",
       " 'clicked': -0.00020832986116836594,\n",
       " \"baby's\": 0.02520791320148419,\n",
       " 'rico': 0.019583006949915216,\n",
       " 'blist': -0.00020832986116836594,\n",
       " 'bliss': -0.003749937501055456,\n",
       " 'rick': -0.02499958334033181,\n",
       " 'rich': -0.001874968750527728,\n",
       " 'rice': 0.00791653472441567,\n",
       " 'rica': 0.0016666388893469275,\n",
       " 'plate': 0.0045832569456933925,\n",
       " 'videodrome': -0.007499875002110912,\n",
       " \"nerds'\": -0.0020832986116943175,\n",
       " 'plato': 0.005208246529207372,\n",
       " 'platt': 0.02645789236839846,\n",
       " 'sciorra': 0.00020832986116836594,\n",
       " 'altogether': -0.005208246529207372,\n",
       " 'exspecial': -0.00020832986116836594,\n",
       " \"damnedifyoudon't\": 0.0012499791670137483,\n",
       " 'droning': 0.0004166597223367319,\n",
       " 'stoically': 0.002708288195208297,\n",
       " 'nicely': 0.023749604173190164,\n",
       " 'boarder': 0.0022916284728466962,\n",
       " 'pretzel': -0.0006249895835068742,\n",
       " 'patch': -0.059374010433202784,\n",
       " 'eyelids': -0.0022916284728466962,\n",
       " \"chocolat's\": 0.0004166597223367319,\n",
       " 'boarded': 0.0004166597223367319,\n",
       " \"'ani'\": -0.0006249895835068742,\n",
       " 'crutchcarrying': 0.0010416493058471588,\n",
       " 'heirloom': 0.0012499791670137483,\n",
       " 'clarified': -0.00020832986116836594,\n",
       " 'sensitivity': -0.00020832986116836594,\n",
       " \"apes'\": -0.003749937501055456,\n",
       " '48th': -0.0020832986116943175,\n",
       " 'playfulness': 0.001458309028180338,\n",
       " 'lots': -0.0020832986116943175,\n",
       " 'irs': 0.0008333194446734637,\n",
       " 'droves': -0.0024999583340274967,\n",
       " 'bandaras': -0.003958267362207835,\n",
       " 'gobs': 0.0008333194446734637,\n",
       " 'thingsnielsenboosting': 0.0020832986116943175,\n",
       " 'ira': -0.00937484375265285,\n",
       " 'ire': 0.0004166597223367319,\n",
       " 'wage': 0.00833319444677727,\n",
       " 'extend': -0.003749937501055456,\n",
       " 'nature': 0.02479125347917943,\n",
       " 'lapping': -0.0004166597223367319,\n",
       " 'extent': -0.01916634722761046,\n",
       " \"crystals'\": 0.0006249895835068742,\n",
       " 'tyranny': -0.0016666388893469275,\n",
       " 'hightension': 0.0004166597223367319,\n",
       " 'benigness': 0.002708288195208297,\n",
       " 'veer': 0.004166597223388635,\n",
       " 'ssbas': 0.003749937501055456,\n",
       " 'miyake': 0.00020832986116836594,\n",
       " 'incense': -0.0008333194446734637,\n",
       " 'melinda': 0.0016666388893469275,\n",
       " 'eradicate': 0.003958267362207835,\n",
       " 'zigged': -0.001874968750527728,\n",
       " 'rehash': -0.00833319444677727,\n",
       " 'mortified': -0.0006249895835068742,\n",
       " 'snakegaiter': -0.0031249479175414763,\n",
       " 'gypsies': 0.00020832986116836594,\n",
       " 'fondled': -0.002708288195208297,\n",
       " 'charnel': 0.00020832986116836594,\n",
       " 'affiliated': 0.001458309028180338,\n",
       " 'decapitates': 0.0006249895835068742,\n",
       " 'blonde': 0.0024999583340274967,\n",
       " \"'nother\": 0.00020832986116836594,\n",
       " 'soundalike': -0.003749937501055456,\n",
       " 'underdone': 0.0004166597223367319,\n",
       " 'righteousness': -0.00020832986116836594,\n",
       " 'milquetoast': 0.011666472225442703,\n",
       " 'icebergs': 0.0012499791670137483,\n",
       " 'union': -0.0045832569456933925,\n",
       " 'bactors': 0.0008333194446734637,\n",
       " 'hypererratic': -0.0016666388893469275,\n",
       " 'bothers': 0.00666655555738771,\n",
       " 'much': -0.0187496875053057,\n",
       " 'wyman': 0.0062498958350829525,\n",
       " \"richie's\": -0.0020832986116943175,\n",
       " 'progenitor': 0.003333277778693855,\n",
       " 'fry': 0.0012499791670137483,\n",
       " 'toning': -0.004166597223388635,\n",
       " 'ocious': 0.0004166597223367319,\n",
       " 'toyko': -0.001874968750527728,\n",
       " 'retrospect': 0.0045832569456933925,\n",
       " 'spit': 0.0016666388893469275,\n",
       " 'arkin': -0.008541524307929649,\n",
       " 'freehold': -0.0024999583340274967,\n",
       " 'almasy': -0.015416409726526581,\n",
       " 'circumcision': 0.002916618056360676,\n",
       " 'dave': 0.003333277778693855,\n",
       " 'transitoriented': 0.0008333194446734637,\n",
       " 'doubts': 0.008541524307929649,\n",
       " 'spin': -0.00937484375265285,\n",
       " 'guestquarter': 0.0045832569456933925,\n",
       " \"screenwriters'\": -0.0022916284728466962,\n",
       " 'professionally': -0.004999916668054993,\n",
       " 'employ': 0.0031249479175414763,\n",
       " 'nfeatured': 0.001458309028180338,\n",
       " 'misconstrued': 0.0031249479175414763,\n",
       " 'elaborate': 0.0077082048632632905,\n",
       " 'ditching': 0.0045832569456933925,\n",
       " 'kohn': -0.004166597223388635,\n",
       " 'conditioned': 0.0024999583340274967,\n",
       " 'eighteen': -0.0031249479175414763,\n",
       " 'hyperdrive': 0.0012499791670137483,\n",
       " 'oxymoron': 0.007083215279749311,\n",
       " 'breakfast': 0.004791586806902615,\n",
       " 'hong': -0.017291378477011676,\n",
       " 'spiderscorpioncrab': 0.0008333194446734637,\n",
       " 'portobello': -0.0016666388893469275,\n",
       " 'acquire': 0.00020832986116836594,\n",
       " \"ira's\": -0.0008333194446734637,\n",
       " \"dien's\": -0.0004166597223367319,\n",
       " 'spews': 0.00020832986116836594,\n",
       " 'split': 0.009166513891386785,\n",
       " \"bond's\": 0.003749937501055456,\n",
       " 'outofwater': -0.0010416493058471588,\n",
       " 'principals': -0.00020832986116836594,\n",
       " 'cavanaugh': -0.0024999583340274967,\n",
       " 'boiled': 0.0035416076398746554,\n",
       " 'effortlessly': 0.012291461809013526,\n",
       " 'inadvertently': -0.0008333194446734637,\n",
       " 'rapidfire': -0.0062498958350829525,\n",
       " 'torpedoes': 0.0008333194446734637,\n",
       " \"'helen'\": 0.0004166597223367319,\n",
       " 'marched': 0.0020832986116943175,\n",
       " 'boiler': 0.023124614589733028,\n",
       " 'torpedoed': -0.003333277778693855,\n",
       " 'breakdanced': -0.00020832986116836594,\n",
       " 'noblewoman': 0.001458309028180338,\n",
       " 'mentors': -0.0012499791670137483,\n",
       " 'academic': -0.0020832986116943175,\n",
       " 'academia': 0.00020832986116836594,\n",
       " \"losers'\": -0.00020832986116836594,\n",
       " 'odile': 0.0008333194446734637,\n",
       " 'actionverb': -0.0031249479175414763,\n",
       " 'corporate': 0.00791653472441567,\n",
       " 'massaging': 0.0006249895835068742,\n",
       " 'bellow': -0.0006249895835068742,\n",
       " 'belloq': -0.0008333194446734637,\n",
       " 'absurdities': 0.004166597223388635,\n",
       " 'appropriately': 0.019374677088762837,\n",
       " 'homogeneity': 0.0008333194446734637,\n",
       " 'filmplace': -0.00020832986116836594,\n",
       " 'lasse': 0.0016666388893469275,\n",
       " 'portrayed': 0.04145764237273397,\n",
       " 'lasso': -0.00020832986116836594,\n",
       " \"nicholson's\": 0.0006249895835068742,\n",
       " 'hai': 0.003749937501055456,\n",
       " 'hal': -0.007499875002110912,\n",
       " 'ham': -0.0004166597223367319,\n",
       " 'han': -0.004791586806902615,\n",
       " 'espouses': 0.0012499791670137483,\n",
       " 'had': -0.005416576390416594,\n",
       " 'advancement': -0.0010416493058471588,\n",
       " 'hag': -0.0012499791670137483,\n",
       " 'hay': 0.0006249895835068742,\n",
       " 'mcnamara': -0.0004166597223367319,\n",
       " 'advantages': 0.006458225696235331,\n",
       " 'beloved': 0.01895801736645808,\n",
       " 'hap': -0.0035416076398746554,\n",
       " 'har': -0.003333277778693855,\n",
       " 'has': -0.01333311111477542,\n",
       " 'hat': -0.006458225696235331,\n",
       " 'flubberenhanced': -0.0006249895835068742,\n",
       " 'elders': -3.8783144607787466e-18,\n",
       " 'survival': -0.0020832986116943175,\n",
       " 'unequivocally': 0.007499875002110912,\n",
       " \"farrelly's\": -0.0010416493058471588,\n",
       " 'otherworldly': 0.006458225696235331,\n",
       " 'indicative': -0.004791586806902615,\n",
       " 'yawnfest': -0.0004166597223367319,\n",
       " 'shadow': 0.0024999583340274967,\n",
       " 'flotsam': -0.0004166597223367319,\n",
       " 'ballhaus': -0.0006249895835068742,\n",
       " 'sleuthing': -0.005208246529207372,\n",
       " 'goround': -0.001874968750527728,\n",
       " 'lawyerintraining': 0.0008333194446734637,\n",
       " 'alice': 0.009791503474957608,\n",
       " 'doublepronged': 0.0008333194446734637,\n",
       " 'festivities': -0.003333277778693855,\n",
       " \"laughton's\": 0.0004166597223367319,\n",
       " \"smiths'\": 0.0006249895835068742,\n",
       " 'misdemeanors': -0.002916618056360676,\n",
       " 'unabashedly': -0.011666472225442703,\n",
       " 'attorney': 0.021457975700513998,\n",
       " 'crowd': -0.00020832986116836594,\n",
       " 'crowe': 0.017083048615859298,\n",
       " 'czech': 0.014374760420651,\n",
       " \"furst's\": 0.0004166597223367319,\n",
       " 'crown': -0.011874802086595082,\n",
       " 'begin': -0.03687438542692689,\n",
       " 'captive': -0.0008333194446734637,\n",
       " 'beatng': -0.001458309028180338,\n",
       " \"'three\": -0.0012499791670137483,\n",
       " 'billboard': 0.0012499791670137483,\n",
       " 'namuth': 0.0004166597223367319,\n",
       " \"mctiernan's\": -0.0012499791670137483,\n",
       " 'bottom': -0.032082798619967434,\n",
       " 'chabert': 0.0010416493058471588,\n",
       " 'skullfaces': 0.0004166597223367319,\n",
       " 'inhuman': 0.013749770837193864,\n",
       " 'plucked': -0.0006249895835068742,\n",
       " 'caribbean': -0.0020832986116943175,\n",
       " 'monogamy': 0.0012499791670137483,\n",
       " 'completly': 0.004999916668054993,\n",
       " 'subkoff': -0.003333277778693855,\n",
       " 'unequipped': -0.0006249895835068742,\n",
       " 'rooker': -0.0020832986116943175,\n",
       " \"crow'\": 0.0008333194446734637,\n",
       " 'barcode': 0.001874968750527728,\n",
       " 'starring': 0.00666655555738771,\n",
       " 'krabb': -0.004166597223388635,\n",
       " 'postmarriage': -0.0004166597223367319,\n",
       " 'stoker': 0.0012499791670137483,\n",
       " 'caraciture': 0.0008333194446734637,\n",
       " 'restlessness': 0.0012499791670137483,\n",
       " 'spaceships': 0.00020832986116836594,\n",
       " 'filmcritic': 0.001874968750527728,\n",
       " 'bicentennial': 0.00020832986116836594,\n",
       " 'oneness': 0.0020832986116943175,\n",
       " 'mussenden': 0.00020832986116836594,\n",
       " 'whoaaaaaa': -0.00020832986116836594,\n",
       " 'kilgore': 0.005624906251568973,\n",
       " 'dahlings': -0.001458309028180338,\n",
       " 'mangod': -0.0004166597223367319,\n",
       " 'natureloving': -1.7763272339512086e-19,\n",
       " 'maxwell': -0.005416576390416594,\n",
       " 'marshall': 0.01895801736645808,\n",
       " 'honeymoon': 0.007499875002110912,\n",
       " 'mba': -0.0012499791670137483,\n",
       " \"zallian's\": 0.00020832986116836594,\n",
       " 'beings': 0.022499625006275892,\n",
       " 'hardunearned': -0.00020832986116836594,\n",
       " 'marshals': -0.007499875002110912,\n",
       " 'hallucinogenic': 0.0012499791670137483,\n",
       " 'shoots': -0.026041232646093704,\n",
       " 'aggressivelly': -0.0008333194446734637,\n",
       " 'trendily': -0.0006249895835068742,\n",
       " 'fabric': 0.002916618056360676,\n",
       " 'coordinators': 0.001874968750527728,\n",
       " 'suffice': -0.002916618056360676,\n",
       " 'tame': -0.012708121531318284,\n",
       " 'grasping': 0.010208163197262365,\n",
       " 'despises': 0.00020832986116836594,\n",
       " 'greatness': -0.0004166597223367319,\n",
       " 'rapes': -0.001874968750527728,\n",
       " 'spurting': -0.0012499791670137483,\n",
       " 'hommage': -0.0012499791670137483,\n",
       " 'musclebound': -0.00020832986116836594,\n",
       " 'ballisitic': -0.00020832986116836594,\n",
       " \"wahlberg's\": 0.004166597223388635,\n",
       " \"ribisi's\": 0.0012499791670137483,\n",
       " 'womanabusing': -0.003749937501055456,\n",
       " 'congratulations': -0.002916618056360676,\n",
       " 'hypsy': 0.00020832986116836594,\n",
       " 'masquerading': 0.0012499791670137483,\n",
       " '`pig': 0.0010416493058471588,\n",
       " 'dinnertable': 0.0020832986116943175,\n",
       " 'smashes': 0.0006249895835068742,\n",
       " '1600s': -0.00020832986116836594,\n",
       " 'humbler': 0.00020832986116836594,\n",
       " 'complications': 0.0020832986116943175,\n",
       " 'periphery': 0.001874968750527728,\n",
       " 'smashed': -0.00020832986116836594,\n",
       " 'duet': 0.005416576390416594,\n",
       " 'dues': 0.0006249895835068742,\n",
       " 'passenger': -0.010416493058414744,\n",
       " 'disgrace': -0.0004166597223367319,\n",
       " 'barrymore': 0.009999833336109987,\n",
       " 'unnerve': 0.0020832986116943175,\n",
       " 'yankovich': -0.0062498958350829525,\n",
       " 'foultempered': -0.00020832986116836594,\n",
       " 'decapitation': 0.0062498958350829525,\n",
       " 'writihing': 0.0004166597223367319,\n",
       " 'triangles': 0.0035416076398746554,\n",
       " 'biederman': 0.0004166597223367319,\n",
       " 'dowling': -0.0020832986116943175,\n",
       " 'cambodia': -0.001458309028180338,\n",
       " \"herskovitz's\": 0.0004166597223367319,\n",
       " 'serous': -0.0022916284728466962,\n",
       " 'role': 0.010624822919567123,\n",
       " 'rolf': 0.0045832569456933925,\n",
       " 'vegetative': 0.0012499791670137483,\n",
       " 'wordlessly': 0.0020832986116943175,\n",
       " 'roll': 0.025832902784941325,\n",
       " 'intend': 0.0022916284728466962,\n",
       " 'palms': -0.0012499791670137483,\n",
       " 'slaver': 0.008124864585568048,\n",
       " 'transported': -0.028749520841302,\n",
       " 'palme': 0.001458309028180338,\n",
       " 'mirrorpanel': 0.0004166597223367319,\n",
       " 'comely': -0.0004166597223367319,\n",
       " 'intent': -0.00937484375265285,\n",
       " 'smelling': -0.0031249479175414763,\n",
       " 'variable': 0.0006249895835068742,\n",
       " 'batmans': -0.003333277778693855,\n",
       " 'hawkes': 0.003333277778693855,\n",
       " 'explosions': -0.007083215279749311,\n",
       " 'loren': 0.0012499791670137483,\n",
       " 'shootout': 0.001458309028180338,\n",
       " \"mike's\": 0.012708121531318284,\n",
       " 'innuendos': 0.0012499791670137483,\n",
       " 'overturned': -0.0035416076398746554,\n",
       " 'gown': -0.001458309028180338,\n",
       " 'childs': -0.0024999583340274967,\n",
       " 'cincinnati': -0.0004166597223367319,\n",
       " 'chain': -0.01833302778277357,\n",
       " 'whoever': -0.0008333194446734637,\n",
       " 'diggler': 0.0006249895835068742,\n",
       " 'bandits': 0.005416576390416594,\n",
       " 'chair': 0.0008333194446734637,\n",
       " 'macht': -0.00937484375265285,\n",
       " 'ballet': 0.005624906251568973,\n",
       " 'malintentioned': 0.0010416493058471588,\n",
       " 'grapples': -0.0031249479175414763,\n",
       " \"when's\": -0.001874968750527728,\n",
       " 'bitchie': 0.0008333194446734637,\n",
       " 'freelance': -0.0010416493058471588,\n",
       " 'crates': -0.0016666388893469275,\n",
       " 'crater': -0.0008333194446734637,\n",
       " 'cliched': -0.03291611806480432,\n",
       " 'obssessed': -0.0012499791670137483,\n",
       " 'spurnedpsycholovergetsherrevenge': -0.00020832986116836594,\n",
       " 'oversight': -0.003333277778693855,\n",
       " 'tenacious': 0.0008333194446734637,\n",
       " 'paychecks': -0.005208246529207372,\n",
       " 'jerk': 0.010208163197262365,\n",
       " 'scofield': -0.0020832986116943175,\n",
       " 'prancer': -0.00020832986116836594,\n",
       " 'prances': -0.002708288195208297,\n",
       " 'choice': 0.005416576390416594,\n",
       " 'lark': -0.0004166597223367319,\n",
       " 'embark': 0.004791586806902615,\n",
       " 'gloomy': -0.009999833336109987,\n",
       " 'ghostbusters': -0.008541524307929649,\n",
       " 'stays': -0.008749854169082028,\n",
       " 'exact': -0.023124614589733028,\n",
       " 'minute': -0.03770770487153641,\n",
       " 'iithe': 0.00020832986116836594,\n",
       " 'whackedout': 3.049361751618345e-18,\n",
       " 'minnie': 0.009999833336109987,\n",
       " 'skewed': 0.006041565973930574,\n",
       " 'easilyangered': -0.00020832986116836594,\n",
       " 'skewer': 0.002916618056360676,\n",
       " 'honesttogoodness': 0.0022916284728466962,\n",
       " '#137': -0.0006249895835068742,\n",
       " 'xenophobe': 0.0008333194446734637,\n",
       " 'dryburgh': 0.00666655555738771,\n",
       " 'trails': 0.0004166597223367319,\n",
       " \"martha's\": -0.003958267362207835,\n",
       " 'heavyweight': 0.0062498958350829525,\n",
       " 'chopping': -0.0004166597223367319,\n",
       " 'shirts': 0.001874968750527728,\n",
       " \"ampbell's\": 0.005833236112721352,\n",
       " \"'back\": -0.003749937501055456,\n",
       " 'excerpts': 0.001874968750527728,\n",
       " 'headset': -0.002916618056360676,\n",
       " 'lavishness': 0.001458309028180338,\n",
       " 'massironi': 0.010416493058414744,\n",
       " 'antwerp': -0.0020832986116943175,\n",
       " 'celebrated': 0.0077082048632632905,\n",
       " '300': 0.003958267362207835,\n",
       " 'circa10th': -0.004374927084541014,\n",
       " 'fantsy': 0.00020832986116836594,\n",
       " 'boost': 0.008749854169082028,\n",
       " 'unintentionally': -0.00958317361380523,\n",
       " 'drafted': 0.001458309028180338,\n",
       " 'oldies': 0.00020832986116836594,\n",
       " 'climbs': -0.004166597223388635,\n",
       " 'honour': 0.008541524307929649,\n",
       " 'address': -0.006874885418596932,\n",
       " 'reclining': 0.002708288195208297,\n",
       " 'friendfriend': 0.0010416493058471588,\n",
       " 'benson': 0.009166513891386785,\n",
       " 'mafioso': -0.0008333194446734637,\n",
       " 'revenues': -0.004374927084541014,\n",
       " 'accomplishes': 0.00729154514090169,\n",
       " 'dusty': 0.004166597223388635,\n",
       " 'impacted': 0.0045832569456933925,\n",
       " 'cusack': 0.0187496875053057,\n",
       " 'accomplished': 0.005416576390416594,\n",
       " 'irregulars': 0.0010416493058471588,\n",
       " 'unsurprisingfashion': 0.001874968750527728,\n",
       " 'expressively': 0.002916618056360676,\n",
       " 'enrols': 0.00020832986116836594,\n",
       " 'influx': -0.00020832986116836594,\n",
       " 'armmounted': -0.0020832986116943175,\n",
       " 'houseman': -0.0024999583340274967,\n",
       " 'betraying': -0.0020832986116943175,\n",
       " 'fakery': -0.0016666388893469275,\n",
       " \"54's\": 0.001874968750527728,\n",
       " 'darnell': -0.0062498958350829525,\n",
       " 'undergone': 0.001458309028180338,\n",
       " 'northen': -0.0008333194446734637,\n",
       " 'working': 0.013124781253623041,\n",
       " \"snake's\": 0.0012499791670137483,\n",
       " 'chugs': -0.0022916284728466962,\n",
       " \"bowman's\": 0.00020832986116836594,\n",
       " 'goodfilmmaking': -0.0006249895835068742,\n",
       " \"'dude'\": -0.005416576390416594,\n",
       " 'opposed': 0.005416576390416594,\n",
       " 'unjust': 0.00020832986116836594,\n",
       " 'threeyearold': -0.008749854169082028,\n",
       " 'familar': 0.007499875002110912,\n",
       " \"wonders'\": 0.007083215279749311,\n",
       " 'israel': 0.0016666388893469275,\n",
       " 'assimilation': 0.003333277778693855,\n",
       " 'callwaiting': -0.0004166597223367319,\n",
       " 'sierra': 0.0045832569456933925,\n",
       " 'consoles': -0.004166597223388635,\n",
       " 'riders': 0.008124864585568048,\n",
       " 'rebounding': 0.003333277778693855,\n",
       " 'lowercase': 0.0012499791670137483,\n",
       " 'originally': 0.0010416493058471588,\n",
       " 'abortion': 0.022082965283971134,\n",
       " 'harmonious': 0.00020832986116836594,\n",
       " 'following': -0.005208246529207372,\n",
       " 'zippers': 0.003958267362207835,\n",
       " 'admired': 0.024374593756874674,\n",
       " 'flashbacktype': 0.0004166597223367319,\n",
       " 'mirrors': -0.0008333194446734637,\n",
       " 'ragstoriches': 0.001874968750527728,\n",
       " 'stetson': 0.001874968750527728,\n",
       " \"spadowski's\": 0.001458309028180338,\n",
       " 'parachute': -0.0012499791670137483,\n",
       " 'locks': -0.00937484375265285,\n",
       " 'admires': 0.001874968750527728,\n",
       " 'admirer': -0.0010416493058471588,\n",
       " 'listens': -0.009166513891386785,\n",
       " \"'never\": -0.0024999583340274967,\n",
       " 'septic': -0.0031249479175414763,\n",
       " 'slamdunking': 0.0020832986116943175,\n",
       " 'vainly': 0.0004166597223367319,\n",
       " 'thanking': -0.002708288195208297,\n",
       " 'edouard': 0.001458309028180338,\n",
       " 'maude': 0.0016666388893469275,\n",
       " 'illluck': 0.0006249895835068742,\n",
       " 'beatnik': 0.0004166597223367319,\n",
       " 'rewatched': -0.011874802086595082,\n",
       " 'mintues': -0.0008333194446734637,\n",
       " 'mythos': 0.0004166597223367319,\n",
       " 'convincingly': -0.00833319444677727,\n",
       " \"weaving's\": 0.0008333194446734637,\n",
       " 'fueled': 0.00666655555738771,\n",
       " 'meddled': -0.0020832986116943175,\n",
       " 'commensurately': 0.0012499791670137483,\n",
       " 'brainless': -0.007499875002110912,\n",
       " 'egotistical': -0.002916618056360676,\n",
       " 'surfing': -0.0006249895835068742,\n",
       " 'jonnie': -0.004999916668054993,\n",
       " 'conscious': -0.004791586806902615,\n",
       " 'inhabiting': 0.006874885418596932,\n",
       " 'nebbish': -0.009791503474957608,\n",
       " 'skirmish': -0.0020832986116943175,\n",
       " 'wolves': -0.0031249479175414763,\n",
       " 'pulled': 0.007083215279749311,\n",
       " 'manga': 0.0012499791670137483,\n",
       " 'impactful': 0.0022916284728466962,\n",
       " 'relationshipsfromhell': -0.0035416076398746554,\n",
       " \"mckean's\": 0.0004166597223367319,\n",
       " 'years': 0.03979100348351494,\n",
       " 'professors': -0.005833236112721352,\n",
       " 'structuring': 0.0008333194446734637,\n",
       " 'episodes': 0.02479125347917943,\n",
       " 'professory': -0.0004166597223367319,\n",
       " \"boy'\": 0.00020832986116836594,\n",
       " 'overlord': 0.002708288195208297,\n",
       " 'disconnect': -0.003749937501055456,\n",
       " 'centuryfox': 0.0004166597223367319,\n",
       " 'slimeball': 0.0016666388893469275,\n",
       " 'milked': 0.004791586806902615,\n",
       " 'jim': 0.0031249479175414763,\n",
       " 'troubles': 0.0077082048632632905,\n",
       " \"idol's\": 0.0008333194446734637,\n",
       " 'playback': -0.002916618056360676,\n",
       " 'wahlberg': 0.011249812503137946,\n",
       " 'jip': 0.0008333194446734637,\n",
       " 'suspension': 0.00020832986116836594,\n",
       " 'troubled': 0.015416409726526581,\n",
       " \"dead'\": 0.004999916668054993,\n",
       " 'modestly': 0.00020832986116836594,\n",
       " 'civilian': 0.0016666388893469275,\n",
       " 'courageously': -1.924354503445039e-18,\n",
       " 'indigenous': 0.0004166597223367319,\n",
       " 'overpowering': 0.0035416076398746554,\n",
       " 'drilling': -0.001874968750527728,\n",
       " 'workmanlike': -0.0045832569456933925,\n",
       " 'henpecked': -0.0031249479175414763,\n",
       " 'sorted': 0.001458309028180338,\n",
       " '\\\\': 0.010624822919567123,\n",
       " 'asianamerican': -0.0031249479175414763,\n",
       " 'materialized': 0.0016666388893469275,\n",
       " 'didn': 0.005416576390416594,\n",
       " 'didi': 0.0016666388893469275,\n",
       " 'cleancut': 0.003958267362207835,\n",
       " 'fisherman': -0.005833236112721352,\n",
       " 'battleships': 0.0012499791670137483,\n",
       " 'instability': -0.003749937501055456,\n",
       " 'slaveship': 0.008124864585568048,\n",
       " \"leia's\": 0.0004166597223367319,\n",
       " 'quartet': -0.0031249479175414763,\n",
       " 'materializes': -0.003958267362207835,\n",
       " 'retrieve': -0.00729154514090169,\n",
       " 'bursting': -0.003749937501055456,\n",
       " 'remembrance': 0.00020832986116836594,\n",
       " 'sponsor': 0.0024999583340274967,\n",
       " 'entering': 0.00833319444677727,\n",
       " 'disasters': 0.004166597223388635,\n",
       " 'crosspromotion': 0.002916618056360676,\n",
       " 'interned': 0.004791586806902615,\n",
       " 'yojimbo': -0.0016666388893469275,\n",
       " 'disaster_': 0.003958267362207835,\n",
       " 'seriously': -0.02916618056360676,\n",
       " 'trauma': -0.003958267362207835,\n",
       " 'atrice': -0.001874968750527728,\n",
       " 'internet': 0.010416493058414744,\n",
       " \"rachel's\": -0.0006249895835068742,\n",
       " 'merpeople': 0.0031249479175414763,\n",
       " 'stravinsky': 0.00020832986116836594,\n",
       " 'igniting': -0.004374927084541014,\n",
       " 'calming': 0.0010416493058471588,\n",
       " 'hairdresser': -0.002708288195208297,\n",
       " \"continuity's\": -0.004999916668054993,\n",
       " \"odette's\": -0.00020832986116836594,\n",
       " 'grandma': 0.005833236112721352,\n",
       " 'carboncopy': -0.0031249479175414763,\n",
       " 'reevaluating': 0.0006249895835068742,\n",
       " 'marla': 0.006874885418596932,\n",
       " 'hohummer': -0.00020832986116836594,\n",
       " 'modest': 0.003333277778693855,\n",
       " 'marlo': -0.002916618056360676,\n",
       " \"everything's\": 0.00020832986116836594,\n",
       " 'initiate': -0.0045832569456933925,\n",
       " 'aboard': 0.009166513891386785,\n",
       " 'neglect': -0.0006249895835068742,\n",
       " 'emotion': -0.010624822919567123,\n",
       " 'gunshot': 0.004166597223388635,\n",
       " 'tingles': 0.0010416493058471588,\n",
       " 'saving': -0.006041565973930574,\n",
       " 'ingnorant': -0.004999916668054993,\n",
       " '`no': 0.006874885418596932,\n",
       " 'spoken': -0.002708288195208297,\n",
       " 'velda': -0.004999916668054993,\n",
       " 'savini': -0.0031249479175414763,\n",
       " 'westlake': 0.0022916284728466962,\n",
       " 'reprisal': -0.0024999583340274967,\n",
       " 'one': 0.04812419793006484,\n",
       " 'ony': 0.0008333194446734637,\n",
       " 'punishable': -0.006458225696235331,\n",
       " 'haviland': -0.0006249895835068742,\n",
       " 'tamara': 0.00020832986116836594,\n",
       " 'onw': -0.0008333194446734637,\n",
       " 'plotless': -0.0012499791670137483,\n",
       " 'exaggerations': -0.0004166597223367319,\n",
       " 'stifler': -0.0016666388893469275,\n",
       " \"boston's\": -0.0022916284728466962,\n",
       " 'pharmaceuticals': -0.0022916284728466962,\n",
       " 'oversimplifies': 0.00020832986116836594,\n",
       " 'stifled': -0.0020832986116943175,\n",
       " 'types': 0.009791503474957608,\n",
       " 'oversimplified': 0.0004166597223367319,\n",
       " 'lingering': 0.0006249895835068742,\n",
       " 'featherbrained': -0.00020832986116836594,\n",
       " \"abraham's\": 0.004791586806902615,\n",
       " 'cherbourg': 0.00020832986116836594,\n",
       " 'shawn': -0.008124864585568048,\n",
       " 'surges': -0.0024999583340274967,\n",
       " \"on'\": 0.0004166597223367319,\n",
       " 'snatch': 0.0004166597223367319,\n",
       " 'devito': 0.009999833336109987,\n",
       " 'hiphoppy': 0.0020832986116943175,\n",
       " 'dissertations': 0.00020832986116836594,\n",
       " 'absorbs': -0.0010416493058471588,\n",
       " 'hoyle': 0.00937484375265285,\n",
       " \"payne's\": 0.001458309028180338,\n",
       " 'crossroads': -0.005416576390416594,\n",
       " 'rehab': 0.0012499791670137483,\n",
       " 'wandering': 0.0020832986116943175,\n",
       " \"disco's\": 0.0012499791670137483,\n",
       " 'bulow': 0.0024999583340274967,\n",
       " 'illness': -0.00020832986116836594,\n",
       " 'stylings': 0.00020832986116836594,\n",
       " 'sumptuous': -0.002916618056360676,\n",
       " 'turned': -0.020207996533372352,\n",
       " 'locations': -0.012708121531318284,\n",
       " 'jewels': 0.001458309028180338,\n",
       " 'balsan': 0.0006249895835068742,\n",
       " 'uninterrupted': -0.0024999583340274967,\n",
       " 'turner': 0.015208079865374202,\n",
       " 'politicos': 0.0004166597223367319,\n",
       " 'underlines': -0.00020832986116836594,\n",
       " 'pounded': -0.0006249895835068742,\n",
       " 'fashionable': 0.001458309028180338,\n",
       " 'coliseum': -0.0006249895835068742,\n",
       " 'zoo': 0.005208246529207372,\n",
       " 'topselling': 0.001458309028180338,\n",
       " 'intends': 0.0008333194446734637,\n",
       " 'martineau': 0.00020832986116836594,\n",
       " 'mayer': -0.00020832986116836594,\n",
       " 'pimple': -0.001874968750527728,\n",
       " 'eventempered': -0.004999916668054993,\n",
       " 'motivational': -0.0004166597223367319,\n",
       " 'opposite': -0.012916451392470663,\n",
       " 'discerning': -0.002708288195208297,\n",
       " 'spewing': 0.0024999583340274967,\n",
       " 'buffet': -0.0031249479175414763,\n",
       " 'boyo': 0.0006249895835068742,\n",
       " 'printed': -0.00958317361380523,\n",
       " 'knowingly': 0.0016666388893469275,\n",
       " 'biggerthanlife': 0.0024999583340274967,\n",
       " 'touchy': 0.00666655555738771,\n",
       " 'phil': -0.05062415626389338,\n",
       " 'directorgeorge': 0.0012499791670137483,\n",
       " 'toucha': 0.004791586806902615,\n",
       " 'spa': 0.0022916284728466962,\n",
       " \"leder's\": -0.0035416076398746554,\n",
       " 'jittery': 0.003333277778693855,\n",
       " '_porkys_': 0.003958267362207835,\n",
       " \"slade's\": 0.0008333194446734637,\n",
       " 'toooverthetop': -0.0004166597223367319,\n",
       " 'feuds': 0.0006249895835068742,\n",
       " 'delroy': -0.0010416493058471588,\n",
       " 'wynn': -0.002708288195208297,\n",
       " 'imagines': -0.0010416493058471588,\n",
       " 'friction': -0.0016666388893469275,\n",
       " 'fecal': -0.0008333194446734637,\n",
       " 'inconsistent': -0.004791586806902615,\n",
       " 'jointsmoking': 0.004791586806902615,\n",
       " 'subsidiary': 0.00020832986116836594,\n",
       " \"tourist's\": 0.0004166597223367319,\n",
       " 'soviets': 0.00020832986116836594,\n",
       " 'studentteacher': 0.0024999583340274967,\n",
       " 'imagined': -0.005833236112721352,\n",
       " 'wynt': -0.0022916284728466962,\n",
       " 'seminal': 0.0006249895835068742,\n",
       " 'zahn': 0.001874968750527728,\n",
       " 'reconciling': -0.0024999583340274967,\n",
       " 'subsist': -0.0004166597223367319,\n",
       " 'coaxing': -0.0008333194446734637,\n",
       " \"inmate's\": 0.0006249895835068742,\n",
       " 'torsten': -0.0024999583340274967,\n",
       " 'guarded': -3.2565999288895127e-19,\n",
       " 'recognisable': 0.0006249895835068742,\n",
       " 'suitcases': -0.0022916284728466962,\n",
       " 'revolutionized': 0.00020832986116836594,\n",
       " 'tilting': -0.00020832986116836594,\n",
       " 'keiying': 0.0010416493058471588,\n",
       " 'simplistic': 0.001874968750527728,\n",
       " 'awaiting': 0.0062498958350829525,\n",
       " '`groundhog': 0.00020832986116836594,\n",
       " 'partnered': 0.0004166597223367319,\n",
       " 'pimp': -0.034166097231718595,\n",
       " \"lover's\": -0.0006249895835068742,\n",
       " 'carrion': 0.0008333194446734637,\n",
       " \"luc's\": -0.0020832986116943175,\n",
       " \"could've\": 0.0022916284728466962,\n",
       " 'recoiling': 0.0012499791670137483,\n",
       " \"alien's\": 0.0006249895835068742,\n",
       " 'vision': 0.010833152780833188,\n",
       " 'morose': -0.003749937501055456,\n",
       " 'attenuated': -0.0035416076398746554,\n",
       " 'underbids': 0.0004166597223367319,\n",
       " 'impressions': -4.322396269260238e-18,\n",
       " 'intoxicating': -0.0012499791670137483,\n",
       " 'aboslutely': -0.0006249895835068742,\n",
       " 'defensively': 0.0020832986116943175,\n",
       " 'retells': 0.00020832986116836594,\n",
       " 'masturbatory': -0.003333277778693855,\n",
       " 'harvey': 0.004999916668054993,\n",
       " 'dismemberment': -0.004374927084541014,\n",
       " 'moons': 0.001458309028180338,\n",
       " 'enjoys': -0.002916618056360676,\n",
       " 'welcomes': -0.003333277778693855,\n",
       " 'caan': 0.005208246529207372,\n",
       " 'tsui': -0.0012499791670137483,\n",
       " 'lyricized': 0.0004166597223367319,\n",
       " 'braggarts': -0.002916618056360676,\n",
       " 'punts': -0.0020832986116943175,\n",
       " 'awards': 0.012083131947861148,\n",
       " 'selfproclaimed': 0.004791586806902615,\n",
       " 'wickedly': -0.0010416493058471588,\n",
       " 'uncharacteristically': -0.0045832569456933925,\n",
       " 'concentrated': -0.006874885418596932,\n",
       " 'busting': 0.0012499791670137483,\n",
       " \"west'\": 0.00020832986116836594,\n",
       " ...}"
      ]
     },
     "execution_count": 94,
     "metadata": {},
     "output_type": "execute_result"
    }
   ],
   "source": [
    "w_iw"
   ]
  },
  {
   "cell_type": "markdown",
   "metadata": {},
   "source": [
    "### 7 error analysis"
   ]
  },
  {
   "cell_type": "code",
   "execution_count": 716,
   "metadata": {
    "collapsed": false
   },
   "outputs": [
    {
     "name": "stdout",
     "output_type": "stream",
     "text": [
      "time = 5.97753810883\n"
     ]
    }
   ],
   "source": [
    "optimal_w =  pegasos_accelerate_algorithm(Text_train_dic_list,y_train,0.01,33,{})"
   ]
  },
  {
   "cell_type": "code",
   "execution_count": 717,
   "metadata": {
    "collapsed": true
   },
   "outputs": [],
   "source": [
    "def get_zero_one_loss(text_train,y_train,w):\n",
    "    predict_list = []\n",
    "    num_instance = len(y_train)\n",
    "    for i in range(num_instance):\n",
    "        predict_list.append(dotProduct(text_train[i],w))\n",
    "    result = map(lambda x,y:x*y,predict_list,y_train)\n",
    "    \n",
    "    return np.mean(np.sign(result)<0)\n"
   ]
  },
  {
   "cell_type": "code",
   "execution_count": 718,
   "metadata": {
    "collapsed": false
   },
   "outputs": [
    {
     "data": {
      "text/plain": [
       "0.17199999999999999"
      ]
     },
     "execution_count": 718,
     "metadata": {},
     "output_type": "execute_result"
    }
   ],
   "source": [
    "get_zero_one_loss(Text_test_dic_list,y_test,optimal_w)"
   ]
  },
  {
   "cell_type": "code",
   "execution_count": 719,
   "metadata": {
    "collapsed": false
   },
   "outputs": [],
   "source": [
    "def get_the_wrong_item(text_train,y_train,w):\n",
    "    predict_list = []\n",
    "    num_instance = len(y_train)\n",
    "    for i in range(num_instance):\n",
    "        predict_list.append(dotProduct(text_train[i],w))\n",
    "    result = map(lambda x,y:x*y,predict_list,y_train)\n",
    "    \n",
    "    return result, np.mean(np.sign(result)<0)"
   ]
  },
  {
   "cell_type": "code",
   "execution_count": 720,
   "metadata": {
    "collapsed": false
   },
   "outputs": [],
   "source": [
    "wrong_items,value = get_the_wrong_item(Text_test_dic_list,y_test,optimal_w)"
   ]
  },
  {
   "cell_type": "code",
   "execution_count": 721,
   "metadata": {
    "collapsed": false
   },
   "outputs": [],
   "source": [
    "index_l = []\n",
    "for i in range(len(wrong_items)):\n",
    "\n",
    "    if wrong_items[i]<0:\n",
    "        index_l.append(i)\n",
    "        "
   ]
  },
  {
   "cell_type": "code",
   "execution_count": 794,
   "metadata": {
    "collapsed": false
   },
   "outputs": [
    {
     "data": {
      "text/plain": [
       "-1"
      ]
     },
     "execution_count": 794,
     "metadata": {},
     "output_type": "execute_result"
    }
   ],
   "source": [
    "y_test[70]"
   ]
  },
  {
   "cell_type": "code",
   "execution_count": 736,
   "metadata": {
    "collapsed": false
   },
   "outputs": [
    {
     "data": {
      "text/plain": [
       "[10, 14, 15, 25, 26, 33, 41, 43, 58, 70]"
      ]
     },
     "execution_count": 736,
     "metadata": {},
     "output_type": "execute_result"
    }
   ],
   "source": [
    "index_l[:10]"
   ]
  },
  {
   "cell_type": "code",
   "execution_count": 795,
   "metadata": {
    "collapsed": false
   },
   "outputs": [
    {
     "data": {
      "text/plain": [
       "Counter({'1971': 1,\n",
       "         \"60's\": 1,\n",
       "         '?': 2,\n",
       "         'a': 29,\n",
       "         'able': 1,\n",
       "         'about': 1,\n",
       "         'acid': 6,\n",
       "         'activist': 1,\n",
       "         'actosta': 1,\n",
       "         'against': 1,\n",
       "         'aggressive': 1,\n",
       "         'ago': 1,\n",
       "         \"airplane's\": 1,\n",
       "         'akroyd': 1,\n",
       "         'alex': 2,\n",
       "         'all': 4,\n",
       "         'allow': 1,\n",
       "         'also': 1,\n",
       "         'always': 1,\n",
       "         'am': 1,\n",
       "         'american': 1,\n",
       "         'amidst': 1,\n",
       "         'amyl': 1,\n",
       "         'an': 4,\n",
       "         'and': 32,\n",
       "         'anyway': 1,\n",
       "         'are': 5,\n",
       "         'as': 11,\n",
       "         'assent': 1,\n",
       "         'at': 1,\n",
       "         'attacked': 1,\n",
       "         'attorney': 1,\n",
       "         \"attorney's\": 1,\n",
       "         'available': 1,\n",
       "         'back': 1,\n",
       "         'bag': 1,\n",
       "         'bare': 1,\n",
       "         'bathtub': 1,\n",
       "         'bats': 1,\n",
       "         'be': 2,\n",
       "         'because': 1,\n",
       "         'becomes': 1,\n",
       "         'been': 4,\n",
       "         'before': 1,\n",
       "         'begs': 1,\n",
       "         'being': 2,\n",
       "         'belushi': 1,\n",
       "         'bender': 1,\n",
       "         'benicio': 1,\n",
       "         'besides': 1,\n",
       "         'best': 1,\n",
       "         'better': 2,\n",
       "         'between': 1,\n",
       "         'binge': 1,\n",
       "         'biting': 1,\n",
       "         'blind': 1,\n",
       "         'blindfolded': 1,\n",
       "         'blotter': 1,\n",
       "         'book': 3,\n",
       "         'brings': 1,\n",
       "         'broad': 1,\n",
       "         'but': 8,\n",
       "         'by': 3,\n",
       "         'c': 1,\n",
       "         'came': 2,\n",
       "         'camera': 1,\n",
       "         'careen': 1,\n",
       "         'carefully': 1,\n",
       "         'carry': 1,\n",
       "         'casino': 1,\n",
       "         'cautionary': 1,\n",
       "         'certainly': 1,\n",
       "         'characters': 1,\n",
       "         'cheech': 1,\n",
       "         'chemicals': 1,\n",
       "         'choice': 1,\n",
       "         'chong': 1,\n",
       "         'clenched': 1,\n",
       "         'climax': 1,\n",
       "         'closeups': 1,\n",
       "         'coaster': 1,\n",
       "         'cocaine': 1,\n",
       "         'color': 1,\n",
       "         'come': 1,\n",
       "         'comedy': 2,\n",
       "         'comes': 1,\n",
       "         'comic': 2,\n",
       "         'commits': 1,\n",
       "         'compound': 1,\n",
       "         'conceivable': 1,\n",
       "         'concept': 1,\n",
       "         'considered': 1,\n",
       "         'controlled': 1,\n",
       "         'convention': 1,\n",
       "         'convincing': 1,\n",
       "         'cover': 1,\n",
       "         'covered': 1,\n",
       "         'cowriter': 1,\n",
       "         'cox': 4,\n",
       "         \"cox's\": 1,\n",
       "         'credited': 1,\n",
       "         'culture': 1,\n",
       "         'dan': 1,\n",
       "         'daredevils': 1,\n",
       "         'davies': 1,\n",
       "         'dead': 2,\n",
       "         'decent': 1,\n",
       "         'del': 3,\n",
       "         'depending': 1,\n",
       "         'depp': 3,\n",
       "         'dialogue': 2,\n",
       "         'die': 1,\n",
       "         'digest': 1,\n",
       "         'direct': 1,\n",
       "         'directed': 1,\n",
       "         'director': 1,\n",
       "         'district': 1,\n",
       "         'do': 1,\n",
       "         'document': 1,\n",
       "         'does': 1,\n",
       "         \"doesn't\": 2,\n",
       "         \"don't\": 2,\n",
       "         'dose': 1,\n",
       "         'down': 1,\n",
       "         'downers': 1,\n",
       "         'dr': 3,\n",
       "         'dream': 1,\n",
       "         'dropping': 1,\n",
       "         'drug': 3,\n",
       "         'drugs': 1,\n",
       "         'duke': 3,\n",
       "         'dutch': 1,\n",
       "         'effect': 1,\n",
       "         'enamored': 1,\n",
       "         'end': 1,\n",
       "         'ends': 1,\n",
       "         'enhance': 1,\n",
       "         'enjoy': 1,\n",
       "         'enough': 1,\n",
       "         'equivalent': 1,\n",
       "         'essentially': 1,\n",
       "         'essentials': 1,\n",
       "         'every': 3,\n",
       "         'experience': 1,\n",
       "         'exposed': 2,\n",
       "         'fall': 1,\n",
       "         'fan': 1,\n",
       "         'fans': 1,\n",
       "         'fares': 1,\n",
       "         'favorite': 1,\n",
       "         'fear': 3,\n",
       "         'ferris': 1,\n",
       "         'film': 6,\n",
       "         'filtered': 1,\n",
       "         'for': 6,\n",
       "         'found': 1,\n",
       "         'frantic': 1,\n",
       "         'from': 2,\n",
       "         'full': 1,\n",
       "         'funny': 1,\n",
       "         'gags': 1,\n",
       "         'george': 1,\n",
       "         'get': 1,\n",
       "         'giant': 1,\n",
       "         'gilliam': 9,\n",
       "         \"gilliam's\": 1,\n",
       "         'gimmicky': 1,\n",
       "         'gonzo': 4,\n",
       "         'good': 1,\n",
       "         'grisoni': 1,\n",
       "         'grotesque': 1,\n",
       "         'groucho': 1,\n",
       "         'guarantee': 1,\n",
       "         'gut': 1,\n",
       "         'guys': 1,\n",
       "         'had': 2,\n",
       "         'hallucinates': 1,\n",
       "         'hand': 1,\n",
       "         'hard': 4,\n",
       "         'has': 4,\n",
       "         'have': 5,\n",
       "         'he': 4,\n",
       "         'hear': 1,\n",
       "         'hilarious': 1,\n",
       "         'him': 1,\n",
       "         'his': 5,\n",
       "         'hispanic': 1,\n",
       "         'historical': 1,\n",
       "         'hole': 1,\n",
       "         'horrifying': 1,\n",
       "         'hotel': 2,\n",
       "         'how': 3,\n",
       "         'however': 1,\n",
       "         'humiliate': 1,\n",
       "         'hunter': 2,\n",
       "         'hunting': 1,\n",
       "         'i': 5,\n",
       "         \"i've\": 1,\n",
       "         'idea': 3,\n",
       "         'if': 2,\n",
       "         'illustrates': 1,\n",
       "         'images': 1,\n",
       "         'important': 1,\n",
       "         'in': 12,\n",
       "         'influence': 1,\n",
       "         'ingest': 1,\n",
       "         'ingesting': 2,\n",
       "         'inside': 1,\n",
       "         'interesting': 2,\n",
       "         'into': 4,\n",
       "         'is': 9,\n",
       "         'it': 7,\n",
       "         \"it's\": 2,\n",
       "         'its': 3,\n",
       "         'jail': 1,\n",
       "         'jefferson': 1,\n",
       "         'john': 1,\n",
       "         'johnny': 3,\n",
       "         'journalist': 1,\n",
       "         'joy': 1,\n",
       "         'jumbled': 1,\n",
       "         'just': 3,\n",
       "         'kick': 1,\n",
       "         'kind': 1,\n",
       "         'knife': 1,\n",
       "         'knot': 1,\n",
       "         'landing': 1,\n",
       "         'las': 4,\n",
       "         'last': 1,\n",
       "         'laugh': 1,\n",
       "         'leads': 1,\n",
       "         'leave': 1,\n",
       "         'leisurely': 1,\n",
       "         'lenses': 1,\n",
       "         'lighting': 1,\n",
       "         'like': 1,\n",
       "         'lines': 1,\n",
       "         'lizards': 1,\n",
       "         'loathing': 3,\n",
       "         'long': 1,\n",
       "         'lost': 1,\n",
       "         'lot': 1,\n",
       "         'lounge': 1,\n",
       "         'luck': 1,\n",
       "         'made': 4,\n",
       "         'make': 1,\n",
       "         'man': 1,\n",
       "         'many': 1,\n",
       "         'marks': 1,\n",
       "         'matter': 1,\n",
       "         'me': 2,\n",
       "         'means': 1,\n",
       "         'meet': 2,\n",
       "         'men': 1,\n",
       "         'mescaline': 1,\n",
       "         'message': 1,\n",
       "         'middle': 1,\n",
       "         'might': 1,\n",
       "         'mixed': 1,\n",
       "         'moments': 1,\n",
       "         'mood': 1,\n",
       "         'more': 2,\n",
       "         'mostly': 1,\n",
       "         'motion': 1,\n",
       "         'motorcycle': 1,\n",
       "         'movie': 6,\n",
       "         'much': 3,\n",
       "         'multicolored': 1,\n",
       "         'mumbles': 1,\n",
       "         'mushroom': 1,\n",
       "         'mushrooms': 3,\n",
       "         'my': 1,\n",
       "         'nancy': 2,\n",
       "         'neither': 1,\n",
       "         'next': 1,\n",
       "         'nitrite': 1,\n",
       "         'no': 3,\n",
       "         'note': 1,\n",
       "         'nothing': 1,\n",
       "         'now': 1,\n",
       "         'observations': 1,\n",
       "         'of': 28,\n",
       "         'offer': 1,\n",
       "         'offers': 1,\n",
       "         'on': 9,\n",
       "         'one': 2,\n",
       "         'operating': 1,\n",
       "         'or': 3,\n",
       "         'originally': 1,\n",
       "         'oscar': 1,\n",
       "         'ostensibly': 1,\n",
       "         'other': 1,\n",
       "         'otherworldly': 1,\n",
       "         'out': 2,\n",
       "         'over': 1,\n",
       "         'overdirecting': 1,\n",
       "         'patton': 1,\n",
       "         'peaks': 1,\n",
       "         'performance': 1,\n",
       "         'performances': 2,\n",
       "         'period': 1,\n",
       "         'pharmacological': 1,\n",
       "         'place': 1,\n",
       "         'player': 1,\n",
       "         'plays': 1,\n",
       "         'point': 2,\n",
       "         'pontificate': 1,\n",
       "         'preferred': 1,\n",
       "         'pressed': 1,\n",
       "         'priceless': 1,\n",
       "         'produced': 1,\n",
       "         'providence': 1,\n",
       "         'pseudonyms': 1,\n",
       "         'psychedelic': 1,\n",
       "         'puking': 1,\n",
       "         'pull': 1,\n",
       "         'purpose': 2,\n",
       "         'put': 1,\n",
       "         'rabbit': 1,\n",
       "         'race': 1,\n",
       "         'rainbow': 1,\n",
       "         'raoul': 1,\n",
       "         'rape': 1,\n",
       "         'reaches': 1,\n",
       "         'read': 1,\n",
       "         'really': 1,\n",
       "         'reassuring': 1,\n",
       "         'recommend': 1,\n",
       "         'refined': 1,\n",
       "         'representation': 1,\n",
       "         'result': 1,\n",
       "         'results': 1,\n",
       "         'ride': 2,\n",
       "         'riding': 1,\n",
       "         'roller': 1,\n",
       "         'rooms': 1,\n",
       "         's': 2,\n",
       "         'same': 1,\n",
       "         'satire': 1,\n",
       "         'scenes': 1,\n",
       "         'schemes': 1,\n",
       "         'scott': 1,\n",
       "         'screen': 1,\n",
       "         'screenplay': 1,\n",
       "         'see': 3,\n",
       "         'seekers': 1,\n",
       "         'selfprofessed': 1,\n",
       "         'send': 1,\n",
       "         'several': 1,\n",
       "         'sham': 1,\n",
       "         'shocking': 1,\n",
       "         'short': 1,\n",
       "         'sid': 2,\n",
       "         'sight': 1,\n",
       "         'simultaneously': 1,\n",
       "         'sin': 1,\n",
       "         'slated': 1,\n",
       "         'smooth': 1,\n",
       "         'so': 1,\n",
       "         'some': 2,\n",
       "         'something': 2,\n",
       "         'spungen': 1,\n",
       "         'sputters': 1,\n",
       "         'steady': 1,\n",
       "         'stomach': 1,\n",
       "         'stood': 1,\n",
       "         'story': 1,\n",
       "         'strike': 1,\n",
       "         'stripped': 1,\n",
       "         'strychninelaced': 1,\n",
       "         'subject': 1,\n",
       "         'substance': 1,\n",
       "         'suite': 1,\n",
       "         'sweaty': 1,\n",
       "         'take': 1,\n",
       "         'tale': 1,\n",
       "         'tape': 1,\n",
       "         'teeth': 1,\n",
       "         'tells': 1,\n",
       "         'tequila': 1,\n",
       "         'terrifies': 1,\n",
       "         'terrifying': 1,\n",
       "         'terrorize': 1,\n",
       "         'terry': 3,\n",
       "         'test': 1,\n",
       "         'testament': 1,\n",
       "         'that': 9,\n",
       "         'the': 41,\n",
       "         'their': 1,\n",
       "         'them': 6,\n",
       "         'themselves': 1,\n",
       "         'then': 5,\n",
       "         'there': 4,\n",
       "         \"there's\": 2,\n",
       "         'these': 2,\n",
       "         'they': 4,\n",
       "         'thickbladed': 1,\n",
       "         'this': 3,\n",
       "         'thompson': 2,\n",
       "         \"thompson's\": 5,\n",
       "         'those': 2,\n",
       "         'thrilling': 1,\n",
       "         'throat': 1,\n",
       "         'through': 1,\n",
       "         'throw': 1,\n",
       "         'tilts': 1,\n",
       "         'time': 1,\n",
       "         'times': 1,\n",
       "         'to': 23,\n",
       "         'tod': 1,\n",
       "         'tony': 1,\n",
       "         'too': 2,\n",
       "         'took': 1,\n",
       "         'toro': 3,\n",
       "         'town': 1,\n",
       "         'trapped': 1,\n",
       "         'trash': 1,\n",
       "         'tries': 1,\n",
       "         'trip': 1,\n",
       "         'true': 1,\n",
       "         'truly': 1,\n",
       "         'truth': 1,\n",
       "         'try': 1,\n",
       "         'trying': 1,\n",
       "         'twenty': 1,\n",
       "         'twisted': 1,\n",
       "         'two': 2,\n",
       "         'uncertain': 1,\n",
       "         'under': 2,\n",
       "         'up': 2,\n",
       "         'uppers': 1,\n",
       "         'us': 2,\n",
       "         'valleys': 1,\n",
       "         'vegas': 5,\n",
       "         'verbatim': 1,\n",
       "         'vicious': 1,\n",
       "         'view': 1,\n",
       "         'want': 4,\n",
       "         'was': 4,\n",
       "         'watch': 1,\n",
       "         'watching': 2,\n",
       "         'way': 1,\n",
       "         'weight': 1,\n",
       "         'wellmade': 1,\n",
       "         'what': 3,\n",
       "         'wheel': 1,\n",
       "         'when': 3,\n",
       "         'where': 2,\n",
       "         'which': 2,\n",
       "         'while': 2,\n",
       "         'white': 1,\n",
       "         'who': 2,\n",
       "         'wideangle': 1,\n",
       "         'will': 3,\n",
       "         'wish': 2,\n",
       "         'with': 4,\n",
       "         'work': 4,\n",
       "         'works': 1,\n",
       "         'worldview': 1,\n",
       "         'would': 4,\n",
       "         'written': 1,\n",
       "         'wrong': 2,\n",
       "         'wrought': 1,\n",
       "         'years': 1,\n",
       "         'you': 3,\n",
       "         \"you're\": 3,\n",
       "         'your': 5,\n",
       "         'zeta': 1})"
      ]
     },
     "execution_count": 795,
     "metadata": {},
     "output_type": "execute_result"
    }
   ],
   "source": [
    "Text_test_dic_list[70]"
   ]
  },
  {
   "cell_type": "code",
   "execution_count": 653,
   "metadata": {
    "collapsed": false
   },
   "outputs": [
    {
     "data": {
      "text/plain": [
       "53"
      ]
     },
     "execution_count": 653,
     "metadata": {},
     "output_type": "execute_result"
    }
   ],
   "source": [
    "aa = np.array(y_test)\n",
    "sum(aa[index_l]<0)"
   ]
  },
  {
   "cell_type": "code",
   "execution_count": 780,
   "metadata": {
    "collapsed": false
   },
   "outputs": [
    {
     "data": {
      "text/plain": [
       "2.5070200601875285"
      ]
     },
     "execution_count": 780,
     "metadata": {},
     "output_type": "execute_result"
    }
   ],
   "source": [
    "dotProduct(Text_test_dic_list[25],optimal_w)"
   ]
  },
  {
   "cell_type": "code",
   "execution_count": 781,
   "metadata": {
    "collapsed": false
   },
   "outputs": [
    {
     "data": {
      "text/plain": [
       "-1"
      ]
     },
     "execution_count": 781,
     "metadata": {},
     "output_type": "execute_result"
    }
   ],
   "source": [
    "wrongsample1_y = y_test[25]\n",
    "wrongsample1_y"
   ]
  },
  {
   "cell_type": "code",
   "execution_count": 796,
   "metadata": {
    "collapsed": true
   },
   "outputs": [],
   "source": [
    "wrongsample1 = Text_test_dic_list[14]"
   ]
  },
  {
   "cell_type": "code",
   "execution_count": 783,
   "metadata": {
    "collapsed": true
   },
   "outputs": [],
   "source": [
    "def get_the_multiply_result(w,wrong_dic_text):\n",
    "    new_dic = wrong_dic_text.copy()\n",
    "    for i in new_dic.keys():\n",
    "        if i in w.keys():\n",
    "            new_dic[i] = abs(new_dic[i]*w[i])\n",
    "        else:\n",
    "            new_dic[i] = 0\n",
    "    return new_dic\n",
    "def get_the_full_stats(sortedlist,wrong_dic_text,w):\n",
    "    for i in range(len(sortedlist)):\n",
    "        if sortedlist[i][0] in w:\n",
    "            sortedlist[i] = (sortedlist[i][0],sortedlist[i][1],wrong_dic_text[sortedlist[i][0]],w[sortedlist[i][0]])\n",
    "        else:\n",
    "            sortedlist[i] = (sortedlist[i][0],sortedlist[i][1],wrong_dic_text[sortedlist[i][0]],0)"
   ]
  },
  {
   "cell_type": "code",
   "execution_count": 797,
   "metadata": {
    "collapsed": false
   },
   "outputs": [],
   "source": [
    "ddd = get_the_multiply_result(optimal_w,wrongsample3)"
   ]
  },
  {
   "cell_type": "code",
   "execution_count": 798,
   "metadata": {
    "collapsed": true
   },
   "outputs": [],
   "source": [
    "import operator\n",
    "\n",
    "sorted_x = sorted(ddd.items(), key=operator.itemgetter(1),reverse=True)\n"
   ]
  },
  {
   "cell_type": "code",
   "execution_count": 799,
   "metadata": {
    "collapsed": false
   },
   "outputs": [
    {
     "data": {
      "text/plain": [
       "[('and', 3.8140643623191863),\n",
       " ('then', 1.6363305791765015),\n",
       " ('on', 1.5454233247819502),\n",
       " ('see', 1.3211854305918678),\n",
       " ('to', 1.1615926950926223),\n",
       " ('the', 1.1595725338863758),\n",
       " ('work', 1.1474515666341176),\n",
       " ('in', 0.9454354457484442),\n",
       " ('you', 0.9272539948669873),\n",
       " ('will', 0.9151330276145018),\n",
       " ('as', 0.8666491586027405),\n",
       " ('have', 0.8282660956319887),\n",
       " ('but', 0.791903193872713),\n",
       " ('for', 0.7878628714552178),\n",
       " ('an', 0.7434193248627707),\n",
       " ('if', 0.7232177127734758),\n",
       " ('he', 0.6868548110142001),\n",
       " ('no', 0.684834649800905),\n",
       " (\"there's\", 0.6141290074920107),\n",
       " ('movie', 0.5939273954045348),\n",
       " ('up', 0.5737257833170588),\n",
       " ('are', 0.545443526393683),\n",
       " ('or', 0.5272620755131356),\n",
       " ('this', 0.5151411082606501),\n",
       " ('better', 0.49291933496351703),\n",
       " ('into', 0.49291933496351703),\n",
       " ('them', 0.48483869012670766),\n",
       " ('want', 0.48483869012488867),\n",
       " ('they', 0.48483869012488867),\n",
       " ('a', 0.4686774004558174),\n",
       " ('point', 0.45655643320060335),\n",
       " ('while', 0.45655643320060335),\n",
       " ('with', 0.45251611078492715),\n",
       " ('film', 0.44847578836652247),\n",
       " ('would', 0.4363548211149464),\n",
       " ('which', 0.428274176279956),\n",
       " ('nothing', 0.41009272540031816),\n",
       " ('there', 0.4040322417713469),\n",
       " ('of', 0.39595159693681126),\n",
       " ('one', 0.38383062968205195),\n",
       " ('performances', 0.3676693400120712),\n",
       " ('all', 0.35554837275776663),\n",
       " ('many', 0.35554837275776663),\n",
       " ('two', 0.33534676067210967),\n",
       " ('these', 0.3313064382527955),\n",
       " ('las', 0.3313064382527955),\n",
       " ('is', 0.32726611583552767),\n",
       " ('been', 0.3151451485828147),\n",
       " ('much', 0.31514514858099574),\n",
       " (\"doesn't\", 0.30706450374600536),\n",
       " (\"i've\", 0.30504434253816726),\n",
       " ('what', 0.30302418132851017),\n",
       " ('some', 0.30302418132851017),\n",
       " ('also', 0.2969636977031769),\n",
       " ('made', 0.2909032140760246),\n",
       " ('back', 0.2909032140760246),\n",
       " ('becomes', 0.2808024080313771),\n",
       " ('watching', 0.278782246823539),\n",
       " ('hard', 0.27474192440422485),\n",
       " ('your', 0.2727217631968415),\n",
       " ('true', 0.256560473524587),\n",
       " ('hilarious', 0.2545403123167489),\n",
       " ('other', 0.2545403123167489),\n",
       " ('wrong', 0.2504999898992537),\n",
       " ('was', 0.2504999898992537),\n",
       " ('dialogue', 0.24645966748175852),\n",
       " ('terry', 0.24241934506335383),\n",
       " ('dead', 0.23433870022745396),\n",
       " ('under', 0.23029837780995877),\n",
       " ('johnny', 0.23029837780950402),\n",
       " ('at', 0.22827821660030168),\n",
       " ('ride', 0.22625805539246358),\n",
       " ('best', 0.22625805539246358),\n",
       " ('american', 0.22625805539246358),\n",
       " ('does', 0.22423789418280649),\n",
       " ('tries', 0.22423789418280649),\n",
       " ('important', 0.2181774105574732),\n",
       " ('acid', 0.21817741055701845),\n",
       " (\"you're\", 0.21817741055701845),\n",
       " ('that', 0.21817741055701845),\n",
       " ('s', 0.214137088139978),\n",
       " ('dr', 0.21211692693077566),\n",
       " ('now', 0.21211692693032091),\n",
       " ('good', 0.20807660451282572),\n",
       " ('depp', 0.20605644330316863),\n",
       " ('town', 0.20201612088567344),\n",
       " ('interesting', 0.20201612088567344),\n",
       " ('times', 0.19999595967783534),\n",
       " ('dutch', 0.19595563725852116),\n",
       " ('fear', 0.19393547605068306),\n",
       " ('works', 0.19393547605068306),\n",
       " ('able', 0.18989515363318787),\n",
       " ('several', 0.18787499242353078),\n",
       " (\"it's\", 0.18585483121569268),\n",
       " ('anyway', 0.1838346700060356),\n",
       " ('too', 0.1818145087981975),\n",
       " ('about', 0.1797943475885404),\n",
       " ('performance', 0.17777418637888331),\n",
       " ('do', 0.17575402517104521),\n",
       " ('lost', 0.17171370275355002),\n",
       " ('his', 0.17171370275264053),\n",
       " ('enjoy', 0.16767338033605483),\n",
       " ('more', 0.16565321912639774),\n",
       " ('images', 0.16565321912639774),\n",
       " ('book', 0.1636330579181049),\n",
       " ('always', 0.16161289670890255),\n",
       " ('last', 0.15959273550015496),\n",
       " ('before', 0.15555241308265977),\n",
       " ('who', 0.15353225187300268),\n",
       " ('really', 0.1474717682467599),\n",
       " ('every', 0.1454516070380123),\n",
       " ('middle', 0.1454516070380123),\n",
       " ('idea', 0.1454516070380123),\n",
       " ('trip', 0.1414112846205171),\n",
       " ('come', 0.1393911234117695),\n",
       " ('funny', 0.1393911234117695),\n",
       " ('director', 0.1393911234117695),\n",
       " ('being', 0.13737096220211242),\n",
       " ('purpose', 0.13737096220211242),\n",
       " ('against', 0.13535080099336483),\n",
       " ('when', 0.13333063978416249),\n",
       " ('culture', 0.12929031736712204),\n",
       " ('gags', 0.12727015615837445),\n",
       " ('color', 0.12727015615837445),\n",
       " ('comes', 0.12727015615837445),\n",
       " ('long', 0.12524999494962685),\n",
       " ('view', 0.12322983374087926),\n",
       " ('lot', 0.12322983374087926),\n",
       " ('truth', 0.12120967253122217),\n",
       " ('climax', 0.11918951132247457),\n",
       " ('themselves', 0.11716935011372698),\n",
       " (\"don't\", 0.11716935011372698),\n",
       " ('leads', 0.11312902769623179),\n",
       " ('ends', 0.11312902769623179),\n",
       " ('laugh', 0.11110886648748419),\n",
       " ('satire', 0.11110886648748419),\n",
       " ('thrilling', 0.10504838286033191),\n",
       " ('leave', 0.10302822165158432),\n",
       " ('enough', 0.10302822165158432),\n",
       " ('its', 0.10302822165158432),\n",
       " ('down', 0.10302822165158432),\n",
       " ('men', 0.10100806044283672),\n",
       " ('nancy', 0.10100806044283672),\n",
       " ('scott', 0.10100806044283672),\n",
       " ('same', 0.09898789923408913),\n",
       " ('recommend', 0.09696773802534153),\n",
       " ('sid', 0.09696773802534153),\n",
       " ('story', 0.09696773802534153),\n",
       " ('c', 0.09292741560784634),\n",
       " ('out', 0.09292741560784634),\n",
       " ('shocking', 0.09090725439909875),\n",
       " ('certainly', 0.08888709318944166),\n",
       " ('watch', 0.08888709318944166),\n",
       " ('screenplay', 0.08888709318944166),\n",
       " ('hole', 0.08888709318944166),\n",
       " ('me', 0.08888709318944166),\n",
       " ('tale', 0.08888709318944166),\n",
       " ('comic', 0.08888709318944166),\n",
       " ('be', 0.08888709318944166),\n",
       " ('from', 0.08888709318944166),\n",
       " ('matter', 0.08888709318944166),\n",
       " ('bats', 0.08686693198069406),\n",
       " ('giant', 0.08484677077194647),\n",
       " ('joy', 0.08282660956319887),\n",
       " ('gonzo', 0.08080644835445128),\n",
       " (\"thompson's\", 0.08080644835445128),\n",
       " ('try', 0.08080644835445128),\n",
       " ('terrifying', 0.08080644835445128),\n",
       " ('fans', 0.08080644835445128),\n",
       " ('subject', 0.07878628714570368),\n",
       " ('next', 0.07878628714570368),\n",
       " ('attorney', 0.07878628714570368),\n",
       " ('john', 0.07878628714570368),\n",
       " ('make', 0.07676612593650134),\n",
       " ('comedy', 0.07676612593650134),\n",
       " ('sight', 0.07676612593650134),\n",
       " ('race', 0.07474596472775374),\n",
       " ('casino', 0.07474596472775374),\n",
       " ('decent', 0.07474596472775374),\n",
       " ('offer', 0.07474596472775374),\n",
       " ('because', 0.07474596472775374),\n",
       " ('hand', 0.07272580351900615),\n",
       " ('credited', 0.07070564231025855),\n",
       " ('choice', 0.06868548110105621),\n",
       " ('neither', 0.06868548110105621),\n",
       " ('way', 0.06868548110105621),\n",
       " ('inside', 0.06868548110105621),\n",
       " ('came', 0.06868548110105621),\n",
       " ('carefully', 0.06666531989230862),\n",
       " ('bag', 0.06666531989230862),\n",
       " ('like', 0.06464515868356102),\n",
       " ('convincing', 0.06464515868356102),\n",
       " ('substance', 0.06262499747481343),\n",
       " ('drugs', 0.06262499747481343),\n",
       " ('end', 0.06262499747481343),\n",
       " ('brings', 0.06262499747481343),\n",
       " ('trash', 0.06262499747481343),\n",
       " ('just', 0.06060483626583846),\n",
       " ('something', 0.060604836265611084),\n",
       " ('lounge', 0.060604836265611084),\n",
       " ('trying', 0.060604836265611084),\n",
       " ('wish', 0.060604836265611084),\n",
       " ('ago', 0.060604836265611084),\n",
       " ('years', 0.05858467505686349),\n",
       " ('motion', 0.05858467505686349),\n",
       " ('essentially', 0.056564513848115894),\n",
       " ('it', 0.056564513848115894),\n",
       " ('read', 0.056564513848115894),\n",
       " ('written', 0.0545443526393683),\n",
       " ('direct', 0.0545443526393683),\n",
       " ('simultaneously', 0.0545443526393683),\n",
       " ('biting', 0.0545443526393683),\n",
       " ('toro', 0.05454435263925461),\n",
       " ('die', 0.052524191430165956),\n",
       " ('oscar', 0.052524191430165956),\n",
       " ('lighting', 0.052524191430165956),\n",
       " ('?', 0.052524191430165956),\n",
       " ('available', 0.05050403022141836),\n",
       " ('characters', 0.048483869012670766),\n",
       " ('journalist', 0.048483869012670766),\n",
       " ('found', 0.048483869012670766),\n",
       " ('am', 0.048483869012670766),\n",
       " ('by', 0.048483869012670766),\n",
       " ('duke', 0.048483869012670766),\n",
       " ('us', 0.048483869012670766),\n",
       " ('suite', 0.04646370780392317),\n",
       " ('screen', 0.04646370780392317),\n",
       " ('effect', 0.04646370780392317),\n",
       " ('influence', 0.04646370780392317),\n",
       " ('experience', 0.04444354659472083),\n",
       " ('zeta', 0.04444354659472083),\n",
       " ('guarantee', 0.04444354659472083),\n",
       " ('through', 0.04444354659472083),\n",
       " ('tells', 0.04444354659472083),\n",
       " ('cover', 0.04444354659472083),\n",
       " ('trapped', 0.04444354659472083),\n",
       " ('how', 0.04242338538608692),\n",
       " ('concept', 0.042423385385973233),\n",
       " ('get', 0.042423385385973233),\n",
       " ('favorite', 0.042423385385973233),\n",
       " ('carry', 0.042423385385973233),\n",
       " ('message', 0.042423385385973233),\n",
       " ('vegas', 0.04040322417722564),\n",
       " ('cox', 0.04040322417722564),\n",
       " ('period', 0.04040322417722564),\n",
       " ('place', 0.04040322417722564),\n",
       " ('scenes', 0.04040322417722564),\n",
       " ('hunting', 0.03838306296825067),\n",
       " ('dropping', 0.03838306296825067),\n",
       " ('priceless', 0.03838306296825067),\n",
       " ('lines', 0.03838306296825067),\n",
       " ('luck', 0.03838306296825067),\n",
       " ('steady', 0.03838306296825067),\n",
       " ('test', 0.03838306296825067),\n",
       " ('plays', 0.03838306296825067),\n",
       " ('bare', 0.036362901759503075),\n",
       " ('meet', 0.036362901759503075),\n",
       " ('short', 0.036362901759503075),\n",
       " ('offers', 0.036362901759503075),\n",
       " ('equivalent', 0.036362901759503075),\n",
       " ('time', 0.036362901759503075),\n",
       " ('send', 0.034342740550528106),\n",
       " ('dose', 0.034342740550528106),\n",
       " ('cheech', 0.034342740550528106),\n",
       " ('sin', 0.034342740550528106),\n",
       " ('besides', 0.034342740550528106),\n",
       " ('raoul', 0.03232257934178051),\n",
       " ('marks', 0.03232257934178051),\n",
       " ('uncertain', 0.03232257934178051),\n",
       " ('truly', 0.03232257934178051),\n",
       " ('him', 0.03232257934178051),\n",
       " ('weight', 0.03232257934178051),\n",
       " ('observations', 0.03232257934178051),\n",
       " ('i', 0.03030241813291923),\n",
       " ('player', 0.030302418132805542),\n",
       " ('broad', 0.030302418132805542),\n",
       " ('twenty', 0.030302418132805542),\n",
       " ('representation', 0.030302418132805542),\n",
       " ('dream', 0.028282256924057947),\n",
       " ('kick', 0.028282256924057947),\n",
       " ('hunter', 0.028282256924057947),\n",
       " ('alex', 0.028282256924057947),\n",
       " ('stood', 0.026262095715082978),\n",
       " ('man', 0.026262095715082978),\n",
       " ('testament', 0.026262095715082978),\n",
       " ('stomach', 0.026262095715082978),\n",
       " ('took', 0.026262095715082978),\n",
       " ('horrifying', 0.026262095715082978),\n",
       " ('rooms', 0.026262095715082978),\n",
       " ('chong', 0.024241934506335383),\n",
       " ('thompson', 0.024241934506335383),\n",
       " ('preferred', 0.024241934506335383),\n",
       " ('loathing', 0.024241934506335383),\n",
       " ('drug', 0.024241934506335383),\n",
       " ('attacked', 0.024241934506335383),\n",
       " ('patton', 0.024241934506335383),\n",
       " ('sputters', 0.024241934506335383),\n",
       " ('has', 0.024241934506335383),\n",
       " ('district', 0.024241934506335383),\n",
       " ('however', 0.024241934506335383),\n",
       " ('tape', 0.022221773297360414),\n",
       " ('full', 0.022221773297360414),\n",
       " ('bathtub', 0.022221773297360414),\n",
       " ('wheel', 0.022221773297360414),\n",
       " ('fan', 0.022221773297360414),\n",
       " ('motorcycle', 0.022221773297360414),\n",
       " ('throw', 0.022221773297360414),\n",
       " ('fares', 0.022221773297360414),\n",
       " ('reaches', 0.022221773297360414),\n",
       " ('ferris', 0.022221773297360414),\n",
       " ('considered', 0.022221773297360414),\n",
       " ('illustrates', 0.02020161208861282),\n",
       " (\"airplane's\", 0.02020161208861282),\n",
       " ('rabbit', 0.02020161208861282),\n",
       " ('1971', 0.02020161208861282),\n",
       " ('hispanic', 0.02020161208861282),\n",
       " ('had', 0.02020161208861282),\n",
       " ('mixed', 0.02020161208861282),\n",
       " ('mood', 0.02020161208861282),\n",
       " ('george', 0.02020161208861282),\n",
       " ('jefferson', 0.02020161208861282),\n",
       " ('gut', 0.018181450879751537),\n",
       " ('gimmicky', 0.018181450879751537),\n",
       " ('worldview', 0.018181450879751537),\n",
       " ('belushi', 0.018181450879751537),\n",
       " ('pull', 0.018181450879751537),\n",
       " ('result', 0.016161289670890255),\n",
       " ('sweaty', 0.016161289670890255),\n",
       " ('tony', 0.016161289670890255),\n",
       " ('controlled', 0.016161289670890255),\n",
       " ('document', 0.016161289670890255),\n",
       " ('groucho', 0.016161289670890255),\n",
       " ('peaks', 0.016161289670890255),\n",
       " ('enamored', 0.016161289670890255),\n",
       " ('covered', 0.016161289670890255),\n",
       " ('compound', 0.016161289670890255),\n",
       " ('benicio', 0.016161289670890255),\n",
       " ('mostly', 0.016161289670890255),\n",
       " ('chemicals', 0.016161289670890255),\n",
       " ('reassuring', 0.016161289670890255),\n",
       " ('throat', 0.016161289670890255),\n",
       " ('take', 0.016161289670890255),\n",
       " ('tequila', 0.014141128462028973),\n",
       " (\"60's\", 0.014141128462028973),\n",
       " ('my', 0.014141128462028973),\n",
       " ('so', 0.014141128462028973),\n",
       " ('moments', 0.014141128462028973),\n",
       " ('might', 0.014141128462028973),\n",
       " ('put', 0.014141128462028973),\n",
       " ('jumbled', 0.014141128462028973),\n",
       " ('twisted', 0.014141128462028973),\n",
       " ('wrought', 0.014141128462028973),\n",
       " ('closeups', 0.014141128462028973),\n",
       " ('aggressive', 0.012120967253167692),\n",
       " ('where', 0.012120967253167692),\n",
       " ('operating', 0.012120967253167692),\n",
       " ('roller', 0.012120967253167692),\n",
       " ('binge', 0.012120967253167692),\n",
       " ('strike', 0.012120967253167692),\n",
       " ('originally', 0.012120967253167692),\n",
       " ('guys', 0.012120967253167692),\n",
       " ('dan', 0.012120967253167692),\n",
       " ('amidst', 0.012120967253167692),\n",
       " ('convention', 0.012120967253167692),\n",
       " ('historical', 0.012120967253167692),\n",
       " ('verbatim', 0.012120967253167692),\n",
       " ('note', 0.012120967253167692),\n",
       " ('hear', 0.012120967253167692),\n",
       " ('mescaline', 0.01010080604430641),\n",
       " ('results', 0.01010080604430641),\n",
       " ('downers', 0.01010080604430641),\n",
       " ('smooth', 0.01010080604430641),\n",
       " ('slated', 0.01010080604430641),\n",
       " ('bender', 0.01010080604430641),\n",
       " ('pressed', 0.01010080604430641),\n",
       " ('blotter', 0.01010080604430641),\n",
       " ('uppers', 0.01010080604430641),\n",
       " ('psychedelic', 0.01010080604430641),\n",
       " ('filtered', 0.01010080604430641),\n",
       " ('multicolored', 0.01010080604430641),\n",
       " ('puking', 0.01010080604430641),\n",
       " ('their', 0.01010080604430641),\n",
       " ('pontificate', 0.01010080604430641),\n",
       " ('rainbow', 0.01010080604430641),\n",
       " ('teeth', 0.01010080604430641),\n",
       " ('cautionary', 0.008080644835445128),\n",
       " ('ostensibly', 0.008080644835445128),\n",
       " ('those', 0.008080644835445128),\n",
       " ('over', 0.008080644835445128),\n",
       " ('otherworldly', 0.008080644835445128),\n",
       " ('providence', 0.008080644835445128),\n",
       " ('activist', 0.008080644835445128),\n",
       " ('hotel', 0.008080644835445128),\n",
       " ('directed', 0.008080644835445128),\n",
       " ('kind', 0.008080644835445128),\n",
       " ('depending', 0.008080644835445128),\n",
       " ('landing', 0.008080644835445128),\n",
       " ('leisurely', 0.006060483626583846),\n",
       " ('wellmade', 0.006060483626583846),\n",
       " ('cocaine', 0.006060483626583846),\n",
       " ('akroyd', 0.006060483626583846),\n",
       " ('del', 0.006060483626583846),\n",
       " ('sham', 0.006060483626583846),\n",
       " ('terrorize', 0.006060483626583846),\n",
       " ('schemes', 0.006060483626583846),\n",
       " (\"gilliam's\", 0.006060483626583846),\n",
       " ('cowriter', 0.006060483626583846),\n",
       " ('davies', 0.006060483626583846),\n",
       " ('humiliate', 0.004040322417722564),\n",
       " ('knife', 0.004040322417722564),\n",
       " ('enhance', 0.004040322417722564),\n",
       " ('between', 0.004040322417722564),\n",
       " ('lizards', 0.004040322417722564),\n",
       " ('frantic', 0.004040322417722564),\n",
       " ('rape', 0.004040322417722564),\n",
       " ('jail', 0.004040322417722564),\n",
       " ('means', 0.004040322417722564),\n",
       " ('digest', 0.004040322417722564),\n",
       " ('commits', 0.004040322417722564),\n",
       " ('valleys', 0.004040322417722564),\n",
       " ('white', 0.004040322417722564),\n",
       " ('tod', 0.004040322417722564),\n",
       " ('conceivable', 0.004040322417722564),\n",
       " ('essentials', 0.002020161208861282),\n",
       " ('fall', 0.002020161208861282),\n",
       " ('lenses', 0.002020161208861282),\n",
       " ('grotesque', 0.002020161208861282),\n",
       " ('begs', 0.002020161208861282),\n",
       " ('vicious', 0.002020161208861282),\n",
       " ('coaster', 0.002020161208861282),\n",
       " ('hallucinates', 0.002020161208861282),\n",
       " ('produced', 0.002020161208861282),\n",
       " ('refined', 0.002020161208861282),\n",
       " ('gilliam', 6.407674132701977e-16),\n",
       " ('camera', 2.244982603845909e-16),\n",
       " ('blind', 8.46892414494652e-17),\n",
       " ('exposed', 5.569394183445265e-17),\n",
       " ('wideangle', 2.8134053091622393e-17),\n",
       " ('blindfolded', 2.1531163080310896e-17),\n",
       " ('allow', 2.009575220833056e-17),\n",
       " ('stripped', 1.8660341336350223e-17),\n",
       " ('mumbles', 3.1579039184324714e-18),\n",
       " ('riding', 5.741643488079119e-19),\n",
       " ('seekers', 0),\n",
       " ('pseudonyms', 0),\n",
       " ('careen', 0),\n",
       " ('overdirecting', 0),\n",
       " ('mushroom', 0),\n",
       " ('selfprofessed', 0),\n",
       " ('grisoni', 0),\n",
       " ('spungen', 0),\n",
       " ('assent', 0),\n",
       " ('ingesting', 0),\n",
       " ('pharmacological', 0),\n",
       " ('actosta', 0),\n",
       " ('knot', 0),\n",
       " ('tilts', 0),\n",
       " ('nitrite', 0),\n",
       " (\"attorney's\", 0),\n",
       " ('terrifies', 0),\n",
       " ('amyl', 0),\n",
       " ('mushrooms', 0),\n",
       " ('thickbladed', 0),\n",
       " ('ingest', 0),\n",
       " ('daredevils', 0),\n",
       " ('strychninelaced', 0),\n",
       " ('clenched', 0),\n",
       " (\"cox's\", 0)]"
      ]
     },
     "execution_count": 799,
     "metadata": {},
     "output_type": "execute_result"
    }
   ],
   "source": [
    "sorted_x"
   ]
  },
  {
   "cell_type": "code",
   "execution_count": 801,
   "metadata": {
    "collapsed": false
   },
   "outputs": [],
   "source": [
    "get_the_full_stats(sorted_x,wrongsample1,optimal_w)"
   ]
  },
  {
   "cell_type": "code",
   "execution_count": 802,
   "metadata": {
    "collapsed": false
   },
   "outputs": [
    {
     "data": {
      "text/plain": [
       "[('and', 3.8140643623191863, 14, 0.11918951132247457),\n",
       " ('then', 1.6363305791765015, 2, -0.3272661158353003),\n",
       " ('on', 1.5454233247819502, 8, -0.17171370275355002),\n",
       " ('see', 1.3211854305918678, 0, 0.4403951435306226),\n",
       " ('to', 1.1615926950926223, 15, -0.05050403022141836),\n",
       " ('the', 1.1595725338863758, 41, 0.028282256924057947),\n",
       " ('work', 1.1474515666341176, 0, -0.2868628916585294),\n",
       " ('in', 0.9454354457484442, 11, 0.07878628714570368),\n",
       " ('you', 0.9272539948669873, 1, 0.30908466495566245),\n",
       " ('will', 0.9151330276145018, 0, 0.30504434253816726),\n",
       " ('as', 0.8666491586027405, 5, 0.07878628714570368),\n",
       " ('have', 0.8282660956319887, 1, -0.16565321912639774),\n",
       " ('but', 0.791903193872713, 2, 0.09898789923408913),\n",
       " ('for', 0.7878628714552178, 5, -0.13131047857586964),\n",
       " ('an', 0.7434193248627707, 5, -0.18585483121569268),\n",
       " ('if', 0.7232177127734758, 0, -0.3616088563867379),\n",
       " ('he', 0.6868548110142001, 2, 0.17171370275355002),\n",
       " ('no', 0.684834649800905, 0, -0.22827821660030168),\n",
       " (\"there's\", 0.6141290074920107, 1, -0.30706450374600536),\n",
       " ('movie', 0.5939273954045348, 0, -0.09898789923408913),\n",
       " ('up', 0.5737257833170588, 2, -0.2868628916585294),\n",
       " ('are', 0.545443526393683, 2, -0.1090887052787366),\n",
       " ('or', 0.5272620755131356, 1, -0.17575402517104521),\n",
       " ('this', 0.5151411082606501, 3, -0.17171370275355002),\n",
       " ('better', 0.49291933496351703, 1, -0.24645966748175852),\n",
       " ('into', 0.49291933496351703, 0, -0.12322983374087926),\n",
       " ('them', 0.48483869012670766, 0, 0.08080644835445128),\n",
       " ('want', 0.48483869012488867, 0, 0.12120967253122217),\n",
       " ('they', 0.48483869012488867, 0, 0.12120967253122217),\n",
       " ('a', 0.4686774004558174, 12, -0.016161289670890255),\n",
       " ('point', 0.45655643320060335, 1, -0.22827821660030168),\n",
       " ('while', 0.45655643320060335, 1, 0.22827821660030168),\n",
       " ('with', 0.45251611078492715, 6, 0.11312902769623179),\n",
       " ('film', 0.44847578836652247, 9, -0.07474596472775374),\n",
       " ('would', 0.4363548211149464, 0, -0.1090887052787366),\n",
       " ('which', 0.428274176279956, 2, 0.214137088139978),\n",
       " ('nothing', 0.41009272540031816, 0, -0.41009272540031816),\n",
       " ('there', 0.4040322417713469, 1, -0.10100806044283672),\n",
       " ('of', 0.39595159693681126, 24, 0.014141128462028973),\n",
       " ('one', 0.38383062968205195, 1, 0.19191531484102597),\n",
       " ('performances', 0.3676693400120712, 0, 0.1838346700060356),\n",
       " ('all', 0.35554837275776663, 1, -0.08888709318944166),\n",
       " ('many', 0.35554837275776663, 0, 0.35554837275776663),\n",
       " ('two', 0.33534676067210967, 0, -0.16767338033605483),\n",
       " ('these', 0.3313064382527955, 2, 0.16565321912639774),\n",
       " ('las', 0.3313064382527955, 0, 0.08282660956319887),\n",
       " ('is', 0.32726611583552767, 9, 0.036362901759503075),\n",
       " ('been', 0.3151451485828147, 0, -0.07878628714570368),\n",
       " ('much', 0.31514514858099574, 1, -0.10504838286033191),\n",
       " (\"doesn't\", 0.30706450374600536, 0, -0.15353225187300268),\n",
       " (\"i've\", 0.30504434253816726, 0, 0.30504434253816726),\n",
       " ('what', 0.30302418132851017, 0, 0.10100806044283672),\n",
       " ('some', 0.30302418132851017, 0, -0.15151209066425508),\n",
       " ('also', 0.2969636977031769, 0, 0.2969636977031769),\n",
       " ('made', 0.2909032140760246, 0, -0.07272580351900615),\n",
       " ('back', 0.2909032140760246, 0, 0.2909032140760246),\n",
       " ('becomes', 0.2808024080313771, 1, -0.2808024080313771),\n",
       " ('watching', 0.278782246823539, 0, -0.1393911234117695),\n",
       " ('hard', 0.27474192440422485, 0, -0.06868548110105621),\n",
       " ('your', 0.2727217631968415, 1, 0.0545443526393683),\n",
       " ('true', 0.256560473524587, 0, 0.256560473524587),\n",
       " ('hilarious', 0.2545403123167489, 0, 0.2545403123167489),\n",
       " ('other', 0.2545403123167489, 0, 0.2545403123167489),\n",
       " ('wrong', 0.2504999898992537, 0, 0.12524999494962685),\n",
       " ('was', 0.2504999898992537, 0, -0.06262499747481343),\n",
       " ('dialogue', 0.24645966748175852, 0, -0.12322983374087926),\n",
       " ('terry', 0.24241934506335383, 0, -0.08080644835445128),\n",
       " ('dead', 0.23433870022745396, 0, -0.11716935011372698),\n",
       " ('under', 0.23029837780995877, 0, -0.11514918890497938),\n",
       " ('johnny', 0.23029837780950402, 0, 0.07676612593650134),\n",
       " ('at', 0.22827821660030168, 2, -0.22827821660030168),\n",
       " ('ride', 0.22625805539246358, 0, 0.11312902769623179),\n",
       " ('best', 0.22625805539246358, 2, 0.22625805539246358),\n",
       " ('american', 0.22625805539246358, 6, 0.22625805539246358),\n",
       " ('does', 0.22423789418280649, 0, 0.22423789418280649),\n",
       " ('tries', 0.22423789418280649, 0, -0.22423789418280649),\n",
       " ('important', 0.2181774105574732, 0, 0.2181774105574732),\n",
       " ('acid', 0.21817741055701845, 0, -0.036362901759503075),\n",
       " (\"you're\", 0.21817741055701845, 0, -0.07272580351900615),\n",
       " ('that', 0.21817741055701845, 8, -0.024241934506335383),\n",
       " ('s', 0.214137088139978, 0, -0.107068544069989),\n",
       " ('dr', 0.21211692693077566, 0, -0.07070564231025855),\n",
       " ('now', 0.21211692693032091, 1, 0.21211692693032091),\n",
       " ('good', 0.20807660451282572, 1, 0.20807660451282572),\n",
       " ('depp', 0.20605644330316863, 0, 0.06868548110105621),\n",
       " ('town', 0.20201612088567344, 0, 0.20201612088567344),\n",
       " ('interesting', 0.20201612088567344, 0, -0.10100806044283672),\n",
       " ('times', 0.19999595967783534, 0, 0.19999595967783534),\n",
       " ('dutch', 0.19595563725852116, 0, -0.19595563725852116),\n",
       " ('fear', 0.19393547605068306, 0, 0.06464515868356102),\n",
       " ('works', 0.19393547605068306, 0, 0.19393547605068306),\n",
       " ('able', 0.18989515363318787, 0, 0.18989515363318787),\n",
       " ('several', 0.18787499242353078, 0, 0.18787499242353078),\n",
       " (\"it's\", 0.18585483121569268, 1, 0.09292741560784634),\n",
       " ('anyway', 0.1838346700060356, 0, -0.1838346700060356),\n",
       " ('too', 0.1818145087981975, 2, -0.09090725439909875),\n",
       " ('about', 0.1797943475885404, 1, -0.1797943475885404),\n",
       " ('performance', 0.17777418637888331, 1, 0.17777418637888331),\n",
       " ('do', 0.17575402517104521, 0, -0.17575402517104521),\n",
       " ('lost', 0.17171370275355002, 0, -0.17171370275355002),\n",
       " ('his', 0.17171370275264053, 3, -0.034342740550528106),\n",
       " ('enjoy', 0.16767338033605483, 0, 0.16767338033605483),\n",
       " ('more', 0.16565321912639774, 1, -0.08282660956319887),\n",
       " ('images', 0.16565321912639774, 0, 0.16565321912639774),\n",
       " ('book', 0.1636330579181049, 0, -0.0545443526393683),\n",
       " ('always', 0.16161289670890255, 0, 0.16161289670890255),\n",
       " ('last', 0.15959273550015496, 0, -0.15959273550015496),\n",
       " ('before', 0.15555241308265977, 0, 0.15555241308265977),\n",
       " ('who', 0.15353225187300268, 0, -0.07676612593650134),\n",
       " ('really', 0.1474717682467599, 1, 0.1474717682467599),\n",
       " ('every', 0.1454516070380123, 0, -0.048483869012670766),\n",
       " ('middle', 0.1454516070380123, 0, -0.1454516070380123),\n",
       " ('idea', 0.1454516070380123, 0, -0.048483869012670766),\n",
       " ('trip', 0.1414112846205171, 0, -0.1414112846205171),\n",
       " ('come', 0.1393911234117695, 0, -0.1393911234117695),\n",
       " ('funny', 0.1393911234117695, 0, -0.1393911234117695),\n",
       " ('director', 0.1393911234117695, 0, -0.1393911234117695),\n",
       " ('being', 0.13737096220211242, 0, 0.06868548110105621),\n",
       " ('purpose', 0.13737096220211242, 0, -0.06868548110105621),\n",
       " ('against', 0.13535080099336483, 0, 0.13535080099336483),\n",
       " ('when', 0.13333063978416249, 1, -0.04444354659472083),\n",
       " ('culture', 0.12929031736712204, 0, 0.12929031736712204),\n",
       " ('gags', 0.12727015615837445, 0, -0.12727015615837445),\n",
       " ('color', 0.12727015615837445, 0, 0.12727015615837445),\n",
       " ('comes', 0.12727015615837445, 0, -0.12727015615837445),\n",
       " ('long', 0.12524999494962685, 0, -0.12524999494962685),\n",
       " ('view', 0.12322983374087926, 0, 0.12322983374087926),\n",
       " ('lot', 0.12322983374087926, 0, 0.12322983374087926),\n",
       " ('truth', 0.12120967253122217, 0, 0.12120967253122217),\n",
       " ('climax', 0.11918951132247457, 0, 0.11918951132247457),\n",
       " ('themselves', 0.11716935011372698, 0, 0.11716935011372698),\n",
       " (\"don't\", 0.11716935011372698, 0, 0.05858467505686349),\n",
       " ('leads', 0.11312902769623179, 0, 0.11312902769623179),\n",
       " ('ends', 0.11312902769623179, 0, -0.11312902769623179),\n",
       " ('laugh', 0.11110886648748419, 0, 0.11110886648748419),\n",
       " ('satire', 0.11110886648748419, 0, 0.11110886648748419),\n",
       " ('thrilling', 0.10504838286033191, 0, 0.10504838286033191),\n",
       " ('leave', 0.10302822165158432, 0, 0.10302822165158432),\n",
       " ('enough', 0.10302822165158432, 0, -0.10302822165158432),\n",
       " ('its', 0.10302822165158432, 0, -0.034342740550528106),\n",
       " ('down', 0.10302822165158432, 1, -0.10302822165158432),\n",
       " ('men', 0.10100806044283672, 0, 0.10100806044283672),\n",
       " ('nancy', 0.10100806044283672, 0, 0.05050403022141836),\n",
       " ('scott', 0.10100806044283672, 0, -0.10100806044283672),\n",
       " ('same', 0.09898789923408913, 0, 0.09898789923408913),\n",
       " ('recommend', 0.09696773802534153, 0, 0.09696773802534153),\n",
       " ('sid', 0.09696773802534153, 0, 0.048483869012670766),\n",
       " ('story', 0.09696773802534153, 1, -0.09696773802534153),\n",
       " ('c', 0.09292741560784634, 0, -0.09292741560784634),\n",
       " ('out', 0.09292741560784634, 2, -0.04646370780392317),\n",
       " ('shocking', 0.09090725439909875, 0, 0.09090725439909875),\n",
       " ('certainly', 0.08888709318944166, 0, -0.08888709318944166),\n",
       " ('watch', 0.08888709318944166, 1, 0.08888709318944166),\n",
       " ('screenplay', 0.08888709318944166, 0, -0.08888709318944166),\n",
       " ('hole', 0.08888709318944166, 0, -0.08888709318944166),\n",
       " ('me', 0.08888709318944166, 1, 0.04444354659472083),\n",
       " ('tale', 0.08888709318944166, 0, 0.08888709318944166),\n",
       " ('comic', 0.08888709318944166, 0, -0.04444354659472083),\n",
       " ('be', 0.08888709318944166, 0, -0.04444354659472083),\n",
       " ('from', 0.08888709318944166, 1, 0.04444354659472083),\n",
       " ('matter', 0.08888709318944166, 0, 0.08888709318944166),\n",
       " ('bats', 0.08686693198069406, 0, -0.08686693198069406),\n",
       " ('giant', 0.08484677077194647, 0, -0.08484677077194647),\n",
       " ('joy', 0.08282660956319887, 0, 0.08282660956319887),\n",
       " ('gonzo', 0.08080644835445128, 0, 0.02020161208861282),\n",
       " (\"thompson's\", 0.08080644835445128, 0, 0.016161289670890255),\n",
       " ('try', 0.08080644835445128, 0, 0.08080644835445128),\n",
       " ('terrifying', 0.08080644835445128, 0, 0.08080644835445128),\n",
       " ('fans', 0.08080644835445128, 0, -0.08080644835445128),\n",
       " ('subject', 0.07878628714570368, 0, 0.07878628714570368),\n",
       " ('next', 0.07878628714570368, 1, 0.07878628714570368),\n",
       " ('attorney', 0.07878628714570368, 0, 0.07878628714570368),\n",
       " ('john', 0.07878628714570368, 0, -0.07878628714570368),\n",
       " ('make', 0.07676612593650134, 0, -0.07676612593650134),\n",
       " ('comedy', 0.07676612593650134, 0, 0.03838306296825067),\n",
       " ('sight', 0.07676612593650134, 0, -0.07676612593650134),\n",
       " ('race', 0.07474596472775374, 0, 0.07474596472775374),\n",
       " ('casino', 0.07474596472775374, 0, 0.07474596472775374),\n",
       " ('decent', 0.07474596472775374, 0, -0.07474596472775374),\n",
       " ('offer', 0.07474596472775374, 0, 0.07474596472775374),\n",
       " ('because', 0.07474596472775374, 0, -0.07474596472775374),\n",
       " ('hand', 0.07272580351900615, 0, -0.07272580351900615),\n",
       " ('credited', 0.07070564231025855, 0, -0.07070564231025855),\n",
       " ('choice', 0.06868548110105621, 0, 0.06868548110105621),\n",
       " ('neither', 0.06868548110105621, 0, -0.06868548110105621),\n",
       " ('way', 0.06868548110105621, 1, 0.06868548110105621),\n",
       " ('inside', 0.06868548110105621, 0, 0.06868548110105621),\n",
       " ('came', 0.06868548110105621, 0, -0.034342740550528106),\n",
       " ('carefully', 0.06666531989230862, 0, 0.06666531989230862),\n",
       " ('bag', 0.06666531989230862, 0, 0.06666531989230862),\n",
       " ('like', 0.06464515868356102, 1, -0.06464515868356102),\n",
       " ('convincing', 0.06464515868356102, 0, -0.06464515868356102),\n",
       " ('substance', 0.06262499747481343, 0, -0.06262499747481343),\n",
       " ('drugs', 0.06262499747481343, 1, -0.06262499747481343),\n",
       " ('end', 0.06262499747481343, 1, -0.06262499747481343),\n",
       " ('brings', 0.06262499747481343, 1, 0.06262499747481343),\n",
       " ('trash', 0.06262499747481343, 0, -0.06262499747481343),\n",
       " ('just', 0.06060483626583846, 1, 0.02020161208861282),\n",
       " ('something', 0.060604836265611084, 0, -0.030302418132805542),\n",
       " ('lounge', 0.060604836265611084, 0, 0.060604836265611084),\n",
       " ('trying', 0.060604836265611084, 0, -0.060604836265611084),\n",
       " ('wish', 0.060604836265611084, 0, -0.030302418132805542),\n",
       " ('ago', 0.060604836265611084, 0, 0.060604836265611084),\n",
       " ('years', 0.05858467505686349, 2, 0.05858467505686349),\n",
       " ('motion', 0.05858467505686349, 0, 0.05858467505686349),\n",
       " ('essentially', 0.056564513848115894, 0, 0.056564513848115894),\n",
       " ('it', 0.056564513848115894, 1, 0.008080644835445128),\n",
       " ('read', 0.056564513848115894, 0, -0.056564513848115894),\n",
       " ('written', 0.0545443526393683, 0, 0.0545443526393683),\n",
       " ('direct', 0.0545443526393683, 0, 0.0545443526393683),\n",
       " ('simultaneously', 0.0545443526393683, 0, 0.0545443526393683),\n",
       " ('biting', 0.0545443526393683, 0, 0.0545443526393683),\n",
       " ('toro', 0.05454435263925461, 0, 0.018181450879751537),\n",
       " ('die', 0.052524191430165956, 0, -0.052524191430165956),\n",
       " ('oscar', 0.052524191430165956, 0, 0.052524191430165956),\n",
       " ('lighting', 0.052524191430165956, 0, -0.052524191430165956),\n",
       " ('?', 0.052524191430165956, 10, -0.026262095715082978),\n",
       " ('available', 0.05050403022141836, 1, 0.05050403022141836),\n",
       " ('characters', 0.048483869012670766, 1, -0.048483869012670766),\n",
       " ('journalist', 0.048483869012670766, 0, 0.048483869012670766),\n",
       " ('found', 0.048483869012670766, 0, 0.048483869012670766),\n",
       " ('am', 0.048483869012670766, 0, -0.048483869012670766),\n",
       " ('by', 0.048483869012670766, 7, 0.016161289670890255),\n",
       " ('duke', 0.048483869012670766, 0, -0.016161289670890255),\n",
       " ('us', 0.048483869012670766, 0, 0.024241934506335383),\n",
       " ('suite', 0.04646370780392317, 0, 0.04646370780392317),\n",
       " ('screen', 0.04646370780392317, 0, 0.04646370780392317),\n",
       " ('effect', 0.04646370780392317, 0, -0.04646370780392317),\n",
       " ('influence', 0.04646370780392317, 0, 0.04646370780392317),\n",
       " ('experience', 0.04444354659472083, 0, 0.04444354659472083),\n",
       " ('zeta', 0.04444354659472083, 0, -0.04444354659472083),\n",
       " ('guarantee', 0.04444354659472083, 0, -0.04444354659472083),\n",
       " ('through', 0.04444354659472083, 0, -0.04444354659472083),\n",
       " ('tells', 0.04444354659472083, 0, 0.04444354659472083),\n",
       " ('cover', 0.04444354659472083, 0, 0.04444354659472083),\n",
       " ('trapped', 0.04444354659472083, 0, -0.04444354659472083),\n",
       " ('how', 0.04242338538608692, 1, 0.014141128462028973),\n",
       " ('concept', 0.042423385385973233, 0, 0.042423385385973233),\n",
       " ('get', 0.042423385385973233, 1, -0.042423385385973233),\n",
       " ('favorite', 0.042423385385973233, 0, 0.042423385385973233),\n",
       " ('carry', 0.042423385385973233, 0, 0.042423385385973233),\n",
       " ('message', 0.042423385385973233, 0, -0.042423385385973233),\n",
       " ('vegas', 0.04040322417722564, 0, 0.008080644835445128),\n",
       " ('cox', 0.04040322417722564, 0, -0.01010080604430641),\n",
       " ('period', 0.04040322417722564, 0, 0.04040322417722564),\n",
       " ('place', 0.04040322417722564, 0, 0.04040322417722564),\n",
       " ('scenes', 0.04040322417722564, 3, 0.04040322417722564),\n",
       " ('hunting', 0.03838306296825067, 0, -0.03838306296825067),\n",
       " ('dropping', 0.03838306296825067, 0, -0.03838306296825067),\n",
       " ('priceless', 0.03838306296825067, 0, 0.03838306296825067),\n",
       " ('lines', 0.03838306296825067, 0, 0.03838306296825067),\n",
       " ('luck', 0.03838306296825067, 0, -0.03838306296825067),\n",
       " ('steady', 0.03838306296825067, 0, 0.03838306296825067),\n",
       " ('test', 0.03838306296825067, 0, 0.03838306296825067),\n",
       " ('plays', 0.03838306296825067, 0, 0.03838306296825067),\n",
       " ('bare', 0.036362901759503075, 0, -0.036362901759503075),\n",
       " ('meet', 0.036362901759503075, 0, -0.018181450879751537),\n",
       " ('short', 0.036362901759503075, 0, 0.036362901759503075),\n",
       " ('offers', 0.036362901759503075, 0, -0.036362901759503075),\n",
       " ('equivalent', 0.036362901759503075, 0, -0.036362901759503075),\n",
       " ('time', 0.036362901759503075, 0, 0.036362901759503075),\n",
       " ('send', 0.034342740550528106, 0, 0.034342740550528106),\n",
       " ('dose', 0.034342740550528106, 0, 0.034342740550528106),\n",
       " ('cheech', 0.034342740550528106, 0, -0.034342740550528106),\n",
       " ('sin', 0.034342740550528106, 0, -0.034342740550528106),\n",
       " ('besides', 0.034342740550528106, 0, -0.034342740550528106),\n",
       " ('raoul', 0.03232257934178051, 0, -0.03232257934178051),\n",
       " ('marks', 0.03232257934178051, 0, -0.03232257934178051),\n",
       " ('uncertain', 0.03232257934178051, 0, 0.03232257934178051),\n",
       " ('truly', 0.03232257934178051, 0, 0.03232257934178051),\n",
       " ('him', 0.03232257934178051, 1, 0.03232257934178051),\n",
       " ('weight', 0.03232257934178051, 0, -0.03232257934178051),\n",
       " ('observations', 0.03232257934178051, 0, 0.03232257934178051),\n",
       " ('i', 0.03030241813291923, 4, -0.006060483626583846),\n",
       " ('player', 0.030302418132805542, 1, -0.030302418132805542),\n",
       " ('broad', 0.030302418132805542, 0, -0.030302418132805542),\n",
       " ('twenty', 0.030302418132805542, 1, -0.030302418132805542),\n",
       " ('representation', 0.030302418132805542, 0, 0.030302418132805542),\n",
       " ('dream', 0.028282256924057947, 0, 0.028282256924057947),\n",
       " ('kick', 0.028282256924057947, 1, 0.028282256924057947),\n",
       " ('hunter', 0.028282256924057947, 0, 0.014141128462028973),\n",
       " ('alex', 0.028282256924057947, 0, 0.014141128462028973),\n",
       " ('stood', 0.026262095715082978, 0, -0.026262095715082978),\n",
       " ('man', 0.026262095715082978, 2, 0.026262095715082978),\n",
       " ('testament', 0.026262095715082978, 0, 0.026262095715082978),\n",
       " ('stomach', 0.026262095715082978, 0, -0.026262095715082978),\n",
       " ('took', 0.026262095715082978, 0, 0.026262095715082978),\n",
       " ('horrifying', 0.026262095715082978, 0, 0.026262095715082978),\n",
       " ('rooms', 0.026262095715082978, 0, -0.026262095715082978),\n",
       " ('chong', 0.024241934506335383, 0, -0.024241934506335383),\n",
       " ('thompson', 0.024241934506335383, 0, 0.012120967253167692),\n",
       " ('preferred', 0.024241934506335383, 0, -0.024241934506335383),\n",
       " ('loathing', 0.024241934506335383, 0, -0.008080644835445128),\n",
       " ('drug', 0.024241934506335383, 0, 0.008080644835445128),\n",
       " ('attacked', 0.024241934506335383, 0, 0.024241934506335383),\n",
       " ('patton', 0.024241934506335383, 0, 0.024241934506335383),\n",
       " ('sputters', 0.024241934506335383, 0, -0.024241934506335383),\n",
       " ('has', 0.024241934506335383, 3, 0.006060483626583846),\n",
       " ('district', 0.024241934506335383, 0, 0.024241934506335383),\n",
       " ('however', 0.024241934506335383, 0, -0.024241934506335383),\n",
       " ('tape', 0.022221773297360414, 0, 0.022221773297360414),\n",
       " ('full', 0.022221773297360414, 0, -0.022221773297360414),\n",
       " ('bathtub', 0.022221773297360414, 0, 0.022221773297360414),\n",
       " ('wheel', 0.022221773297360414, 0, -0.022221773297360414),\n",
       " ('fan', 0.022221773297360414, 0, 0.022221773297360414),\n",
       " ('motorcycle', 0.022221773297360414, 0, -0.022221773297360414),\n",
       " ('throw', 0.022221773297360414, 2, -0.022221773297360414),\n",
       " ('fares', 0.022221773297360414, 0, -0.022221773297360414),\n",
       " ('reaches', 0.022221773297360414, 0, -0.022221773297360414),\n",
       " ('ferris', 0.022221773297360414, 0, 0.022221773297360414),\n",
       " ('considered', 0.022221773297360414, 0, 0.022221773297360414),\n",
       " ('illustrates', 0.02020161208861282, 0, 0.02020161208861282),\n",
       " (\"airplane's\", 0.02020161208861282, 0, 0.02020161208861282),\n",
       " ('rabbit', 0.02020161208861282, 0, 0.02020161208861282),\n",
       " ('1971', 0.02020161208861282, 0, 0.02020161208861282),\n",
       " ('hispanic', 0.02020161208861282, 0, 0.02020161208861282),\n",
       " ('had', 0.02020161208861282, 0, 0.01010080604430641),\n",
       " ('mixed', 0.02020161208861282, 0, 0.02020161208861282),\n",
       " ('mood', 0.02020161208861282, 0, 0.02020161208861282),\n",
       " ('george', 0.02020161208861282, 0, 0.02020161208861282),\n",
       " ('jefferson', 0.02020161208861282, 0, 0.02020161208861282),\n",
       " ('gut', 0.018181450879751537, 0, 0.018181450879751537),\n",
       " ('gimmicky', 0.018181450879751537, 0, -0.018181450879751537),\n",
       " ('worldview', 0.018181450879751537, 0, -0.018181450879751537),\n",
       " ('belushi', 0.018181450879751537, 0, -0.018181450879751537),\n",
       " ('pull', 0.018181450879751537, 0, -0.018181450879751537),\n",
       " ('result', 0.016161289670890255, 0, -0.016161289670890255),\n",
       " ('sweaty', 0.016161289670890255, 0, 0.016161289670890255),\n",
       " ('tony', 0.016161289670890255, 0, 0.016161289670890255),\n",
       " ('controlled', 0.016161289670890255, 0, -0.016161289670890255),\n",
       " ('document', 0.016161289670890255, 0, 0.016161289670890255),\n",
       " ('groucho', 0.016161289670890255, 0, -0.016161289670890255),\n",
       " ('peaks', 0.016161289670890255, 0, -0.016161289670890255),\n",
       " ('enamored', 0.016161289670890255, 0, 0.016161289670890255),\n",
       " ('covered', 0.016161289670890255, 0, -0.016161289670890255),\n",
       " ('compound', 0.016161289670890255, 0, 0.016161289670890255),\n",
       " ('benicio', 0.016161289670890255, 0, 0.016161289670890255),\n",
       " ('mostly', 0.016161289670890255, 0, 0.016161289670890255),\n",
       " ('chemicals', 0.016161289670890255, 0, -0.016161289670890255),\n",
       " ('reassuring', 0.016161289670890255, 0, 0.016161289670890255),\n",
       " ('throat', 0.016161289670890255, 0, 0.016161289670890255),\n",
       " ('take', 0.016161289670890255, 0, -0.016161289670890255),\n",
       " ('tequila', 0.014141128462028973, 0, 0.014141128462028973),\n",
       " (\"60's\", 0.014141128462028973, 0, -0.014141128462028973),\n",
       " ('my', 0.014141128462028973, 2, -0.014141128462028973),\n",
       " ('so', 0.014141128462028973, 0, -0.014141128462028973),\n",
       " ('moments', 0.014141128462028973, 0, -0.014141128462028973),\n",
       " ('might', 0.014141128462028973, 0, -0.014141128462028973),\n",
       " ('put', 0.014141128462028973, 0, -0.014141128462028973),\n",
       " ('jumbled', 0.014141128462028973, 0, -0.014141128462028973),\n",
       " ('twisted', 0.014141128462028973, 0, -0.014141128462028973),\n",
       " ('wrought', 0.014141128462028973, 0, -0.014141128462028973),\n",
       " ('closeups', 0.014141128462028973, 0, -0.014141128462028973),\n",
       " ('aggressive', 0.012120967253167692, 0, 0.012120967253167692),\n",
       " ('where', 0.012120967253167692, 0, -0.006060483626583846),\n",
       " ('operating', 0.012120967253167692, 0, 0.012120967253167692),\n",
       " ('roller', 0.012120967253167692, 0, 0.012120967253167692),\n",
       " ('binge', 0.012120967253167692, 0, 0.012120967253167692),\n",
       " ('strike', 0.012120967253167692, 0, 0.012120967253167692),\n",
       " ('originally', 0.012120967253167692, 0, 0.012120967253167692),\n",
       " ('guys', 0.012120967253167692, 0, -0.012120967253167692),\n",
       " ('dan', 0.012120967253167692, 0, 0.012120967253167692),\n",
       " ('amidst', 0.012120967253167692, 0, 0.012120967253167692),\n",
       " ('convention', 0.012120967253167692, 0, 0.012120967253167692),\n",
       " ('historical', 0.012120967253167692, 0, -0.012120967253167692),\n",
       " ('verbatim', 0.012120967253167692, 0, 0.012120967253167692),\n",
       " ('note', 0.012120967253167692, 0, 0.012120967253167692),\n",
       " ('hear', 0.012120967253167692, 0, -0.012120967253167692),\n",
       " ('mescaline', 0.01010080604430641, 0, 0.01010080604430641),\n",
       " ('results', 0.01010080604430641, 0, -0.01010080604430641),\n",
       " ('downers', 0.01010080604430641, 0, 0.01010080604430641),\n",
       " ('smooth', 0.01010080604430641, 0, 0.01010080604430641),\n",
       " ('slated', 0.01010080604430641, 0, -0.01010080604430641),\n",
       " ('bender', 0.01010080604430641, 0, -0.01010080604430641),\n",
       " ('pressed', 0.01010080604430641, 0, -0.01010080604430641),\n",
       " ('blotter', 0.01010080604430641, 0, 0.01010080604430641),\n",
       " ('uppers', 0.01010080604430641, 0, 0.01010080604430641),\n",
       " ('psychedelic', 0.01010080604430641, 0, 0.01010080604430641),\n",
       " ('filtered', 0.01010080604430641, 0, 0.01010080604430641),\n",
       " ('multicolored', 0.01010080604430641, 0, 0.01010080604430641),\n",
       " ('puking', 0.01010080604430641, 0, -0.01010080604430641),\n",
       " ('their', 0.01010080604430641, 0, -0.01010080604430641),\n",
       " ('pontificate', 0.01010080604430641, 0, -0.01010080604430641),\n",
       " ('rainbow', 0.01010080604430641, 0, -0.01010080604430641),\n",
       " ('teeth', 0.01010080604430641, 0, -0.01010080604430641),\n",
       " ('cautionary', 0.008080644835445128, 0, 0.008080644835445128),\n",
       " ('ostensibly', 0.008080644835445128, 0, -0.008080644835445128),\n",
       " ('those', 0.008080644835445128, 0, 0.004040322417722564),\n",
       " ('over', 0.008080644835445128, 0, -0.008080644835445128),\n",
       " ('otherworldly', 0.008080644835445128, 0, 0.008080644835445128),\n",
       " ('providence', 0.008080644835445128, 0, 0.008080644835445128),\n",
       " ('activist', 0.008080644835445128, 0, 0.008080644835445128),\n",
       " ('hotel', 0.008080644835445128, 0, -0.004040322417722564),\n",
       " ('directed', 0.008080644835445128, 0, -0.008080644835445128),\n",
       " ('kind', 0.008080644835445128, 0, -0.008080644835445128),\n",
       " ('depending', 0.008080644835445128, 0, 0.008080644835445128),\n",
       " ('landing', 0.008080644835445128, 0, 0.008080644835445128),\n",
       " ('leisurely', 0.006060483626583846, 0, 0.006060483626583846),\n",
       " ('wellmade', 0.006060483626583846, 0, 0.006060483626583846),\n",
       " ('cocaine', 0.006060483626583846, 0, -0.006060483626583846),\n",
       " ('akroyd', 0.006060483626583846, 0, -0.006060483626583846),\n",
       " ('del', 0.006060483626583846, 0, 0.002020161208861282),\n",
       " ('sham', 0.006060483626583846, 0, -0.006060483626583846),\n",
       " ('terrorize', 0.006060483626583846, 0, -0.006060483626583846),\n",
       " ('schemes', 0.006060483626583846, 0, -0.006060483626583846),\n",
       " (\"gilliam's\", 0.006060483626583846, 0, 0.006060483626583846),\n",
       " ('cowriter', 0.006060483626583846, 0, -0.006060483626583846),\n",
       " ('davies', 0.006060483626583846, 0, 0.006060483626583846),\n",
       " ('humiliate', 0.004040322417722564, 0, -0.004040322417722564),\n",
       " ('knife', 0.004040322417722564, 0, 0.004040322417722564),\n",
       " ('enhance', 0.004040322417722564, 0, -0.004040322417722564),\n",
       " ('between', 0.004040322417722564, 1, 0.004040322417722564),\n",
       " ('lizards', 0.004040322417722564, 0, -0.004040322417722564),\n",
       " ('frantic', 0.004040322417722564, 0, 0.004040322417722564),\n",
       " ('rape', 0.004040322417722564, 0, 0.004040322417722564),\n",
       " ('jail', 0.004040322417722564, 0, 0.004040322417722564),\n",
       " ('means', 0.004040322417722564, 0, 0.004040322417722564),\n",
       " ('digest', 0.004040322417722564, 0, -0.004040322417722564),\n",
       " ('commits', 0.004040322417722564, 0, -0.004040322417722564),\n",
       " ('valleys', 0.004040322417722564, 0, 0.004040322417722564),\n",
       " ('white', 0.004040322417722564, 0, -0.004040322417722564),\n",
       " ('tod', 0.004040322417722564, 0, 0.004040322417722564),\n",
       " ('conceivable', 0.004040322417722564, 0, 0.004040322417722564),\n",
       " ('essentials', 0.002020161208861282, 0, -0.002020161208861282),\n",
       " ('fall', 0.002020161208861282, 0, 0.002020161208861282),\n",
       " ('lenses', 0.002020161208861282, 0, 0.002020161208861282),\n",
       " ('grotesque', 0.002020161208861282, 0, -0.002020161208861282),\n",
       " ('begs', 0.002020161208861282, 0, 0.002020161208861282),\n",
       " ('vicious', 0.002020161208861282, 0, -0.002020161208861282),\n",
       " ('coaster', 0.002020161208861282, 0, 0.002020161208861282),\n",
       " ('hallucinates', 0.002020161208861282, 0, 0.002020161208861282),\n",
       " ('produced', 0.002020161208861282, 0, -0.002020161208861282),\n",
       " ('refined', 0.002020161208861282, 0, -0.002020161208861282),\n",
       " ('gilliam', 6.407674132701977e-16, 0, 7.119637925224419e-17),\n",
       " ('camera', 2.244982603845909e-16, 0, 2.244982603845909e-16),\n",
       " ('blind', 8.46892414494652e-17, 0, 8.46892414494652e-17),\n",
       " ('exposed', 5.569394183445265e-17, 0, 2.7846970917226326e-17),\n",
       " ('wideangle', 2.8134053091622393e-17, 0, -2.8134053091622393e-17),\n",
       " ('blindfolded', 2.1531163080310896e-17, 0, 2.1531163080310896e-17),\n",
       " ('allow', 2.009575220833056e-17, 0, -2.009575220833056e-17),\n",
       " ('stripped', 1.8660341336350223e-17, 0, -1.8660341336350223e-17),\n",
       " ('mumbles', 3.1579039184324714e-18, 0, 3.1579039184324714e-18),\n",
       " ('riding', 5.741643488079119e-19, 0, -5.741643488079119e-19),\n",
       " ('seekers', 0, 0, 0),\n",
       " ('pseudonyms', 0, 0, 0),\n",
       " ('careen', 0, 0, 0),\n",
       " ('overdirecting', 0, 0, 0),\n",
       " ('mushroom', 0, 0, 0),\n",
       " ('selfprofessed', 0, 0, 0),\n",
       " ('grisoni', 0, 0, 0),\n",
       " ('spungen', 0, 0, 0),\n",
       " ('assent', 0, 0, 0),\n",
       " ('ingesting', 0, 0, 0),\n",
       " ('pharmacological', 0, 0, 0),\n",
       " ('actosta', 0, 0, 0),\n",
       " ('knot', 0, 0, 0),\n",
       " ('tilts', 0, 0, 0),\n",
       " ('nitrite', 0, 0, 0),\n",
       " (\"attorney's\", 0, 0, 0),\n",
       " ('terrifies', 0, 0, 0),\n",
       " ('amyl', 0, 0, 0),\n",
       " ('mushrooms', 0, 0, 0),\n",
       " ('thickbladed', 0, 0, 0),\n",
       " ('ingest', 0, 0, 0),\n",
       " ('daredevils', 0, 0, 0),\n",
       " ('strychninelaced', 0, 0, 0),\n",
       " ('clenched', 0, 0, 0),\n",
       " (\"cox's\", 0, 0, 0)]"
      ]
     },
     "execution_count": 802,
     "metadata": {},
     "output_type": "execute_result"
    }
   ],
   "source": [
    "sorted_x"
   ]
  },
  {
   "cell_type": "code",
   "execution_count": 808,
   "metadata": {
    "collapsed": false
   },
   "outputs": [
    {
     "data": {
      "text/plain": [
       "1"
      ]
     },
     "execution_count": 808,
     "metadata": {},
     "output_type": "execute_result"
    }
   ],
   "source": [
    "y_test[14]"
   ]
  },
  {
   "cell_type": "code",
   "execution_count": 804,
   "metadata": {
    "collapsed": false
   },
   "outputs": [
    {
     "data": {
      "text/plain": [
       "0.6545322316687816"
      ]
     },
     "execution_count": 804,
     "metadata": {},
     "output_type": "execute_result"
    }
   ],
   "source": [
    "sums = 0\n",
    "for i in range(len(sorted_x)):\n",
    "    sums += sorted_x[i][2]*sorted_x[i][3]\n",
    "sums"
   ]
  },
  {
   "cell_type": "code",
   "execution_count": 807,
   "metadata": {
    "collapsed": false
   },
   "outputs": [],
   "source": [
    "#pickle.dump(sorted_x, open( \"wrongsample3.p\", \"wb\"))\n",
    "pickle.dump(-1, open( \"wrongsample2_true_y.p\", \"wb\"))"
   ]
  },
  {
   "cell_type": "code",
   "execution_count": 97,
   "metadata": {
    "collapsed": false
   },
   "outputs": [
    {
     "data": {
      "text/plain": [
       "-1"
      ]
     },
     "execution_count": 97,
     "metadata": {},
     "output_type": "execute_result"
    }
   ],
   "source": [
    "tmpy = pickle.load( open( \"wrongsample3_true_y.p\", \"rb\" ) )\n",
    "tmpy"
   ]
  },
  {
   "cell_type": "code",
   "execution_count": null,
   "metadata": {
    "collapsed": true
   },
   "outputs": [],
   "source": []
  },
  {
   "cell_type": "code",
   "execution_count": 87,
   "metadata": {
    "collapsed": false
   },
   "outputs": [],
   "source": [
    "tmp = pickle.load( open( \"wrongsample1.p\", \"rb\" ) )"
   ]
  },
  {
   "cell_type": "code",
   "execution_count": 88,
   "metadata": {
    "collapsed": false
   },
   "outputs": [
    {
     "data": {
      "text/plain": [
       "[('and', 1.668653158514644, 14, 0.11918951132247457),\n",
       " ('on', 1.3737096220284002, 8, -0.17171370275355002),\n",
       " ('american', 1.3575483323547815, 6, 0.22625805539246358),\n",
       " ('the', 1.1595725338863758, 41, 0.028282256924057947),\n",
       " ('version', 1.0888668915786184, 7, -0.15555241308265977),\n",
       " ('bad', 0.9555362517930917, 1, -0.9555362517930917),\n",
       " ('an', 0.9292741560784634, 5, -0.18585483121569268),\n",
       " ('in', 0.8666491586027405, 11, 0.07878628714570368),\n",
       " ('original', 0.8363467404706171, 3, -0.278782246823539),\n",
       " ('to', 0.7575604533212754, 15, -0.05050403022141836),\n",
       " ('l', 0.7272580351900615, 10, -0.07272580351900615),\n",
       " ('with', 0.6787741661773907, 6, 0.11312902769623179),\n",
       " ('film', 0.6727136825497837, 9, -0.07474596472775374),\n",
       " ('for', 0.6565523928793482, 5, -0.13131047857586964),\n",
       " ('then', 0.6545322316706006, 2, -0.3272661158353003),\n",
       " ('up', 0.5737257833170588, 2, -0.2868628916585294),\n",
       " ('this', 0.5151411082606501, 3, -0.17171370275355002),\n",
       " ('great', 0.5050403022141836, 1, 0.5050403022141836),\n",
       " ('even', 0.46059675561991753, 2, -0.23029837780995877),\n",
       " ('at', 0.45655643320060335, 2, -0.22827821660030168),\n",
       " ('best', 0.45251611078492715, 2, 0.22625805539246358),\n",
       " ('which', 0.428274176279956, 2, 0.214137088139978),\n",
       " ('most', 0.41413304781599436, 1, 0.41413304781599436),\n",
       " ('films', 0.41211288660633727, 3, 0.13737096220211242),\n",
       " ('as', 0.3939314357285184, 5, 0.07878628714570368),\n",
       " ('such', 0.38383062968205195, 2, -0.19191531484102597),\n",
       " ('besson', 0.37574998484888056, 3, -0.12524999494962685),\n",
       " ('could', 0.3696895012217283, 1, -0.3696895012217283),\n",
       " ('life', 0.34544756671675714, 1, 0.34544756671675714),\n",
       " ('he', 0.34342740550710005, 2, 0.17171370275355002),\n",
       " ('of', 0.33938708308869536, 24, 0.014141128462028973),\n",
       " ('these', 0.3313064382527955, 2, 0.16565321912639774),\n",
       " ('is', 0.32726611583552767, 9, 0.036362901759503075),\n",
       " ('become', 0.3191854710003099, 2, 0.15959273550015496),\n",
       " ('only', 0.3171653097906528, 1, -0.3171653097906528),\n",
       " ('you', 0.30908466495566245, 1, 0.30908466495566245),\n",
       " (\"there's\", 0.30706450374600536, 1, -0.30706450374600536),\n",
       " ('played', 0.2828225692410342, 2, 0.1414112846205171),\n",
       " ('becomes', 0.2808024080313771, 1, -0.2808024080313771),\n",
       " ('aliens', 0.27272176319638675, 1, 0.27272176319638675),\n",
       " ('?', 0.2626209571508298, 10, -0.026262095715082978),\n",
       " ('better', 0.24645966748175852, 1, -0.24645966748175852),\n",
       " ('international', 0.24241934506335383, 5, -0.048483869012670766),\n",
       " ('falls', 0.23433870022745396, 1, -0.23433870022745396),\n",
       " ('luc', 0.23029837780950402, 3, -0.07676612593650134),\n",
       " ('while', 0.22827821660030168, 1, 0.22827821660030168),\n",
       " ('point', 0.22827821660030168, 1, -0.22827821660030168),\n",
       " ('jean', 0.22625805539246358, 2, -0.11312902769623179),\n",
       " ('world', 0.22423789418280649, 1, 0.22423789418280649),\n",
       " ('masterpiece', 0.22221773297496838, 2, 0.11110886648748419),\n",
       " ('cuts', 0.2181774105574732, 2, -0.1090887052787366),\n",
       " ('are', 0.2181774105574732, 2, -0.1090887052787366),\n",
       " ('now', 0.21211692693032091, 1, 0.21211692693032091),\n",
       " ('good', 0.20807660451282572, 1, 0.20807660451282572),\n",
       " ('both', 0.20201612088567344, 1, 0.20201612088567344),\n",
       " ('girl', 0.19797579846817825, 1, -0.19797579846817825),\n",
       " ('but', 0.19797579846817825, 2, 0.09898789923408913),\n",
       " ('minutes', 0.19595563725852116, 1, -0.19595563725852116),\n",
       " ('a', 0.19393547605068306, 12, -0.016161289670890255),\n",
       " ('that', 0.19393547605068306, 8, -0.024241934506335383),\n",
       " ('one', 0.19191531484102597, 1, 0.19191531484102597),\n",
       " ('too', 0.1818145087981975, 2, -0.09090725439909875),\n",
       " ('about', 0.1797943475885404, 1, -0.1797943475885404),\n",
       " ('performance', 0.17777418637888331, 1, 0.17777418637888331),\n",
       " ('or', 0.17575402517104521, 1, -0.17575402517104521),\n",
       " (\"director's\", 0.17373386396138812, 2, -0.08686693198069406),\n",
       " ('crew', 0.16969354154434768, 3, -0.056564513848115894),\n",
       " ('action', 0.16969354154389293, 1, -0.16969354154389293),\n",
       " ('around', 0.16767338033605483, 1, -0.16767338033605483),\n",
       " ('reno', 0.16565321912639774, 2, -0.08282660956319887),\n",
       " ('have', 0.16565321912639774, 1, -0.16565321912639774),\n",
       " ('gary', 0.16161289670890255, 2, -0.08080644835445128),\n",
       " ('studio', 0.15959273550015496, 1, -0.15959273550015496),\n",
       " ('format', 0.15353225187300268, 2, 0.07676612593650134),\n",
       " ('follows', 0.15151209066425508, 1, 0.15151209066425508),\n",
       " ('involving', 0.15151209066425508, 1, -0.15151209066425508),\n",
       " ('really', 0.1474717682467599, 1, 0.1474717682467599),\n",
       " ('were', 0.1414112846205171, 1, 0.1414112846205171),\n",
       " ('classic', 0.13737096220211242, 2, 0.06868548110105621),\n",
       " ('gives', 0.13535080099336483, 1, 0.13535080099336483),\n",
       " ('relationship', 0.13333063978461723, 2, 0.06666531989230862),\n",
       " ('part', 0.13333063978461723, 2, -0.06666531989230862),\n",
       " ('cops', 0.13333063978416249, 3, 0.04444354659472083),\n",
       " ('history', 0.13131047857586964, 1, 0.13131047857586964),\n",
       " ('actor', 0.13131047857586964, 1, -0.13131047857586964),\n",
       " ('cameo', 0.12727015615837445, 1, -0.12727015615837445),\n",
       " ('kills', 0.12322983374087926, 1, -0.12322983374087926),\n",
       " ('lead', 0.12322983374087926, 1, -0.12322983374087926),\n",
       " ('scenes', 0.12120967253167692, 3, 0.04040322417722564),\n",
       " ('until', 0.11716935011372698, 1, 0.11716935011372698),\n",
       " ('years', 0.11716935011372698, 2, 0.05858467505686349),\n",
       " ('drama', 0.11716935011372698, 2, 0.05858467505686349),\n",
       " ('by', 0.11312902769623179, 7, 0.016161289670890255),\n",
       " ('missing', 0.11110886648748419, 1, -0.11110886648748419),\n",
       " ('la', 0.11110886648748419, 1, 0.11110886648748419),\n",
       " ('everyone', 0.1090887052787366, 1, 0.1090887052787366),\n",
       " ('family', 0.107068544069989, 1, 0.107068544069989),\n",
       " ('much', 0.10504838286033191, 1, -0.10504838286033191),\n",
       " ('can', 0.10504838286033191, 1, -0.10504838286033191),\n",
       " ('within', 0.10504838286033191, 1, -0.10504838286033191),\n",
       " ('her', 0.10504838286033191, 4, -0.026262095715082978),\n",
       " ('his', 0.10302822165158432, 3, -0.034342740550528106),\n",
       " ('1995', 0.10302822165158432, 1, -0.10302822165158432),\n",
       " ('down', 0.10302822165158432, 1, -0.10302822165158432),\n",
       " ('there', 0.10100806044283672, 1, -0.10100806044283672),\n",
       " ('save', 0.09898789923408913, 1, -0.09898789923408913),\n",
       " ('story', 0.09696773802534153, 1, -0.09696773802534153),\n",
       " ('oldman', 0.09696773802534153, 3, -0.03232257934178051),\n",
       " (\"it's\", 0.09292741560784634, 1, 0.09292741560784634),\n",
       " ('out', 0.09292741560784634, 2, -0.04646370780392317),\n",
       " ('later', 0.09292741560784634, 2, -0.04646370780392317),\n",
       " ('all', 0.08888709318944166, 1, -0.08888709318944166),\n",
       " ('watch', 0.08888709318944166, 1, 0.08888709318944166),\n",
       " ('bunch', 0.08686693198069406, 1, -0.08686693198069406),\n",
       " ('italian', 0.08686693198069406, 1, 0.08686693198069406),\n",
       " ('star', 0.08686693198069406, 1, 0.08686693198069406),\n",
       " ('returns', 0.08484677077194647, 1, -0.08484677077194647),\n",
       " ('more', 0.08282660956319887, 1, -0.08282660956319887),\n",
       " ('decides', 0.08080644835445128, 1, -0.08080644835445128),\n",
       " ('follow', 0.07878628714570368, 1, -0.07878628714570368),\n",
       " ('next', 0.07878628714570368, 1, 0.07878628714570368),\n",
       " ('don', 0.07878628714570368, 1, -0.07878628714570368),\n",
       " ('cinema', 0.07878628714524893, 3, 0.026262095715082978),\n",
       " ('emotions', 0.07676612593650134, 1, 0.07676612593650134),\n",
       " ('provide', 0.07676612593650134, 1, 0.07676612593650134),\n",
       " ('find', 0.07474596472775374, 1, -0.07474596472775374),\n",
       " ('further', 0.07474596472775374, 1, 0.07474596472775374),\n",
       " ('known', 0.07474596472775374, 1, 0.07474596472775374),\n",
       " ('certain', 0.07272580351900615, 1, -0.07272580351900615),\n",
       " ('door', 0.07070564231025855, 1, 0.07070564231025855),\n",
       " ('including', 0.07070564231025855, 1, 0.07070564231025855),\n",
       " ('countless', 0.06868548110105621, 1, -0.06868548110105621),\n",
       " ('way', 0.06868548110105621, 1, 0.06868548110105621),\n",
       " ('pick', 0.06666531989230862, 1, -0.06666531989230862),\n",
       " ('uncle', 0.06666531989230862, 1, 0.06666531989230862),\n",
       " ('hit', 0.06464515868356102, 2, -0.03232257934178051),\n",
       " ('like', 0.06464515868356102, 1, -0.06464515868356102),\n",
       " ('entire', 0.06262499747481343, 1, 0.06262499747481343),\n",
       " ('crooked', 0.06262499747481343, 1, -0.06262499747481343),\n",
       " ('drugs', 0.06262499747481343, 1, -0.06262499747481343),\n",
       " ('blade', 0.06262499747481343, 1, 0.06262499747481343),\n",
       " ('end', 0.06262499747481343, 1, -0.06262499747481343),\n",
       " ('advice', 0.06262499747481343, 1, -0.06262499747481343),\n",
       " ('brings', 0.06262499747481343, 1, 0.06262499747481343),\n",
       " ('love', 0.060604836265611084, 1, 0.060604836265611084),\n",
       " ('danny', 0.060604836265611084, 2, 0.030302418132805542),\n",
       " ('2', 0.060604836265611084, 1, -0.060604836265611084),\n",
       " ('emotional', 0.060604836265611084, 1, 0.060604836265611084),\n",
       " ('dvd', 0.060604836265611084, 2, 0.030302418132805542),\n",
       " (\"besson's\", 0.056564513848115894, 2, -0.028282256924057947),\n",
       " ('away', 0.056564513848115894, 2, -0.028282256924057947),\n",
       " ('heavy', 0.056564513848115894, 1, -0.056564513848115894),\n",
       " ('cinematic', 0.056564513848115894, 1, -0.056564513848115894),\n",
       " ('understanding', 0.0545443526393683, 1, 0.0545443526393683),\n",
       " ('footsteps', 0.0545443526393683, 1, -0.0545443526393683),\n",
       " ('previously', 0.0545443526393683, 1, -0.0545443526393683),\n",
       " ('your', 0.0545443526393683, 1, 0.0545443526393683),\n",
       " ('queen', 0.052524191430165956, 1, 0.052524191430165956),\n",
       " ('whose', 0.052524191430165956, 1, -0.052524191430165956),\n",
       " ('man', 0.052524191430165956, 2, 0.026262095715082978),\n",
       " ('murky', 0.052524191430165956, 1, -0.052524191430165956),\n",
       " ('handle', 0.05050403022141836, 1, -0.05050403022141836),\n",
       " ('available', 0.05050403022141836, 1, 0.05050403022141836),\n",
       " ('extra', 0.05050403022141836, 1, 0.05050403022141836),\n",
       " ('differences', 0.05050403022141836, 1, 0.05050403022141836),\n",
       " ('example', 0.048483869012670766, 1, 0.048483869012670766),\n",
       " ('characters', 0.048483869012670766, 1, -0.048483869012670766),\n",
       " ('provided', 0.04646370780392317, 1, -0.04646370780392317),\n",
       " ('copy', 0.04646370780392317, 1, 0.04646370780392317),\n",
       " ('prime', 0.04444354659472083, 2, 0.022221773297360414),\n",
       " ('from', 0.04444354659472083, 1, 0.04444354659472083),\n",
       " ('me', 0.04444354659472083, 1, 0.04444354659472083),\n",
       " ('myself', 0.04444354659472083, 1, 0.04444354659472083),\n",
       " ('day', 0.04444354659472083, 1, -0.04444354659472083),\n",
       " ('directly', 0.04444354659472083, 1, -0.04444354659472083),\n",
       " ('throw', 0.04444354659472083, 2, -0.022221773297360414),\n",
       " ('when', 0.04444354659472083, 1, -0.04444354659472083),\n",
       " ('learns', 0.042423385385973233, 1, 0.042423385385973233),\n",
       " ('get', 0.042423385385973233, 1, -0.042423385385973233),\n",
       " ('emotionally', 0.04040322417722564, 1, 0.04040322417722564),\n",
       " ('actions', 0.04040322417722564, 1, 0.04040322417722564),\n",
       " ('big', 0.04040322417722564, 1, -0.04040322417722564),\n",
       " ('father', 0.03838306296825067, 1, 0.03838306296825067),\n",
       " ('femme', 0.03838306296825067, 1, -0.03838306296825067),\n",
       " ('wild', 0.03838306296825067, 1, -0.03838306296825067),\n",
       " ('closer', 0.03838306296825067, 1, -0.03838306296825067),\n",
       " ('aiello', 0.036362901759503075, 2, -0.018181450879751537),\n",
       " ('newcomer', 0.036362901759503075, 1, 0.036362901759503075),\n",
       " ('producer', 0.034342740550528106, 1, 0.034342740550528106),\n",
       " ('newly', 0.034342740550528106, 1, -0.034342740550528106),\n",
       " ('him', 0.03232257934178051, 1, 0.03232257934178051),\n",
       " ('ability', 0.03232257934178051, 1, -0.03232257934178051),\n",
       " ('cut', 0.03232257934178051, 2, -0.016161289670890255),\n",
       " ('overthetop', 0.03232257934178051, 1, -0.03232257934178051),\n",
       " ('inclusion', 0.03232257934178051, 1, -0.03232257934178051),\n",
       " ('mathilda', 0.03232257934178051, 4, -0.008080644835445128),\n",
       " ('reflecting', 0.03232257934178051, 1, 0.03232257934178051),\n",
       " ('footage', 0.03030241813291923, 3, -0.01010080604430641),\n",
       " ('apartment', 0.030302418132805542, 1, -0.030302418132805542),\n",
       " ('lives', 0.030302418132805542, 1, -0.030302418132805542),\n",
       " ('player', 0.030302418132805542, 1, -0.030302418132805542),\n",
       " ('mob', 0.030302418132805542, 1, 0.030302418132805542),\n",
       " ('thing', 0.030302418132805542, 1, 0.030302418132805542),\n",
       " ('twenty', 0.030302418132805542, 1, -0.030302418132805542),\n",
       " ('claude', 0.028282256924057947, 1, 0.028282256924057947),\n",
       " ('involved', 0.028282256924057947, 1, -0.028282256924057947),\n",
       " ('my', 0.028282256924057947, 2, -0.014141128462028973),\n",
       " ('kick', 0.028282256924057947, 1, 0.028282256924057947),\n",
       " ('brutality', 0.028282256924057947, 1, 0.028282256924057947),\n",
       " ('starring', 0.028282256924057947, 1, 0.028282256924057947),\n",
       " ('named', 0.026262095715082978, 1, -0.026262095715082978),\n",
       " ('french', 0.024241934506335383, 2, -0.012120967253167692),\n",
       " ('reflects', 0.024241934506335383, 1, -0.024241934506335383),\n",
       " ('i', 0.024241934506335383, 4, -0.006060483626583846),\n",
       " ('profession', 0.024241934506335383, 2, 0.012120967253167692),\n",
       " ('natalie', 0.024241934506335383, 2, 0.012120967253167692),\n",
       " ('serious', 0.024241934506335383, 1, -0.024241934506335383),\n",
       " ('locked', 0.022221773297360414, 1, 0.022221773297360414),\n",
       " ('accessible', 0.022221773297360414, 1, 0.022221773297360414),\n",
       " ('public', 0.02020161208861282, 1, 0.02020161208861282),\n",
       " ('motivations', 0.02020161208861282, 1, -0.02020161208861282),\n",
       " ('contains', 0.02020161208861282, 1, -0.02020161208861282),\n",
       " ('just', 0.02020161208861282, 1, 0.02020161208861282),\n",
       " ('unseen', 0.02020161208861282, 1, -0.02020161208861282),\n",
       " ('integrity', 0.018181450879751537, 1, 0.018181450879751537),\n",
       " ('24', 0.018181450879751537, 1, -0.018181450879751537),\n",
       " ('has', 0.018181450879751537, 3, 0.006060483626583846),\n",
       " ('run', 0.018181450879751537, 1, 0.018181450879751537),\n",
       " ('12yearold', 0.016161289670890255, 1, 0.016161289670890255),\n",
       " ('development', 0.016161289670890255, 1, 0.016161289670890255),\n",
       " ('stores', 0.016161289670890255, 1, 0.016161289670890255),\n",
       " ('additional', 0.016161289670890255, 2, -0.008080644835445128),\n",
       " ('never', 0.014141128462028973, 1, 0.014141128462028973),\n",
       " ('hides', 0.014141128462028973, 1, -0.014141128462028973),\n",
       " ('how', 0.014141128462028973, 1, 0.014141128462028973),\n",
       " ('kept', 0.014141128462028973, 1, -0.014141128462028973),\n",
       " ('explicit', 0.014141128462028973, 1, -0.014141128462028973),\n",
       " ('defining', 0.014141128462028973, 1, -0.014141128462028973),\n",
       " ('betters', 0.012120967253167692, 1, -0.012120967253167692),\n",
       " ('release', 0.012120967253167692, 1, 0.012120967253167692),\n",
       " ('deemed', 0.012120967253167692, 1, 0.012120967253167692),\n",
       " ('bucks', 0.012120967253167692, 2, -0.006060483626583846),\n",
       " ('buying', 0.012120967253167692, 1, 0.012120967253167692),\n",
       " ('zoe', 0.012120967253167692, 1, 0.012120967253167692),\n",
       " ('assume', 0.012120967253167692, 1, -0.012120967253167692),\n",
       " ('100', 0.01010080604430641, 1, 0.01010080604430641),\n",
       " ('taking', 0.01010080604430641, 1, 0.01010080604430641),\n",
       " ('laced', 0.01010080604430641, 1, -0.01010080604430641),\n",
       " ('feel', 0.01010080604430641, 1, 0.01010080604430641),\n",
       " ('examples', 0.01010080604430641, 1, 0.01010080604430641),\n",
       " ('primarily', 0.01010080604430641, 1, 0.01010080604430641),\n",
       " ('runner', 0.01010080604430641, 1, -0.01010080604430641),\n",
       " ('she', 0.008080644835445128, 2, -0.004040322417722564),\n",
       " ('freaks', 0.008080644835445128, 1, 0.008080644835445128),\n",
       " ('portman', 0.008080644835445128, 2, -0.004040322417722564),\n",
       " ('censors', 0.008080644835445128, 2, -0.004040322417722564),\n",
       " ('it', 0.008080644835445128, 1, 0.008080644835445128),\n",
       " ('character', 0.008080644835445128, 1, 0.008080644835445128),\n",
       " ('pertaining', 0.008080644835445128, 1, 0.008080644835445128),\n",
       " ('beginning', 0.008080644835445128, 1, 0.008080644835445128),\n",
       " ('punctuated', 0.008080644835445128, 1, -0.008080644835445128),\n",
       " ('enraptured', 0.008080644835445128, 1, 0.008080644835445128),\n",
       " ('stronger', 0.008080644835445128, 1, -0.008080644835445128),\n",
       " ('nikita', 0.006060483626583846, 1, 0.006060483626583846),\n",
       " ('manages', 0.006060483626583846, 1, 0.006060483626583846),\n",
       " ('ferociously', 0.006060483626583846, 1, 0.006060483626583846),\n",
       " ('directorwriter', 0.006060483626583846, 1, -0.006060483626583846),\n",
       " ('bought', 0.006060483626583846, 1, 0.006060483626583846),\n",
       " ('laserdisc', 0.006060483626583846, 3, 0.002020161208861282),\n",
       " ('pity', 0.006060483626583846, 1, 0.006060483626583846),\n",
       " ('after', 0.006060483626583846, 1, -0.006060483626583846),\n",
       " ('extension', 0.006060483626583846, 1, -0.006060483626583846),\n",
       " ('chopped', 0.006060483626583846, 1, -0.006060483626583846),\n",
       " ('professional', 0.006060483626583846, 3, 0.002020161208861282),\n",
       " (\"filmmaker's\", 0.006060483626583846, 1, -0.006060483626583846),\n",
       " ('bonds', 0.004040322417722564, 1, 0.004040322417722564),\n",
       " (\"directors'\", 0.004040322417722564, 1, -0.004040322417722564),\n",
       " ('between', 0.004040322417722564, 1, 0.004040322417722564),\n",
       " ('replaced', 0.004040322417722564, 1, 0.004040322417722564),\n",
       " ('pieces', 0.004040322417722564, 1, -0.004040322417722564),\n",
       " ('terminator', 0.004040322417722564, 1, 0.004040322417722564),\n",
       " ('ironic', 0.004040322417722564, 2, -0.002020161208861282),\n",
       " ('independent', 0.004040322417722564, 1, -0.004040322417722564),\n",
       " ('advent', 0.004040322417722564, 1, 0.004040322417722564),\n",
       " ('abyss', 0.004040322417722564, 1, 0.004040322417722564),\n",
       " ('restored', 0.004040322417722564, 1, -0.004040322417722564),\n",
       " ('groceries', 0.002020161208861282, 1, -0.002020161208861282),\n",
       " ('invariably', 0.002020161208861282, 1, 0.002020161208861282),\n",
       " (\"matilda's\", 0.002020161208861282, 1, -0.002020161208861282),\n",
       " ('killing', 0.002020161208861282, 1, -0.002020161208861282),\n",
       " ('instant', 0.002020161208861282, 1, -0.002020161208861282),\n",
       " ('heard', 0.002020161208861282, 1, -0.002020161208861282),\n",
       " ('audiences', 1.0708165105276235e-16, 1, -1.0708165105276235e-16),\n",
       " ('draws', 6.459348924093269e-17, 1, -6.459348924093269e-17),\n",
       " ('searches', 3.933025789327097e-17, 1, -3.933025789327097e-17),\n",
       " ('cleaner', 2.5837395696403367e-18, 1, 2.5837395696403367e-18),\n",
       " ('pertains', 0, 1, 0),\n",
       " ('margot', 0, 1, 0),\n",
       " (\"on's\", 0, 3, 0),\n",
       " (\"mathilda's\", 0, 1, 0),\n",
       " ('eluded', 0, 1, 0),\n",
       " ('jeanhugues', 0, 1, 0),\n",
       " ('mucked', 0, 1, 0),\n",
       " ('anglade', 0, 1, 0),\n",
       " ('reawaken', 0, 1, 0)]"
      ]
     },
     "execution_count": 88,
     "metadata": {},
     "output_type": "execute_result"
    }
   ],
   "source": [
    "tmp1"
   ]
  },
  {
   "cell_type": "code",
   "execution_count": 98,
   "metadata": {
    "collapsed": false
   },
   "outputs": [
    {
     "data": {
      "text/plain": [
       "[('and', 3.8140643623191863, 14, 0.11918951132247457),\n",
       " ('then', 1.6363305791765015, 2, -0.3272661158353003),\n",
       " ('on', 1.5454233247819502, 8, -0.17171370275355002),\n",
       " ('see', 1.3211854305918678, 0, 0.4403951435306226),\n",
       " ('to', 1.1615926950926223, 15, -0.05050403022141836),\n",
       " ('the', 1.1595725338863758, 41, 0.028282256924057947),\n",
       " ('work', 1.1474515666341176, 0, -0.2868628916585294),\n",
       " ('in', 0.9454354457484442, 11, 0.07878628714570368),\n",
       " ('you', 0.9272539948669873, 1, 0.30908466495566245),\n",
       " ('will', 0.9151330276145018, 0, 0.30504434253816726),\n",
       " ('as', 0.8666491586027405, 5, 0.07878628714570368),\n",
       " ('have', 0.8282660956319887, 1, -0.16565321912639774),\n",
       " ('but', 0.791903193872713, 2, 0.09898789923408913),\n",
       " ('for', 0.7878628714552178, 5, -0.13131047857586964),\n",
       " ('an', 0.7434193248627707, 5, -0.18585483121569268),\n",
       " ('if', 0.7232177127734758, 0, -0.3616088563867379),\n",
       " ('he', 0.6868548110142001, 2, 0.17171370275355002),\n",
       " ('no', 0.684834649800905, 0, -0.22827821660030168),\n",
       " (\"there's\", 0.6141290074920107, 1, -0.30706450374600536),\n",
       " ('movie', 0.5939273954045348, 0, -0.09898789923408913),\n",
       " ('up', 0.5737257833170588, 2, -0.2868628916585294),\n",
       " ('are', 0.545443526393683, 2, -0.1090887052787366),\n",
       " ('or', 0.5272620755131356, 1, -0.17575402517104521),\n",
       " ('this', 0.5151411082606501, 3, -0.17171370275355002),\n",
       " ('better', 0.49291933496351703, 1, -0.24645966748175852),\n",
       " ('into', 0.49291933496351703, 0, -0.12322983374087926),\n",
       " ('them', 0.48483869012670766, 0, 0.08080644835445128),\n",
       " ('want', 0.48483869012488867, 0, 0.12120967253122217),\n",
       " ('they', 0.48483869012488867, 0, 0.12120967253122217),\n",
       " ('a', 0.4686774004558174, 12, -0.016161289670890255),\n",
       " ('point', 0.45655643320060335, 1, -0.22827821660030168),\n",
       " ('while', 0.45655643320060335, 1, 0.22827821660030168),\n",
       " ('with', 0.45251611078492715, 6, 0.11312902769623179),\n",
       " ('film', 0.44847578836652247, 9, -0.07474596472775374),\n",
       " ('would', 0.4363548211149464, 0, -0.1090887052787366),\n",
       " ('which', 0.428274176279956, 2, 0.214137088139978),\n",
       " ('nothing', 0.41009272540031816, 0, -0.41009272540031816),\n",
       " ('there', 0.4040322417713469, 1, -0.10100806044283672),\n",
       " ('of', 0.39595159693681126, 24, 0.014141128462028973),\n",
       " ('one', 0.38383062968205195, 1, 0.19191531484102597),\n",
       " ('performances', 0.3676693400120712, 0, 0.1838346700060356),\n",
       " ('all', 0.35554837275776663, 1, -0.08888709318944166),\n",
       " ('many', 0.35554837275776663, 0, 0.35554837275776663),\n",
       " ('two', 0.33534676067210967, 0, -0.16767338033605483),\n",
       " ('these', 0.3313064382527955, 2, 0.16565321912639774),\n",
       " ('las', 0.3313064382527955, 0, 0.08282660956319887),\n",
       " ('is', 0.32726611583552767, 9, 0.036362901759503075),\n",
       " ('been', 0.3151451485828147, 0, -0.07878628714570368),\n",
       " ('much', 0.31514514858099574, 1, -0.10504838286033191),\n",
       " (\"doesn't\", 0.30706450374600536, 0, -0.15353225187300268),\n",
       " (\"i've\", 0.30504434253816726, 0, 0.30504434253816726),\n",
       " ('what', 0.30302418132851017, 0, 0.10100806044283672),\n",
       " ('some', 0.30302418132851017, 0, -0.15151209066425508),\n",
       " ('also', 0.2969636977031769, 0, 0.2969636977031769),\n",
       " ('made', 0.2909032140760246, 0, -0.07272580351900615),\n",
       " ('back', 0.2909032140760246, 0, 0.2909032140760246),\n",
       " ('becomes', 0.2808024080313771, 1, -0.2808024080313771),\n",
       " ('watching', 0.278782246823539, 0, -0.1393911234117695),\n",
       " ('hard', 0.27474192440422485, 0, -0.06868548110105621),\n",
       " ('your', 0.2727217631968415, 1, 0.0545443526393683),\n",
       " ('true', 0.256560473524587, 0, 0.256560473524587),\n",
       " ('hilarious', 0.2545403123167489, 0, 0.2545403123167489),\n",
       " ('other', 0.2545403123167489, 0, 0.2545403123167489),\n",
       " ('wrong', 0.2504999898992537, 0, 0.12524999494962685),\n",
       " ('was', 0.2504999898992537, 0, -0.06262499747481343),\n",
       " ('dialogue', 0.24645966748175852, 0, -0.12322983374087926),\n",
       " ('terry', 0.24241934506335383, 0, -0.08080644835445128),\n",
       " ('dead', 0.23433870022745396, 0, -0.11716935011372698),\n",
       " ('under', 0.23029837780995877, 0, -0.11514918890497938),\n",
       " ('johnny', 0.23029837780950402, 0, 0.07676612593650134),\n",
       " ('at', 0.22827821660030168, 2, -0.22827821660030168),\n",
       " ('ride', 0.22625805539246358, 0, 0.11312902769623179),\n",
       " ('best', 0.22625805539246358, 2, 0.22625805539246358),\n",
       " ('american', 0.22625805539246358, 6, 0.22625805539246358),\n",
       " ('does', 0.22423789418280649, 0, 0.22423789418280649),\n",
       " ('tries', 0.22423789418280649, 0, -0.22423789418280649),\n",
       " ('important', 0.2181774105574732, 0, 0.2181774105574732),\n",
       " ('acid', 0.21817741055701845, 0, -0.036362901759503075),\n",
       " (\"you're\", 0.21817741055701845, 0, -0.07272580351900615),\n",
       " ('that', 0.21817741055701845, 8, -0.024241934506335383),\n",
       " ('s', 0.214137088139978, 0, -0.107068544069989),\n",
       " ('dr', 0.21211692693077566, 0, -0.07070564231025855),\n",
       " ('now', 0.21211692693032091, 1, 0.21211692693032091),\n",
       " ('good', 0.20807660451282572, 1, 0.20807660451282572),\n",
       " ('depp', 0.20605644330316863, 0, 0.06868548110105621),\n",
       " ('town', 0.20201612088567344, 0, 0.20201612088567344),\n",
       " ('interesting', 0.20201612088567344, 0, -0.10100806044283672),\n",
       " ('times', 0.19999595967783534, 0, 0.19999595967783534),\n",
       " ('dutch', 0.19595563725852116, 0, -0.19595563725852116),\n",
       " ('fear', 0.19393547605068306, 0, 0.06464515868356102),\n",
       " ('works', 0.19393547605068306, 0, 0.19393547605068306),\n",
       " ('able', 0.18989515363318787, 0, 0.18989515363318787),\n",
       " ('several', 0.18787499242353078, 0, 0.18787499242353078),\n",
       " (\"it's\", 0.18585483121569268, 1, 0.09292741560784634),\n",
       " ('anyway', 0.1838346700060356, 0, -0.1838346700060356),\n",
       " ('too', 0.1818145087981975, 2, -0.09090725439909875),\n",
       " ('about', 0.1797943475885404, 1, -0.1797943475885404),\n",
       " ('performance', 0.17777418637888331, 1, 0.17777418637888331),\n",
       " ('do', 0.17575402517104521, 0, -0.17575402517104521),\n",
       " ('lost', 0.17171370275355002, 0, -0.17171370275355002),\n",
       " ('his', 0.17171370275264053, 3, -0.034342740550528106),\n",
       " ('enjoy', 0.16767338033605483, 0, 0.16767338033605483),\n",
       " ('more', 0.16565321912639774, 1, -0.08282660956319887),\n",
       " ('images', 0.16565321912639774, 0, 0.16565321912639774),\n",
       " ('book', 0.1636330579181049, 0, -0.0545443526393683),\n",
       " ('always', 0.16161289670890255, 0, 0.16161289670890255),\n",
       " ('last', 0.15959273550015496, 0, -0.15959273550015496),\n",
       " ('before', 0.15555241308265977, 0, 0.15555241308265977),\n",
       " ('who', 0.15353225187300268, 0, -0.07676612593650134),\n",
       " ('really', 0.1474717682467599, 1, 0.1474717682467599),\n",
       " ('every', 0.1454516070380123, 0, -0.048483869012670766),\n",
       " ('middle', 0.1454516070380123, 0, -0.1454516070380123),\n",
       " ('idea', 0.1454516070380123, 0, -0.048483869012670766),\n",
       " ('trip', 0.1414112846205171, 0, -0.1414112846205171),\n",
       " ('come', 0.1393911234117695, 0, -0.1393911234117695),\n",
       " ('funny', 0.1393911234117695, 0, -0.1393911234117695),\n",
       " ('director', 0.1393911234117695, 0, -0.1393911234117695),\n",
       " ('being', 0.13737096220211242, 0, 0.06868548110105621),\n",
       " ('purpose', 0.13737096220211242, 0, -0.06868548110105621),\n",
       " ('against', 0.13535080099336483, 0, 0.13535080099336483),\n",
       " ('when', 0.13333063978416249, 1, -0.04444354659472083),\n",
       " ('culture', 0.12929031736712204, 0, 0.12929031736712204),\n",
       " ('gags', 0.12727015615837445, 0, -0.12727015615837445),\n",
       " ('color', 0.12727015615837445, 0, 0.12727015615837445),\n",
       " ('comes', 0.12727015615837445, 0, -0.12727015615837445),\n",
       " ('long', 0.12524999494962685, 0, -0.12524999494962685),\n",
       " ('view', 0.12322983374087926, 0, 0.12322983374087926),\n",
       " ('lot', 0.12322983374087926, 0, 0.12322983374087926),\n",
       " ('truth', 0.12120967253122217, 0, 0.12120967253122217),\n",
       " ('climax', 0.11918951132247457, 0, 0.11918951132247457),\n",
       " ('themselves', 0.11716935011372698, 0, 0.11716935011372698),\n",
       " (\"don't\", 0.11716935011372698, 0, 0.05858467505686349),\n",
       " ('leads', 0.11312902769623179, 0, 0.11312902769623179),\n",
       " ('ends', 0.11312902769623179, 0, -0.11312902769623179),\n",
       " ('laugh', 0.11110886648748419, 0, 0.11110886648748419),\n",
       " ('satire', 0.11110886648748419, 0, 0.11110886648748419),\n",
       " ('thrilling', 0.10504838286033191, 0, 0.10504838286033191),\n",
       " ('leave', 0.10302822165158432, 0, 0.10302822165158432),\n",
       " ('enough', 0.10302822165158432, 0, -0.10302822165158432),\n",
       " ('its', 0.10302822165158432, 0, -0.034342740550528106),\n",
       " ('down', 0.10302822165158432, 1, -0.10302822165158432),\n",
       " ('men', 0.10100806044283672, 0, 0.10100806044283672),\n",
       " ('nancy', 0.10100806044283672, 0, 0.05050403022141836),\n",
       " ('scott', 0.10100806044283672, 0, -0.10100806044283672),\n",
       " ('same', 0.09898789923408913, 0, 0.09898789923408913),\n",
       " ('recommend', 0.09696773802534153, 0, 0.09696773802534153),\n",
       " ('sid', 0.09696773802534153, 0, 0.048483869012670766),\n",
       " ('story', 0.09696773802534153, 1, -0.09696773802534153),\n",
       " ('c', 0.09292741560784634, 0, -0.09292741560784634),\n",
       " ('out', 0.09292741560784634, 2, -0.04646370780392317),\n",
       " ('shocking', 0.09090725439909875, 0, 0.09090725439909875),\n",
       " ('certainly', 0.08888709318944166, 0, -0.08888709318944166),\n",
       " ('watch', 0.08888709318944166, 1, 0.08888709318944166),\n",
       " ('screenplay', 0.08888709318944166, 0, -0.08888709318944166),\n",
       " ('hole', 0.08888709318944166, 0, -0.08888709318944166),\n",
       " ('me', 0.08888709318944166, 1, 0.04444354659472083),\n",
       " ('tale', 0.08888709318944166, 0, 0.08888709318944166),\n",
       " ('comic', 0.08888709318944166, 0, -0.04444354659472083),\n",
       " ('be', 0.08888709318944166, 0, -0.04444354659472083),\n",
       " ('from', 0.08888709318944166, 1, 0.04444354659472083),\n",
       " ('matter', 0.08888709318944166, 0, 0.08888709318944166),\n",
       " ('bats', 0.08686693198069406, 0, -0.08686693198069406),\n",
       " ('giant', 0.08484677077194647, 0, -0.08484677077194647),\n",
       " ('joy', 0.08282660956319887, 0, 0.08282660956319887),\n",
       " ('gonzo', 0.08080644835445128, 0, 0.02020161208861282),\n",
       " (\"thompson's\", 0.08080644835445128, 0, 0.016161289670890255),\n",
       " ('try', 0.08080644835445128, 0, 0.08080644835445128),\n",
       " ('terrifying', 0.08080644835445128, 0, 0.08080644835445128),\n",
       " ('fans', 0.08080644835445128, 0, -0.08080644835445128),\n",
       " ('subject', 0.07878628714570368, 0, 0.07878628714570368),\n",
       " ('next', 0.07878628714570368, 1, 0.07878628714570368),\n",
       " ('attorney', 0.07878628714570368, 0, 0.07878628714570368),\n",
       " ('john', 0.07878628714570368, 0, -0.07878628714570368),\n",
       " ('make', 0.07676612593650134, 0, -0.07676612593650134),\n",
       " ('comedy', 0.07676612593650134, 0, 0.03838306296825067),\n",
       " ('sight', 0.07676612593650134, 0, -0.07676612593650134),\n",
       " ('race', 0.07474596472775374, 0, 0.07474596472775374),\n",
       " ('casino', 0.07474596472775374, 0, 0.07474596472775374),\n",
       " ('decent', 0.07474596472775374, 0, -0.07474596472775374),\n",
       " ('offer', 0.07474596472775374, 0, 0.07474596472775374),\n",
       " ('because', 0.07474596472775374, 0, -0.07474596472775374),\n",
       " ('hand', 0.07272580351900615, 0, -0.07272580351900615),\n",
       " ('credited', 0.07070564231025855, 0, -0.07070564231025855),\n",
       " ('choice', 0.06868548110105621, 0, 0.06868548110105621),\n",
       " ('neither', 0.06868548110105621, 0, -0.06868548110105621),\n",
       " ('way', 0.06868548110105621, 1, 0.06868548110105621),\n",
       " ('inside', 0.06868548110105621, 0, 0.06868548110105621),\n",
       " ('came', 0.06868548110105621, 0, -0.034342740550528106),\n",
       " ('carefully', 0.06666531989230862, 0, 0.06666531989230862),\n",
       " ('bag', 0.06666531989230862, 0, 0.06666531989230862),\n",
       " ('like', 0.06464515868356102, 1, -0.06464515868356102),\n",
       " ('convincing', 0.06464515868356102, 0, -0.06464515868356102),\n",
       " ('substance', 0.06262499747481343, 0, -0.06262499747481343),\n",
       " ('drugs', 0.06262499747481343, 1, -0.06262499747481343),\n",
       " ('end', 0.06262499747481343, 1, -0.06262499747481343),\n",
       " ('brings', 0.06262499747481343, 1, 0.06262499747481343),\n",
       " ('trash', 0.06262499747481343, 0, -0.06262499747481343),\n",
       " ('just', 0.06060483626583846, 1, 0.02020161208861282),\n",
       " ('something', 0.060604836265611084, 0, -0.030302418132805542),\n",
       " ('lounge', 0.060604836265611084, 0, 0.060604836265611084),\n",
       " ('trying', 0.060604836265611084, 0, -0.060604836265611084),\n",
       " ('wish', 0.060604836265611084, 0, -0.030302418132805542),\n",
       " ('ago', 0.060604836265611084, 0, 0.060604836265611084),\n",
       " ('years', 0.05858467505686349, 2, 0.05858467505686349),\n",
       " ('motion', 0.05858467505686349, 0, 0.05858467505686349),\n",
       " ('essentially', 0.056564513848115894, 0, 0.056564513848115894),\n",
       " ('it', 0.056564513848115894, 1, 0.008080644835445128),\n",
       " ('read', 0.056564513848115894, 0, -0.056564513848115894),\n",
       " ('written', 0.0545443526393683, 0, 0.0545443526393683),\n",
       " ('direct', 0.0545443526393683, 0, 0.0545443526393683),\n",
       " ('simultaneously', 0.0545443526393683, 0, 0.0545443526393683),\n",
       " ('biting', 0.0545443526393683, 0, 0.0545443526393683),\n",
       " ('toro', 0.05454435263925461, 0, 0.018181450879751537),\n",
       " ('die', 0.052524191430165956, 0, -0.052524191430165956),\n",
       " ('oscar', 0.052524191430165956, 0, 0.052524191430165956),\n",
       " ('lighting', 0.052524191430165956, 0, -0.052524191430165956),\n",
       " ('?', 0.052524191430165956, 10, -0.026262095715082978),\n",
       " ('available', 0.05050403022141836, 1, 0.05050403022141836),\n",
       " ('characters', 0.048483869012670766, 1, -0.048483869012670766),\n",
       " ('journalist', 0.048483869012670766, 0, 0.048483869012670766),\n",
       " ('found', 0.048483869012670766, 0, 0.048483869012670766),\n",
       " ('am', 0.048483869012670766, 0, -0.048483869012670766),\n",
       " ('by', 0.048483869012670766, 7, 0.016161289670890255),\n",
       " ('duke', 0.048483869012670766, 0, -0.016161289670890255),\n",
       " ('us', 0.048483869012670766, 0, 0.024241934506335383),\n",
       " ('suite', 0.04646370780392317, 0, 0.04646370780392317),\n",
       " ('screen', 0.04646370780392317, 0, 0.04646370780392317),\n",
       " ('effect', 0.04646370780392317, 0, -0.04646370780392317),\n",
       " ('influence', 0.04646370780392317, 0, 0.04646370780392317),\n",
       " ('experience', 0.04444354659472083, 0, 0.04444354659472083),\n",
       " ('zeta', 0.04444354659472083, 0, -0.04444354659472083),\n",
       " ('guarantee', 0.04444354659472083, 0, -0.04444354659472083),\n",
       " ('through', 0.04444354659472083, 0, -0.04444354659472083),\n",
       " ('tells', 0.04444354659472083, 0, 0.04444354659472083),\n",
       " ('cover', 0.04444354659472083, 0, 0.04444354659472083),\n",
       " ('trapped', 0.04444354659472083, 0, -0.04444354659472083),\n",
       " ('how', 0.04242338538608692, 1, 0.014141128462028973),\n",
       " ('concept', 0.042423385385973233, 0, 0.042423385385973233),\n",
       " ('get', 0.042423385385973233, 1, -0.042423385385973233),\n",
       " ('favorite', 0.042423385385973233, 0, 0.042423385385973233),\n",
       " ('carry', 0.042423385385973233, 0, 0.042423385385973233),\n",
       " ('message', 0.042423385385973233, 0, -0.042423385385973233),\n",
       " ('vegas', 0.04040322417722564, 0, 0.008080644835445128),\n",
       " ('cox', 0.04040322417722564, 0, -0.01010080604430641),\n",
       " ('period', 0.04040322417722564, 0, 0.04040322417722564),\n",
       " ('place', 0.04040322417722564, 0, 0.04040322417722564),\n",
       " ('scenes', 0.04040322417722564, 3, 0.04040322417722564),\n",
       " ('hunting', 0.03838306296825067, 0, -0.03838306296825067),\n",
       " ('dropping', 0.03838306296825067, 0, -0.03838306296825067),\n",
       " ('priceless', 0.03838306296825067, 0, 0.03838306296825067),\n",
       " ('lines', 0.03838306296825067, 0, 0.03838306296825067),\n",
       " ('luck', 0.03838306296825067, 0, -0.03838306296825067),\n",
       " ('steady', 0.03838306296825067, 0, 0.03838306296825067),\n",
       " ('test', 0.03838306296825067, 0, 0.03838306296825067),\n",
       " ('plays', 0.03838306296825067, 0, 0.03838306296825067),\n",
       " ('bare', 0.036362901759503075, 0, -0.036362901759503075),\n",
       " ('meet', 0.036362901759503075, 0, -0.018181450879751537),\n",
       " ('short', 0.036362901759503075, 0, 0.036362901759503075),\n",
       " ('offers', 0.036362901759503075, 0, -0.036362901759503075),\n",
       " ('equivalent', 0.036362901759503075, 0, -0.036362901759503075),\n",
       " ('time', 0.036362901759503075, 0, 0.036362901759503075),\n",
       " ('send', 0.034342740550528106, 0, 0.034342740550528106),\n",
       " ('dose', 0.034342740550528106, 0, 0.034342740550528106),\n",
       " ('cheech', 0.034342740550528106, 0, -0.034342740550528106),\n",
       " ('sin', 0.034342740550528106, 0, -0.034342740550528106),\n",
       " ('besides', 0.034342740550528106, 0, -0.034342740550528106),\n",
       " ('raoul', 0.03232257934178051, 0, -0.03232257934178051),\n",
       " ('marks', 0.03232257934178051, 0, -0.03232257934178051),\n",
       " ('uncertain', 0.03232257934178051, 0, 0.03232257934178051),\n",
       " ('truly', 0.03232257934178051, 0, 0.03232257934178051),\n",
       " ('him', 0.03232257934178051, 1, 0.03232257934178051),\n",
       " ('weight', 0.03232257934178051, 0, -0.03232257934178051),\n",
       " ('observations', 0.03232257934178051, 0, 0.03232257934178051),\n",
       " ('i', 0.03030241813291923, 4, -0.006060483626583846),\n",
       " ('player', 0.030302418132805542, 1, -0.030302418132805542),\n",
       " ('broad', 0.030302418132805542, 0, -0.030302418132805542),\n",
       " ('twenty', 0.030302418132805542, 1, -0.030302418132805542),\n",
       " ('representation', 0.030302418132805542, 0, 0.030302418132805542),\n",
       " ('dream', 0.028282256924057947, 0, 0.028282256924057947),\n",
       " ('kick', 0.028282256924057947, 1, 0.028282256924057947),\n",
       " ('hunter', 0.028282256924057947, 0, 0.014141128462028973),\n",
       " ('alex', 0.028282256924057947, 0, 0.014141128462028973),\n",
       " ('stood', 0.026262095715082978, 0, -0.026262095715082978),\n",
       " ('man', 0.026262095715082978, 2, 0.026262095715082978),\n",
       " ('testament', 0.026262095715082978, 0, 0.026262095715082978),\n",
       " ('stomach', 0.026262095715082978, 0, -0.026262095715082978),\n",
       " ('took', 0.026262095715082978, 0, 0.026262095715082978),\n",
       " ('horrifying', 0.026262095715082978, 0, 0.026262095715082978),\n",
       " ('rooms', 0.026262095715082978, 0, -0.026262095715082978),\n",
       " ('chong', 0.024241934506335383, 0, -0.024241934506335383),\n",
       " ('thompson', 0.024241934506335383, 0, 0.012120967253167692),\n",
       " ('preferred', 0.024241934506335383, 0, -0.024241934506335383),\n",
       " ('loathing', 0.024241934506335383, 0, -0.008080644835445128),\n",
       " ('drug', 0.024241934506335383, 0, 0.008080644835445128),\n",
       " ('attacked', 0.024241934506335383, 0, 0.024241934506335383),\n",
       " ('patton', 0.024241934506335383, 0, 0.024241934506335383),\n",
       " ('sputters', 0.024241934506335383, 0, -0.024241934506335383),\n",
       " ('has', 0.024241934506335383, 3, 0.006060483626583846),\n",
       " ('district', 0.024241934506335383, 0, 0.024241934506335383),\n",
       " ('however', 0.024241934506335383, 0, -0.024241934506335383),\n",
       " ('tape', 0.022221773297360414, 0, 0.022221773297360414),\n",
       " ('full', 0.022221773297360414, 0, -0.022221773297360414),\n",
       " ('bathtub', 0.022221773297360414, 0, 0.022221773297360414),\n",
       " ('wheel', 0.022221773297360414, 0, -0.022221773297360414),\n",
       " ('fan', 0.022221773297360414, 0, 0.022221773297360414),\n",
       " ('motorcycle', 0.022221773297360414, 0, -0.022221773297360414),\n",
       " ('throw', 0.022221773297360414, 2, -0.022221773297360414),\n",
       " ('fares', 0.022221773297360414, 0, -0.022221773297360414),\n",
       " ('reaches', 0.022221773297360414, 0, -0.022221773297360414),\n",
       " ('ferris', 0.022221773297360414, 0, 0.022221773297360414),\n",
       " ('considered', 0.022221773297360414, 0, 0.022221773297360414),\n",
       " ('illustrates', 0.02020161208861282, 0, 0.02020161208861282),\n",
       " (\"airplane's\", 0.02020161208861282, 0, 0.02020161208861282),\n",
       " ('rabbit', 0.02020161208861282, 0, 0.02020161208861282),\n",
       " ('1971', 0.02020161208861282, 0, 0.02020161208861282),\n",
       " ('hispanic', 0.02020161208861282, 0, 0.02020161208861282),\n",
       " ('had', 0.02020161208861282, 0, 0.01010080604430641),\n",
       " ('mixed', 0.02020161208861282, 0, 0.02020161208861282),\n",
       " ('mood', 0.02020161208861282, 0, 0.02020161208861282),\n",
       " ('george', 0.02020161208861282, 0, 0.02020161208861282),\n",
       " ('jefferson', 0.02020161208861282, 0, 0.02020161208861282),\n",
       " ('gut', 0.018181450879751537, 0, 0.018181450879751537),\n",
       " ('gimmicky', 0.018181450879751537, 0, -0.018181450879751537),\n",
       " ('worldview', 0.018181450879751537, 0, -0.018181450879751537),\n",
       " ('belushi', 0.018181450879751537, 0, -0.018181450879751537),\n",
       " ('pull', 0.018181450879751537, 0, -0.018181450879751537),\n",
       " ('result', 0.016161289670890255, 0, -0.016161289670890255),\n",
       " ('sweaty', 0.016161289670890255, 0, 0.016161289670890255),\n",
       " ('tony', 0.016161289670890255, 0, 0.016161289670890255),\n",
       " ('controlled', 0.016161289670890255, 0, -0.016161289670890255),\n",
       " ('document', 0.016161289670890255, 0, 0.016161289670890255),\n",
       " ('groucho', 0.016161289670890255, 0, -0.016161289670890255),\n",
       " ('peaks', 0.016161289670890255, 0, -0.016161289670890255),\n",
       " ('enamored', 0.016161289670890255, 0, 0.016161289670890255),\n",
       " ('covered', 0.016161289670890255, 0, -0.016161289670890255),\n",
       " ('compound', 0.016161289670890255, 0, 0.016161289670890255),\n",
       " ('benicio', 0.016161289670890255, 0, 0.016161289670890255),\n",
       " ('mostly', 0.016161289670890255, 0, 0.016161289670890255),\n",
       " ('chemicals', 0.016161289670890255, 0, -0.016161289670890255),\n",
       " ('reassuring', 0.016161289670890255, 0, 0.016161289670890255),\n",
       " ('throat', 0.016161289670890255, 0, 0.016161289670890255),\n",
       " ('take', 0.016161289670890255, 0, -0.016161289670890255),\n",
       " ('tequila', 0.014141128462028973, 0, 0.014141128462028973),\n",
       " (\"60's\", 0.014141128462028973, 0, -0.014141128462028973),\n",
       " ('my', 0.014141128462028973, 2, -0.014141128462028973),\n",
       " ('so', 0.014141128462028973, 0, -0.014141128462028973),\n",
       " ('moments', 0.014141128462028973, 0, -0.014141128462028973),\n",
       " ('might', 0.014141128462028973, 0, -0.014141128462028973),\n",
       " ('put', 0.014141128462028973, 0, -0.014141128462028973),\n",
       " ('jumbled', 0.014141128462028973, 0, -0.014141128462028973),\n",
       " ('twisted', 0.014141128462028973, 0, -0.014141128462028973),\n",
       " ('wrought', 0.014141128462028973, 0, -0.014141128462028973),\n",
       " ('closeups', 0.014141128462028973, 0, -0.014141128462028973),\n",
       " ('aggressive', 0.012120967253167692, 0, 0.012120967253167692),\n",
       " ('where', 0.012120967253167692, 0, -0.006060483626583846),\n",
       " ('operating', 0.012120967253167692, 0, 0.012120967253167692),\n",
       " ('roller', 0.012120967253167692, 0, 0.012120967253167692),\n",
       " ('binge', 0.012120967253167692, 0, 0.012120967253167692),\n",
       " ('strike', 0.012120967253167692, 0, 0.012120967253167692),\n",
       " ('originally', 0.012120967253167692, 0, 0.012120967253167692),\n",
       " ('guys', 0.012120967253167692, 0, -0.012120967253167692),\n",
       " ('dan', 0.012120967253167692, 0, 0.012120967253167692),\n",
       " ('amidst', 0.012120967253167692, 0, 0.012120967253167692),\n",
       " ('convention', 0.012120967253167692, 0, 0.012120967253167692),\n",
       " ('historical', 0.012120967253167692, 0, -0.012120967253167692),\n",
       " ('verbatim', 0.012120967253167692, 0, 0.012120967253167692),\n",
       " ('note', 0.012120967253167692, 0, 0.012120967253167692),\n",
       " ('hear', 0.012120967253167692, 0, -0.012120967253167692),\n",
       " ('mescaline', 0.01010080604430641, 0, 0.01010080604430641),\n",
       " ('results', 0.01010080604430641, 0, -0.01010080604430641),\n",
       " ('downers', 0.01010080604430641, 0, 0.01010080604430641),\n",
       " ('smooth', 0.01010080604430641, 0, 0.01010080604430641),\n",
       " ('slated', 0.01010080604430641, 0, -0.01010080604430641),\n",
       " ('bender', 0.01010080604430641, 0, -0.01010080604430641),\n",
       " ('pressed', 0.01010080604430641, 0, -0.01010080604430641),\n",
       " ('blotter', 0.01010080604430641, 0, 0.01010080604430641),\n",
       " ('uppers', 0.01010080604430641, 0, 0.01010080604430641),\n",
       " ('psychedelic', 0.01010080604430641, 0, 0.01010080604430641),\n",
       " ('filtered', 0.01010080604430641, 0, 0.01010080604430641),\n",
       " ('multicolored', 0.01010080604430641, 0, 0.01010080604430641),\n",
       " ('puking', 0.01010080604430641, 0, -0.01010080604430641),\n",
       " ('their', 0.01010080604430641, 0, -0.01010080604430641),\n",
       " ('pontificate', 0.01010080604430641, 0, -0.01010080604430641),\n",
       " ('rainbow', 0.01010080604430641, 0, -0.01010080604430641),\n",
       " ('teeth', 0.01010080604430641, 0, -0.01010080604430641),\n",
       " ('cautionary', 0.008080644835445128, 0, 0.008080644835445128),\n",
       " ('ostensibly', 0.008080644835445128, 0, -0.008080644835445128),\n",
       " ('those', 0.008080644835445128, 0, 0.004040322417722564),\n",
       " ('over', 0.008080644835445128, 0, -0.008080644835445128),\n",
       " ('otherworldly', 0.008080644835445128, 0, 0.008080644835445128),\n",
       " ('providence', 0.008080644835445128, 0, 0.008080644835445128),\n",
       " ('activist', 0.008080644835445128, 0, 0.008080644835445128),\n",
       " ('hotel', 0.008080644835445128, 0, -0.004040322417722564),\n",
       " ('directed', 0.008080644835445128, 0, -0.008080644835445128),\n",
       " ('kind', 0.008080644835445128, 0, -0.008080644835445128),\n",
       " ('depending', 0.008080644835445128, 0, 0.008080644835445128),\n",
       " ('landing', 0.008080644835445128, 0, 0.008080644835445128),\n",
       " ('leisurely', 0.006060483626583846, 0, 0.006060483626583846),\n",
       " ('wellmade', 0.006060483626583846, 0, 0.006060483626583846),\n",
       " ('cocaine', 0.006060483626583846, 0, -0.006060483626583846),\n",
       " ('akroyd', 0.006060483626583846, 0, -0.006060483626583846),\n",
       " ('del', 0.006060483626583846, 0, 0.002020161208861282),\n",
       " ('sham', 0.006060483626583846, 0, -0.006060483626583846),\n",
       " ('terrorize', 0.006060483626583846, 0, -0.006060483626583846),\n",
       " ('schemes', 0.006060483626583846, 0, -0.006060483626583846),\n",
       " (\"gilliam's\", 0.006060483626583846, 0, 0.006060483626583846),\n",
       " ('cowriter', 0.006060483626583846, 0, -0.006060483626583846),\n",
       " ('davies', 0.006060483626583846, 0, 0.006060483626583846),\n",
       " ('humiliate', 0.004040322417722564, 0, -0.004040322417722564),\n",
       " ('knife', 0.004040322417722564, 0, 0.004040322417722564),\n",
       " ('enhance', 0.004040322417722564, 0, -0.004040322417722564),\n",
       " ('between', 0.004040322417722564, 1, 0.004040322417722564),\n",
       " ('lizards', 0.004040322417722564, 0, -0.004040322417722564),\n",
       " ('frantic', 0.004040322417722564, 0, 0.004040322417722564),\n",
       " ('rape', 0.004040322417722564, 0, 0.004040322417722564),\n",
       " ('jail', 0.004040322417722564, 0, 0.004040322417722564),\n",
       " ('means', 0.004040322417722564, 0, 0.004040322417722564),\n",
       " ('digest', 0.004040322417722564, 0, -0.004040322417722564),\n",
       " ('commits', 0.004040322417722564, 0, -0.004040322417722564),\n",
       " ('valleys', 0.004040322417722564, 0, 0.004040322417722564),\n",
       " ('white', 0.004040322417722564, 0, -0.004040322417722564),\n",
       " ('tod', 0.004040322417722564, 0, 0.004040322417722564),\n",
       " ('conceivable', 0.004040322417722564, 0, 0.004040322417722564),\n",
       " ('essentials', 0.002020161208861282, 0, -0.002020161208861282),\n",
       " ('fall', 0.002020161208861282, 0, 0.002020161208861282),\n",
       " ('lenses', 0.002020161208861282, 0, 0.002020161208861282),\n",
       " ('grotesque', 0.002020161208861282, 0, -0.002020161208861282),\n",
       " ('begs', 0.002020161208861282, 0, 0.002020161208861282),\n",
       " ('vicious', 0.002020161208861282, 0, -0.002020161208861282),\n",
       " ('coaster', 0.002020161208861282, 0, 0.002020161208861282),\n",
       " ('hallucinates', 0.002020161208861282, 0, 0.002020161208861282),\n",
       " ('produced', 0.002020161208861282, 0, -0.002020161208861282),\n",
       " ('refined', 0.002020161208861282, 0, -0.002020161208861282),\n",
       " ('gilliam', 6.407674132701977e-16, 0, 7.119637925224419e-17),\n",
       " ('camera', 2.244982603845909e-16, 0, 2.244982603845909e-16),\n",
       " ('blind', 8.46892414494652e-17, 0, 8.46892414494652e-17),\n",
       " ('exposed', 5.569394183445265e-17, 0, 2.7846970917226326e-17),\n",
       " ('wideangle', 2.8134053091622393e-17, 0, -2.8134053091622393e-17),\n",
       " ('blindfolded', 2.1531163080310896e-17, 0, 2.1531163080310896e-17),\n",
       " ('allow', 2.009575220833056e-17, 0, -2.009575220833056e-17),\n",
       " ('stripped', 1.8660341336350223e-17, 0, -1.8660341336350223e-17),\n",
       " ('mumbles', 3.1579039184324714e-18, 0, 3.1579039184324714e-18),\n",
       " ('riding', 5.741643488079119e-19, 0, -5.741643488079119e-19),\n",
       " ('seekers', 0, 0, 0),\n",
       " ('pseudonyms', 0, 0, 0),\n",
       " ('careen', 0, 0, 0),\n",
       " ('overdirecting', 0, 0, 0),\n",
       " ('mushroom', 0, 0, 0),\n",
       " ('selfprofessed', 0, 0, 0),\n",
       " ('grisoni', 0, 0, 0),\n",
       " ('spungen', 0, 0, 0),\n",
       " ('assent', 0, 0, 0),\n",
       " ('ingesting', 0, 0, 0),\n",
       " ('pharmacological', 0, 0, 0),\n",
       " ('actosta', 0, 0, 0),\n",
       " ('knot', 0, 0, 0),\n",
       " ('tilts', 0, 0, 0),\n",
       " ('nitrite', 0, 0, 0),\n",
       " (\"attorney's\", 0, 0, 0),\n",
       " ('terrifies', 0, 0, 0),\n",
       " ('amyl', 0, 0, 0),\n",
       " ('mushrooms', 0, 0, 0),\n",
       " ('thickbladed', 0, 0, 0),\n",
       " ('ingest', 0, 0, 0),\n",
       " ('daredevils', 0, 0, 0),\n",
       " ('strychninelaced', 0, 0, 0),\n",
       " ('clenched', 0, 0, 0),\n",
       " (\"cox's\", 0, 0, 0)]"
      ]
     },
     "execution_count": 98,
     "metadata": {},
     "output_type": "execute_result"
    }
   ],
   "source": [
    "tmp2 = pickle.load( open( \"wrongsample3.p\", \"rb\" ) )\n",
    "tmp2"
   ]
  },
  {
   "cell_type": "code",
   "execution_count": 667,
   "metadata": {
    "collapsed": false
   },
   "outputs": [],
   "source": [
    "sorted_a = sorted(a.items(), key=operator.itemgetter(1),reverse=True)"
   ]
  },
  {
   "cell_type": "code",
   "execution_count": 676,
   "metadata": {
    "collapsed": false
   },
   "outputs": [],
   "source": [
    "sorted_a[0] = 1"
   ]
  },
  {
   "cell_type": "code",
   "execution_count": 699,
   "metadata": {
    "collapsed": false
   },
   "outputs": [],
   "source": [
    "def dsf(list23):\n",
    "    list23[0] = 12 "
   ]
  },
  {
   "cell_type": "code",
   "execution_count": 759,
   "metadata": {
    "collapsed": false
   },
   "outputs": [
    {
     "data": {
      "text/plain": [
       "[('and', 1.668653158514644, 14, 0.11918951132247457),\n",
       " ('on', 1.3737096220284002, 8, -0.17171370275355002),\n",
       " ('american', 1.3575483323547815, 6, 0.22625805539246358),\n",
       " ('the', 1.1595725338863758, 41, 0.028282256924057947),\n",
       " ('version', 1.0888668915786184, 7, -0.15555241308265977),\n",
       " ('bad', 0.9555362517930917, 1, -0.9555362517930917),\n",
       " ('an', 0.9292741560784634, 5, -0.18585483121569268),\n",
       " ('in', 0.8666491586027405, 11, 0.07878628714570368),\n",
       " ('original', 0.8363467404706171, 3, -0.278782246823539),\n",
       " ('to', 0.7575604533212754, 15, -0.05050403022141836),\n",
       " ('l', 0.7272580351900615, 10, -0.07272580351900615),\n",
       " ('with', 0.6787741661773907, 6, 0.11312902769623179),\n",
       " ('film', 0.6727136825497837, 9, -0.07474596472775374),\n",
       " ('for', 0.6565523928793482, 5, -0.13131047857586964),\n",
       " ('then', 0.6545322316706006, 2, -0.3272661158353003),\n",
       " ('up', 0.5737257833170588, 2, -0.2868628916585294),\n",
       " ('this', 0.5151411082606501, 3, -0.17171370275355002),\n",
       " ('great', 0.5050403022141836, 1, 0.5050403022141836),\n",
       " ('even', 0.46059675561991753, 2, -0.23029837780995877),\n",
       " ('at', 0.45655643320060335, 2, -0.22827821660030168),\n",
       " ('best', 0.45251611078492715, 2, 0.22625805539246358),\n",
       " ('which', 0.428274176279956, 2, 0.214137088139978),\n",
       " ('most', 0.41413304781599436, 1, 0.41413304781599436),\n",
       " ('films', 0.41211288660633727, 3, 0.13737096220211242),\n",
       " ('as', 0.3939314357285184, 5, 0.07878628714570368),\n",
       " ('such', 0.38383062968205195, 2, -0.19191531484102597),\n",
       " ('besson', 0.37574998484888056, 3, -0.12524999494962685),\n",
       " ('could', 0.3696895012217283, 1, -0.3696895012217283),\n",
       " ('life', 0.34544756671675714, 1, 0.34544756671675714),\n",
       " ('he', 0.34342740550710005, 2, 0.17171370275355002),\n",
       " ('of', 0.33938708308869536, 24, 0.014141128462028973),\n",
       " ('these', 0.3313064382527955, 2, 0.16565321912639774),\n",
       " ('is', 0.32726611583552767, 9, 0.036362901759503075),\n",
       " ('become', 0.3191854710003099, 2, 0.15959273550015496),\n",
       " ('only', 0.3171653097906528, 1, -0.3171653097906528),\n",
       " ('you', 0.30908466495566245, 1, 0.30908466495566245),\n",
       " (\"there's\", 0.30706450374600536, 1, -0.30706450374600536),\n",
       " ('played', 0.2828225692410342, 2, 0.1414112846205171),\n",
       " ('becomes', 0.2808024080313771, 1, -0.2808024080313771),\n",
       " ('aliens', 0.27272176319638675, 1, 0.27272176319638675),\n",
       " ('?', 0.2626209571508298, 10, -0.026262095715082978),\n",
       " ('better', 0.24645966748175852, 1, -0.24645966748175852),\n",
       " ('international', 0.24241934506335383, 5, -0.048483869012670766),\n",
       " ('falls', 0.23433870022745396, 1, -0.23433870022745396),\n",
       " ('luc', 0.23029837780950402, 3, -0.07676612593650134),\n",
       " ('while', 0.22827821660030168, 1, 0.22827821660030168),\n",
       " ('point', 0.22827821660030168, 1, -0.22827821660030168),\n",
       " ('jean', 0.22625805539246358, 2, -0.11312902769623179),\n",
       " ('world', 0.22423789418280649, 1, 0.22423789418280649),\n",
       " ('masterpiece', 0.22221773297496838, 2, 0.11110886648748419),\n",
       " ('cuts', 0.2181774105574732, 2, -0.1090887052787366),\n",
       " ('are', 0.2181774105574732, 2, -0.1090887052787366),\n",
       " ('now', 0.21211692693032091, 1, 0.21211692693032091),\n",
       " ('good', 0.20807660451282572, 1, 0.20807660451282572),\n",
       " ('both', 0.20201612088567344, 1, 0.20201612088567344),\n",
       " ('girl', 0.19797579846817825, 1, -0.19797579846817825),\n",
       " ('but', 0.19797579846817825, 2, 0.09898789923408913),\n",
       " ('minutes', 0.19595563725852116, 1, -0.19595563725852116),\n",
       " ('a', 0.19393547605068306, 12, -0.016161289670890255),\n",
       " ('that', 0.19393547605068306, 8, -0.024241934506335383),\n",
       " ('one', 0.19191531484102597, 1, 0.19191531484102597),\n",
       " ('too', 0.1818145087981975, 2, -0.09090725439909875),\n",
       " ('about', 0.1797943475885404, 1, -0.1797943475885404),\n",
       " ('performance', 0.17777418637888331, 1, 0.17777418637888331),\n",
       " ('or', 0.17575402517104521, 1, -0.17575402517104521),\n",
       " (\"director's\", 0.17373386396138812, 2, -0.08686693198069406),\n",
       " ('crew', 0.16969354154434768, 3, -0.056564513848115894),\n",
       " ('action', 0.16969354154389293, 1, -0.16969354154389293),\n",
       " ('around', 0.16767338033605483, 1, -0.16767338033605483),\n",
       " ('reno', 0.16565321912639774, 2, -0.08282660956319887),\n",
       " ('have', 0.16565321912639774, 1, -0.16565321912639774),\n",
       " ('gary', 0.16161289670890255, 2, -0.08080644835445128),\n",
       " ('studio', 0.15959273550015496, 1, -0.15959273550015496),\n",
       " ('format', 0.15353225187300268, 2, 0.07676612593650134),\n",
       " ('follows', 0.15151209066425508, 1, 0.15151209066425508),\n",
       " ('involving', 0.15151209066425508, 1, -0.15151209066425508),\n",
       " ('really', 0.1474717682467599, 1, 0.1474717682467599),\n",
       " ('were', 0.1414112846205171, 1, 0.1414112846205171),\n",
       " ('classic', 0.13737096220211242, 2, 0.06868548110105621),\n",
       " ('gives', 0.13535080099336483, 1, 0.13535080099336483),\n",
       " ('relationship', 0.13333063978461723, 2, 0.06666531989230862),\n",
       " ('part', 0.13333063978461723, 2, -0.06666531989230862),\n",
       " ('cops', 0.13333063978416249, 3, 0.04444354659472083),\n",
       " ('history', 0.13131047857586964, 1, 0.13131047857586964),\n",
       " ('actor', 0.13131047857586964, 1, -0.13131047857586964),\n",
       " ('cameo', 0.12727015615837445, 1, -0.12727015615837445),\n",
       " ('kills', 0.12322983374087926, 1, -0.12322983374087926),\n",
       " ('lead', 0.12322983374087926, 1, -0.12322983374087926),\n",
       " ('scenes', 0.12120967253167692, 3, 0.04040322417722564),\n",
       " ('until', 0.11716935011372698, 1, 0.11716935011372698),\n",
       " ('years', 0.11716935011372698, 2, 0.05858467505686349),\n",
       " ('drama', 0.11716935011372698, 2, 0.05858467505686349),\n",
       " ('by', 0.11312902769623179, 7, 0.016161289670890255),\n",
       " ('missing', 0.11110886648748419, 1, -0.11110886648748419),\n",
       " ('la', 0.11110886648748419, 1, 0.11110886648748419),\n",
       " ('everyone', 0.1090887052787366, 1, 0.1090887052787366),\n",
       " ('family', 0.107068544069989, 1, 0.107068544069989),\n",
       " ('much', 0.10504838286033191, 1, -0.10504838286033191),\n",
       " ('can', 0.10504838286033191, 1, -0.10504838286033191),\n",
       " ('within', 0.10504838286033191, 1, -0.10504838286033191),\n",
       " ('her', 0.10504838286033191, 4, -0.026262095715082978),\n",
       " ('his', 0.10302822165158432, 3, -0.034342740550528106),\n",
       " ('1995', 0.10302822165158432, 1, -0.10302822165158432),\n",
       " ('down', 0.10302822165158432, 1, -0.10302822165158432),\n",
       " ('there', 0.10100806044283672, 1, -0.10100806044283672),\n",
       " ('save', 0.09898789923408913, 1, -0.09898789923408913),\n",
       " ('story', 0.09696773802534153, 1, -0.09696773802534153),\n",
       " ('oldman', 0.09696773802534153, 3, -0.03232257934178051),\n",
       " (\"it's\", 0.09292741560784634, 1, 0.09292741560784634),\n",
       " ('out', 0.09292741560784634, 2, -0.04646370780392317),\n",
       " ('later', 0.09292741560784634, 2, -0.04646370780392317),\n",
       " ('all', 0.08888709318944166, 1, -0.08888709318944166),\n",
       " ('watch', 0.08888709318944166, 1, 0.08888709318944166),\n",
       " ('bunch', 0.08686693198069406, 1, -0.08686693198069406),\n",
       " ('italian', 0.08686693198069406, 1, 0.08686693198069406),\n",
       " ('star', 0.08686693198069406, 1, 0.08686693198069406),\n",
       " ('returns', 0.08484677077194647, 1, -0.08484677077194647),\n",
       " ('more', 0.08282660956319887, 1, -0.08282660956319887),\n",
       " ('decides', 0.08080644835445128, 1, -0.08080644835445128),\n",
       " ('follow', 0.07878628714570368, 1, -0.07878628714570368),\n",
       " ('next', 0.07878628714570368, 1, 0.07878628714570368),\n",
       " ('don', 0.07878628714570368, 1, -0.07878628714570368),\n",
       " ('cinema', 0.07878628714524893, 3, 0.026262095715082978),\n",
       " ('emotions', 0.07676612593650134, 1, 0.07676612593650134),\n",
       " ('provide', 0.07676612593650134, 1, 0.07676612593650134),\n",
       " ('find', 0.07474596472775374, 1, -0.07474596472775374),\n",
       " ('further', 0.07474596472775374, 1, 0.07474596472775374),\n",
       " ('known', 0.07474596472775374, 1, 0.07474596472775374),\n",
       " ('certain', 0.07272580351900615, 1, -0.07272580351900615),\n",
       " ('door', 0.07070564231025855, 1, 0.07070564231025855),\n",
       " ('including', 0.07070564231025855, 1, 0.07070564231025855),\n",
       " ('countless', 0.06868548110105621, 1, -0.06868548110105621),\n",
       " ('way', 0.06868548110105621, 1, 0.06868548110105621),\n",
       " ('pick', 0.06666531989230862, 1, -0.06666531989230862),\n",
       " ('uncle', 0.06666531989230862, 1, 0.06666531989230862),\n",
       " ('hit', 0.06464515868356102, 2, -0.03232257934178051),\n",
       " ('like', 0.06464515868356102, 1, -0.06464515868356102),\n",
       " ('entire', 0.06262499747481343, 1, 0.06262499747481343),\n",
       " ('crooked', 0.06262499747481343, 1, -0.06262499747481343),\n",
       " ('drugs', 0.06262499747481343, 1, -0.06262499747481343),\n",
       " ('blade', 0.06262499747481343, 1, 0.06262499747481343),\n",
       " ('end', 0.06262499747481343, 1, -0.06262499747481343),\n",
       " ('advice', 0.06262499747481343, 1, -0.06262499747481343),\n",
       " ('brings', 0.06262499747481343, 1, 0.06262499747481343),\n",
       " ('love', 0.060604836265611084, 1, 0.060604836265611084),\n",
       " ('danny', 0.060604836265611084, 2, 0.030302418132805542),\n",
       " ('2', 0.060604836265611084, 1, -0.060604836265611084),\n",
       " ('emotional', 0.060604836265611084, 1, 0.060604836265611084),\n",
       " ('dvd', 0.060604836265611084, 2, 0.030302418132805542),\n",
       " (\"besson's\", 0.056564513848115894, 2, -0.028282256924057947),\n",
       " ('away', 0.056564513848115894, 2, -0.028282256924057947),\n",
       " ('heavy', 0.056564513848115894, 1, -0.056564513848115894),\n",
       " ('cinematic', 0.056564513848115894, 1, -0.056564513848115894),\n",
       " ('understanding', 0.0545443526393683, 1, 0.0545443526393683),\n",
       " ('footsteps', 0.0545443526393683, 1, -0.0545443526393683),\n",
       " ('previously', 0.0545443526393683, 1, -0.0545443526393683),\n",
       " ('your', 0.0545443526393683, 1, 0.0545443526393683),\n",
       " ('queen', 0.052524191430165956, 1, 0.052524191430165956),\n",
       " ('whose', 0.052524191430165956, 1, -0.052524191430165956),\n",
       " ('man', 0.052524191430165956, 2, 0.026262095715082978),\n",
       " ('murky', 0.052524191430165956, 1, -0.052524191430165956),\n",
       " ('handle', 0.05050403022141836, 1, -0.05050403022141836),\n",
       " ('available', 0.05050403022141836, 1, 0.05050403022141836),\n",
       " ('extra', 0.05050403022141836, 1, 0.05050403022141836),\n",
       " ('differences', 0.05050403022141836, 1, 0.05050403022141836),\n",
       " ('example', 0.048483869012670766, 1, 0.048483869012670766),\n",
       " ('characters', 0.048483869012670766, 1, -0.048483869012670766),\n",
       " ('provided', 0.04646370780392317, 1, -0.04646370780392317),\n",
       " ('copy', 0.04646370780392317, 1, 0.04646370780392317),\n",
       " ('prime', 0.04444354659472083, 2, 0.022221773297360414),\n",
       " ('from', 0.04444354659472083, 1, 0.04444354659472083),\n",
       " ('me', 0.04444354659472083, 1, 0.04444354659472083),\n",
       " ('myself', 0.04444354659472083, 1, 0.04444354659472083),\n",
       " ('day', 0.04444354659472083, 1, -0.04444354659472083),\n",
       " ('directly', 0.04444354659472083, 1, -0.04444354659472083),\n",
       " ('throw', 0.04444354659472083, 2, -0.022221773297360414),\n",
       " ('when', 0.04444354659472083, 1, -0.04444354659472083),\n",
       " ('learns', 0.042423385385973233, 1, 0.042423385385973233),\n",
       " ('get', 0.042423385385973233, 1, -0.042423385385973233),\n",
       " ('emotionally', 0.04040322417722564, 1, 0.04040322417722564),\n",
       " ('actions', 0.04040322417722564, 1, 0.04040322417722564),\n",
       " ('big', 0.04040322417722564, 1, -0.04040322417722564),\n",
       " ('father', 0.03838306296825067, 1, 0.03838306296825067),\n",
       " ('femme', 0.03838306296825067, 1, -0.03838306296825067),\n",
       " ('wild', 0.03838306296825067, 1, -0.03838306296825067),\n",
       " ('closer', 0.03838306296825067, 1, -0.03838306296825067),\n",
       " ('aiello', 0.036362901759503075, 2, -0.018181450879751537),\n",
       " ('newcomer', 0.036362901759503075, 1, 0.036362901759503075),\n",
       " ('producer', 0.034342740550528106, 1, 0.034342740550528106),\n",
       " ('newly', 0.034342740550528106, 1, -0.034342740550528106),\n",
       " ('him', 0.03232257934178051, 1, 0.03232257934178051),\n",
       " ('ability', 0.03232257934178051, 1, -0.03232257934178051),\n",
       " ('cut', 0.03232257934178051, 2, -0.016161289670890255),\n",
       " ('overthetop', 0.03232257934178051, 1, -0.03232257934178051),\n",
       " ('inclusion', 0.03232257934178051, 1, -0.03232257934178051),\n",
       " ('mathilda', 0.03232257934178051, 4, -0.008080644835445128),\n",
       " ('reflecting', 0.03232257934178051, 1, 0.03232257934178051),\n",
       " ('footage', 0.03030241813291923, 3, -0.01010080604430641),\n",
       " ('apartment', 0.030302418132805542, 1, -0.030302418132805542),\n",
       " ('lives', 0.030302418132805542, 1, -0.030302418132805542),\n",
       " ('player', 0.030302418132805542, 1, -0.030302418132805542),\n",
       " ('mob', 0.030302418132805542, 1, 0.030302418132805542),\n",
       " ('thing', 0.030302418132805542, 1, 0.030302418132805542),\n",
       " ('twenty', 0.030302418132805542, 1, -0.030302418132805542),\n",
       " ('claude', 0.028282256924057947, 1, 0.028282256924057947),\n",
       " ('involved', 0.028282256924057947, 1, -0.028282256924057947),\n",
       " ('my', 0.028282256924057947, 2, -0.014141128462028973),\n",
       " ('kick', 0.028282256924057947, 1, 0.028282256924057947),\n",
       " ('brutality', 0.028282256924057947, 1, 0.028282256924057947),\n",
       " ('starring', 0.028282256924057947, 1, 0.028282256924057947),\n",
       " ('named', 0.026262095715082978, 1, -0.026262095715082978),\n",
       " ('french', 0.024241934506335383, 2, -0.012120967253167692),\n",
       " ('reflects', 0.024241934506335383, 1, -0.024241934506335383),\n",
       " ('i', 0.024241934506335383, 4, -0.006060483626583846),\n",
       " ('profession', 0.024241934506335383, 2, 0.012120967253167692),\n",
       " ('natalie', 0.024241934506335383, 2, 0.012120967253167692),\n",
       " ('serious', 0.024241934506335383, 1, -0.024241934506335383),\n",
       " ('locked', 0.022221773297360414, 1, 0.022221773297360414),\n",
       " ('accessible', 0.022221773297360414, 1, 0.022221773297360414),\n",
       " ('public', 0.02020161208861282, 1, 0.02020161208861282),\n",
       " ('motivations', 0.02020161208861282, 1, -0.02020161208861282),\n",
       " ('contains', 0.02020161208861282, 1, -0.02020161208861282),\n",
       " ('just', 0.02020161208861282, 1, 0.02020161208861282),\n",
       " ('unseen', 0.02020161208861282, 1, -0.02020161208861282),\n",
       " ('integrity', 0.018181450879751537, 1, 0.018181450879751537),\n",
       " ('24', 0.018181450879751537, 1, -0.018181450879751537),\n",
       " ('has', 0.018181450879751537, 3, 0.006060483626583846),\n",
       " ('run', 0.018181450879751537, 1, 0.018181450879751537),\n",
       " ('12yearold', 0.016161289670890255, 1, 0.016161289670890255),\n",
       " ('development', 0.016161289670890255, 1, 0.016161289670890255),\n",
       " ('stores', 0.016161289670890255, 1, 0.016161289670890255),\n",
       " ('additional', 0.016161289670890255, 2, -0.008080644835445128),\n",
       " ('never', 0.014141128462028973, 1, 0.014141128462028973),\n",
       " ('hides', 0.014141128462028973, 1, -0.014141128462028973),\n",
       " ('how', 0.014141128462028973, 1, 0.014141128462028973),\n",
       " ('kept', 0.014141128462028973, 1, -0.014141128462028973),\n",
       " ('explicit', 0.014141128462028973, 1, -0.014141128462028973),\n",
       " ('defining', 0.014141128462028973, 1, -0.014141128462028973),\n",
       " ('betters', 0.012120967253167692, 1, -0.012120967253167692),\n",
       " ('release', 0.012120967253167692, 1, 0.012120967253167692),\n",
       " ('deemed', 0.012120967253167692, 1, 0.012120967253167692),\n",
       " ('bucks', 0.012120967253167692, 2, -0.006060483626583846),\n",
       " ('buying', 0.012120967253167692, 1, 0.012120967253167692),\n",
       " ('zoe', 0.012120967253167692, 1, 0.012120967253167692),\n",
       " ('assume', 0.012120967253167692, 1, -0.012120967253167692),\n",
       " ('100', 0.01010080604430641, 1, 0.01010080604430641),\n",
       " ('taking', 0.01010080604430641, 1, 0.01010080604430641),\n",
       " ('laced', 0.01010080604430641, 1, -0.01010080604430641),\n",
       " ('feel', 0.01010080604430641, 1, 0.01010080604430641),\n",
       " ('examples', 0.01010080604430641, 1, 0.01010080604430641),\n",
       " ('primarily', 0.01010080604430641, 1, 0.01010080604430641),\n",
       " ('runner', 0.01010080604430641, 1, -0.01010080604430641),\n",
       " ('she', 0.008080644835445128, 2, -0.004040322417722564),\n",
       " ('freaks', 0.008080644835445128, 1, 0.008080644835445128),\n",
       " ('portman', 0.008080644835445128, 2, -0.004040322417722564),\n",
       " ('censors', 0.008080644835445128, 2, -0.004040322417722564),\n",
       " ('it', 0.008080644835445128, 1, 0.008080644835445128),\n",
       " ('character', 0.008080644835445128, 1, 0.008080644835445128),\n",
       " ('pertaining', 0.008080644835445128, 1, 0.008080644835445128),\n",
       " ('beginning', 0.008080644835445128, 1, 0.008080644835445128),\n",
       " ('punctuated', 0.008080644835445128, 1, -0.008080644835445128),\n",
       " ('enraptured', 0.008080644835445128, 1, 0.008080644835445128),\n",
       " ('stronger', 0.008080644835445128, 1, -0.008080644835445128),\n",
       " ('nikita', 0.006060483626583846, 1, 0.006060483626583846),\n",
       " ('manages', 0.006060483626583846, 1, 0.006060483626583846),\n",
       " ('ferociously', 0.006060483626583846, 1, 0.006060483626583846),\n",
       " ('directorwriter', 0.006060483626583846, 1, -0.006060483626583846),\n",
       " ('bought', 0.006060483626583846, 1, 0.006060483626583846),\n",
       " ('laserdisc', 0.006060483626583846, 3, 0.002020161208861282),\n",
       " ('pity', 0.006060483626583846, 1, 0.006060483626583846),\n",
       " ('after', 0.006060483626583846, 1, -0.006060483626583846),\n",
       " ('extension', 0.006060483626583846, 1, -0.006060483626583846),\n",
       " ('chopped', 0.006060483626583846, 1, -0.006060483626583846),\n",
       " ('professional', 0.006060483626583846, 3, 0.002020161208861282),\n",
       " (\"filmmaker's\", 0.006060483626583846, 1, -0.006060483626583846),\n",
       " ('bonds', 0.004040322417722564, 1, 0.004040322417722564),\n",
       " (\"directors'\", 0.004040322417722564, 1, -0.004040322417722564),\n",
       " ('between', 0.004040322417722564, 1, 0.004040322417722564),\n",
       " ('replaced', 0.004040322417722564, 1, 0.004040322417722564),\n",
       " ('pieces', 0.004040322417722564, 1, -0.004040322417722564),\n",
       " ('terminator', 0.004040322417722564, 1, 0.004040322417722564),\n",
       " ('ironic', 0.004040322417722564, 2, -0.002020161208861282),\n",
       " ('independent', 0.004040322417722564, 1, -0.004040322417722564),\n",
       " ('advent', 0.004040322417722564, 1, 0.004040322417722564),\n",
       " ('abyss', 0.004040322417722564, 1, 0.004040322417722564),\n",
       " ('restored', 0.004040322417722564, 1, -0.004040322417722564),\n",
       " ('groceries', 0.002020161208861282, 1, -0.002020161208861282),\n",
       " ('invariably', 0.002020161208861282, 1, 0.002020161208861282),\n",
       " (\"matilda's\", 0.002020161208861282, 1, -0.002020161208861282),\n",
       " ('killing', 0.002020161208861282, 1, -0.002020161208861282),\n",
       " ('instant', 0.002020161208861282, 1, -0.002020161208861282),\n",
       " ('heard', 0.002020161208861282, 1, -0.002020161208861282),\n",
       " ('audiences', 1.0708165105276235e-16, 1, -1.0708165105276235e-16),\n",
       " ('draws', 6.459348924093269e-17, 1, -6.459348924093269e-17),\n",
       " ('searches', 3.933025789327097e-17, 1, -3.933025789327097e-17),\n",
       " ('cleaner', 2.5837395696403367e-18, 1, 2.5837395696403367e-18),\n",
       " ('pertains', 0, 1, 0),\n",
       " ('margot', 0, 1, 0),\n",
       " (\"on's\", 0, 3, 0),\n",
       " (\"mathilda's\", 0, 1, 0),\n",
       " ('eluded', 0, 1, 0),\n",
       " ('jeanhugues', 0, 1, 0),\n",
       " ('mucked', 0, 1, 0),\n",
       " ('anglade', 0, 1, 0),\n",
       " ('reawaken', 0, 1, 0)]"
      ]
     },
     "execution_count": 759,
     "metadata": {},
     "output_type": "execute_result"
    }
   ],
   "source": [
    "sorted_x"
   ]
  },
  {
   "cell_type": "markdown",
   "metadata": {},
   "source": [
    "## ##last proble. 8 features"
   ]
  },
  {
   "cell_type": "code",
   "execution_count": 109,
   "metadata": {
    "collapsed": true
   },
   "outputs": [],
   "source": [
    "import pandas as pd\n",
    "from sklearn.feature_extraction.text import CountVectorizer\n",
    "from sklearn.feature_extraction.text import TfidfVectorizer"
   ]
  },
  {
   "cell_type": "code",
   "execution_count": 206,
   "metadata": {
    "collapsed": false
   },
   "outputs": [],
   "source": [
    "Text_train2?"
   ]
  },
  {
   "cell_type": "code",
   "execution_count": 114,
   "metadata": {
    "collapsed": false
   },
   "outputs": [
    {
     "data": {
      "text/plain": [
       "561"
      ]
     },
     "execution_count": 114,
     "metadata": {},
     "output_type": "execute_result"
    }
   ],
   "source": [
    "a = Text_train2[2]\n",
    "len(a)"
   ]
  },
  {
   "cell_type": "code",
   "execution_count": 119,
   "metadata": {
    "collapsed": false
   },
   "outputs": [],
   "source": [
    "c=\"\"\n",
    "for i in a:\n",
    "    \n",
    "    c+=i\n",
    "    c+=\" \""
   ]
  },
  {
   "cell_type": "code",
   "execution_count": 122,
   "metadata": {
    "collapsed": false
   },
   "outputs": [
    {
     "data": {
      "text/plain": [
       "\"i can see a decent sports movie struggling to break free of oliver stone's `any given sunday' it's an entertaining movie that offers both insight and excitement into the rockem sockem profession of pro football unfortunately the director seems to have only one priority on his mind sprucing up the film with an assortment of fancy camera maneuvers in altering each frame with quickflash photography and dizzying inyourface editing stone appears to have completely ignored the matter of plausible character development and football politics we see glimpses of greatness but `any given sunday' has its agenda all tangled in technical gobbledygook it grows tiresome and monotonous yes stone has pulled a brian depalma matters of importance are pushed aside right from the getgo tony d'amato al pacino coach of the struggling miami sharks finds his team stuck in a losing rut aging quarterback cap rooney dennis quaid appears to be losing his touch and d'amato can't seem to ignite any passion in his squad when cap is injured on the field and after a patch of unlikely events occur thirdstring qb willie beaman jamie foxx is brought into the game once in the huddle and this becomes an ingame ritual beaman horks all over the field nerves you see eventually though the ancy youngster wins the game for his teammates sparking his rise to fame in the football world the endorsements the music videos etc and stone straps us in for the jolting ride of behindthescenes stress and fury that the business is apparently like and i believe it there is some intriguing insight posed but in the big scheme of things stone fumbles the ball the problem with the director's visual approach is this he uses extravagant editing devices when a more conventional approach would have been appropriate football is an exciting game to watch but stone seems to think dizzying the audience with an assault on the senses will only add to the adrenaline rush i guess he is mistaken `any given sunday' is a visual kaleidoscope that leaves the audience in a frustrated stupor more frequently than it excites them many football fans including one i attended with are liable to be disappointed with the `ultrastylish' way stone has decided to present the game in return a threestar film becomes unfortunately degraded due to the director's tampering in welcome scenes when the visual pummeling comes to a break this actually shows decent character development and interaction for instance heated returns between d'amato and feisty young owner christina pagniacci cameron diaz are enjoyable to watch there is also a solid performance from jamie foxx who experiments with great success in his first trek into dramatic territory the stellar supporting cast includes matthew modine aaron eckhart lauren holly annmargret and charlton heston in an extraordinarily brief appearance unfortunately too many big names are wasted a typical demise for a film with such a large and experienced cast pacino makes some interesting progress with his character you begin to identify with coach d'amato and the morals he is striving for but i often felt he was just another play thing stone could weave in and out of his editing dynamics `any given sunday' is a watchable but disappointing sports film in which plot and characters take a back seat to excessive filmmaking technique and a very distant back seat at that \""
      ]
     },
     "execution_count": 122,
     "metadata": {},
     "output_type": "execute_result"
    }
   ],
   "source": [
    "c"
   ]
  },
  {
   "cell_type": "code",
   "execution_count": 127,
   "metadata": {
    "collapsed": false
   },
   "outputs": [
    {
     "data": {
      "text/plain": [
       "\"i can see a decent sports movie struggling to break free of oliver stone's `any given sunday' it's an entertaining movie that offers both insight and excitement into the rockem sockem profession of pro football unfortunately the director seems to have only one priority on his mind sprucing up the film with an assortment of fancy camera maneuvers in altering each frame with quickflash photography and dizzying inyourface editing stone appears to have completely ignored the matter of plausible character development and football politics we see glimpses of greatness but `any given sunday' has its agenda all tangled in technical gobbledygook it grows tiresome and monotonous yes stone has pulled a brian depalma matters of importance are pushed aside right from the getgo tony d'amato al pacino coach of the struggling miami sharks finds his team stuck in a losing rut aging quarterback cap rooney dennis quaid appears to be losing his touch and d'amato can't seem to ignite any passion in his squad when cap is injured on the field and after a patch of unlikely events occur thirdstring qb willie beaman jamie foxx is brought into the game once in the huddle and this becomes an ingame ritual beaman horks all over the field nerves you see eventually though the ancy youngster wins the game for his teammates sparking his rise to fame in the football world the endorsements the music videos etc and stone straps us in for the jolting ride of behindthescenes stress and fury that the business is apparently like and i believe it there is some intriguing insight posed but in the big scheme of things stone fumbles the ball the problem with the director's visual approach is this he uses extravagant editing devices when a more conventional approach would have been appropriate football is an exciting game to watch but stone seems to think dizzying the audience with an assault on the senses will only add to the adrenaline rush i guess he is mistaken `any given sunday' is a visual kaleidoscope that leaves the audience in a frustrated stupor more frequently than it excites them many football fans including one i attended with are liable to be disappointed with the `ultrastylish' way stone has decided to present the game in return a threestar film becomes unfortunately degraded due to the director's tampering in welcome scenes when the visual pummeling comes to a break this actually shows decent character development and interaction for instance heated returns between d'amato and feisty young owner christina pagniacci cameron diaz are enjoyable to watch there is also a solid performance from jamie foxx who experiments with great success in his first trek into dramatic territory the stellar supporting cast includes matthew modine aaron eckhart lauren holly annmargret and charlton heston in an extraordinarily brief appearance unfortunately too many big names are wasted a typical demise for a film with such a large and experienced cast pacino makes some interesting progress with his character you begin to identify with coach d'amato and the morals he is striving for but i often felt he was just another play thing stone could weave in and out of his editing dynamics `any given sunday' is a watchable but disappointing sports film in which plot and characters take a back seat to excessive filmmaking technique and a very distant back seat at that\""
      ]
     },
     "execution_count": 127,
     "metadata": {},
     "output_type": "execute_result"
    }
   ],
   "source": [
    "c[:-1]"
   ]
  },
  {
   "cell_type": "code",
   "execution_count": 125,
   "metadata": {
    "collapsed": true
   },
   "outputs": [],
   "source": [
    "count_vectorizer = CountVectorizer(binary=False,ngram_range=(1,2),stop_words='english')"
   ]
  },
  {
   "cell_type": "code",
   "execution_count": 129,
   "metadata": {
    "collapsed": false
   },
   "outputs": [],
   "source": [
    "X = count_vectorizer.fit_transform([c])"
   ]
  },
  {
   "cell_type": "code",
   "execution_count": 130,
   "metadata": {
    "collapsed": false
   },
   "outputs": [
    {
     "data": {
      "text/plain": [
       "<1x535 sparse matrix of type '<type 'numpy.int64'>'\n",
       "\twith 535 stored elements in Compressed Sparse Row format>"
      ]
     },
     "execution_count": 130,
     "metadata": {},
     "output_type": "execute_result"
    }
   ],
   "source": [
    "X"
   ]
  },
  {
   "cell_type": "code",
   "execution_count": 108,
   "metadata": {
    "collapsed": false
   },
   "outputs": [
    {
     "ename": "TypeError",
     "evalue": "object of type 'instancemethod' has no len()",
     "output_type": "error",
     "traceback": [
      "\u001b[0;31m---------------------------------------------------------------------------\u001b[0m",
      "\u001b[0;31mTypeError\u001b[0m                                 Traceback (most recent call last)",
      "\u001b[0;32m<ipython-input-108-af5e8ed58ae1>\u001b[0m in \u001b[0;36m<module>\u001b[0;34m()\u001b[0m\n\u001b[0;32m----> 1\u001b[0;31m \u001b[0mlen\u001b[0m\u001b[0;34m(\u001b[0m\u001b[0mcount_vectorizer\u001b[0m\u001b[0;34m.\u001b[0m\u001b[0mget_feature_names\u001b[0m\u001b[0;34m)\u001b[0m\u001b[0;34m\u001b[0m\u001b[0m\n\u001b[0m",
      "\u001b[0;31mTypeError\u001b[0m: object of type 'instancemethod' has no len()"
     ]
    }
   ],
   "source": [
    "len(count_vectorizer.get_feature_names)"
   ]
  },
  {
   "cell_type": "code",
   "execution_count": 132,
   "metadata": {
    "collapsed": false
   },
   "outputs": [
    {
     "data": {
      "text/plain": [
       "535"
      ]
     },
     "execution_count": 132,
     "metadata": {},
     "output_type": "execute_result"
    }
   ],
   "source": [
    "len(count_vectorizer.get_feature_names())"
   ]
  },
  {
   "cell_type": "code",
   "execution_count": null,
   "metadata": {
    "collapsed": false
   },
   "outputs": [],
   "source": []
  },
  {
   "cell_type": "code",
   "execution_count": 134,
   "metadata": {
    "collapsed": true
   },
   "outputs": [],
   "source": [
    "a = [' I AM not OK, BUT FIne transpose ','this is am I transpose hap']"
   ]
  },
  {
   "cell_type": "code",
   "execution_count": 135,
   "metadata": {
    "collapsed": true
   },
   "outputs": [],
   "source": [
    "count_vectorizer = CountVectorizer(binary=False,ngram_range=(1,1),stop_words='english')"
   ]
  },
  {
   "cell_type": "code",
   "execution_count": 141,
   "metadata": {
    "collapsed": false
   },
   "outputs": [],
   "source": [
    "X = count_vectorizer.fit_transform(a)"
   ]
  },
  {
   "cell_type": "code",
   "execution_count": 140,
   "metadata": {
    "collapsed": false
   },
   "outputs": [
    {
     "data": {
      "text/plain": [
       "[u'fine',\n",
       " u'fine transpose',\n",
       " u'hap',\n",
       " u'ok',\n",
       " u'ok fine',\n",
       " u'transpose',\n",
       " u'transpose hap']"
      ]
     },
     "execution_count": 140,
     "metadata": {},
     "output_type": "execute_result"
    }
   ],
   "source": [
    "count_vectorizer.get_feature_names()"
   ]
  },
  {
   "cell_type": "code",
   "execution_count": 143,
   "metadata": {
    "collapsed": false
   },
   "outputs": [
    {
     "data": {
      "text/plain": [
       "array([[1, 1, 0, 1, 1, 1, 0],\n",
       "       [0, 0, 1, 0, 0, 1, 1]])"
      ]
     },
     "execution_count": 143,
     "metadata": {},
     "output_type": "execute_result"
    }
   ],
   "source": [
    "\n",
    "X.toarray()"
   ]
  },
  {
   "cell_type": "code",
   "execution_count": 146,
   "metadata": {
    "collapsed": false
   },
   "outputs": [],
   "source": [
    "from sklearn.feature_extraction.text import TfidfTransformer\n",
    "transformer = TfidfTransformer()"
   ]
  },
  {
   "cell_type": "code",
   "execution_count": 148,
   "metadata": {
    "collapsed": true
   },
   "outputs": [],
   "source": [
    "tfidf = transformer.fit_transform(X.toarray())"
   ]
  },
  {
   "cell_type": "code",
   "execution_count": 151,
   "metadata": {
    "collapsed": false
   },
   "outputs": [
    {
     "data": {
      "text/plain": [
       "array([[ 0.47107781,  0.47107781,  0.        ,  0.47107781,  0.47107781,\n",
       "         0.33517574,  0.        ],\n",
       "       [ 0.        ,  0.        ,  0.6316672 ,  0.        ,  0.        ,\n",
       "         0.44943642,  0.6316672 ]])"
      ]
     },
     "execution_count": 151,
     "metadata": {},
     "output_type": "execute_result"
    }
   ],
   "source": [
    "tfidf.toarray()"
   ]
  },
  {
   "cell_type": "code",
   "execution_count": 161,
   "metadata": {
    "collapsed": true
   },
   "outputs": [],
   "source": [
    "Text_train2 = pickle.load( open( \"Text_train.p\", \"rb\" ) )\n",
    "Text_test2 = pickle.load( open( \"Text_test.p\", \"rb\" ) )\n",
    "y_train2 = pickle.load( open( \"y_train.p\", \"rb\" ) )\n",
    "y_test2 = pickle.load( open( \"y_test.p\", \"rb\" ) )"
   ]
  },
  {
   "cell_type": "code",
   "execution_count": 155,
   "metadata": {
    "collapsed": false
   },
   "outputs": [
    {
     "data": {
      "text/plain": [
       "500"
      ]
     },
     "execution_count": 155,
     "metadata": {},
     "output_type": "execute_result"
    }
   ],
   "source": [
    "len(Text_test2)"
   ]
  },
  {
   "cell_type": "code",
   "execution_count": 172,
   "metadata": {
    "collapsed": false
   },
   "outputs": [],
   "source": [
    "Text_train2[2][2]\n",
    "Text_train_text_string_list = []\n",
    "Text_test_text_string_list = []"
   ]
  },
  {
   "cell_type": "code",
   "execution_count": 164,
   "metadata": {
    "collapsed": false
   },
   "outputs": [
    {
     "ename": "IndentationError",
     "evalue": "expected an indented block (<ipython-input-164-3711d954b3e7>, line 2)",
     "output_type": "error",
     "traceback": [
      "\u001b[0;36m  File \u001b[0;32m\"<ipython-input-164-3711d954b3e7>\"\u001b[0;36m, line \u001b[0;32m2\u001b[0m\n\u001b[0;31m    # print i\u001b[0m\n\u001b[0m             ^\u001b[0m\n\u001b[0;31mIndentationError\u001b[0m\u001b[0;31m:\u001b[0m expected an indented block\n"
     ]
    }
   ],
   "source": [
    "for i in Text_train2[2]:\n",
    "   # print i"
   ]
  },
  {
   "cell_type": "code",
   "execution_count": 173,
   "metadata": {
    "collapsed": false
   },
   "outputs": [],
   "source": [
    "Text_train_text_string_list = []\n",
    "for i in range(len(Text_train2)):\n",
    "    s=\"\"\n",
    "    for JJ in Text_train2[i]:\n",
    "        s+=JJ\n",
    "        s+=\" \"\n",
    "    s = s[:-1]\n",
    "    Text_train_text_string_list.append(s)\n",
    "    "
   ]
  },
  {
   "cell_type": "code",
   "execution_count": 187,
   "metadata": {
    "collapsed": true
   },
   "outputs": [],
   "source": [
    "Text_test_text_string_list = []\n",
    "for i in range(len(Text_test2)):\n",
    "    s=\"\"\n",
    "    for JJ in Text_test2[i]:\n",
    "        s+=JJ\n",
    "        s+=\" \"\n",
    "    s = s[:-1]\n",
    "    Text_test_text_string_list.append(s)"
   ]
  },
  {
   "cell_type": "code",
   "execution_count": 191,
   "metadata": {
    "collapsed": false
   },
   "outputs": [
    {
     "data": {
      "text/plain": [
       "1500"
      ]
     },
     "execution_count": 191,
     "metadata": {},
     "output_type": "execute_result"
    }
   ],
   "source": [
    "len(Text_train_text_string_list)"
   ]
  },
  {
   "cell_type": "code",
   "execution_count": 193,
   "metadata": {
    "collapsed": false
   },
   "outputs": [
    {
     "data": {
      "text/plain": [
       "\"i feel sorry for the financial backers of waterworld which is supposedly the most expensive film ever made at 172 million ! and is also one of the stupidest boy did they get ripped off ! in fact this film is not really a movie but more of an amusement park ride with a plot it's not even just another case of cliches strung together well it is that too it's something that's painful to watch because it relishes in its flaws kevin costner stars as a man who is some kind of mutant half manhalf fish he is an explorermariner on an alternate earth that is completely covered by water because the polar ice caps melted he's referred to as the mariner but they the meaner would have been a more appropriate title because he's cold rigid and strict and he's supposed the be the good guy ! he docks at a small floating village of sorts he trades dirt for money and this introduces us to the other important characters first we meet one of the villains then the soontobe heroine a child prodigy a wacky inventor and a group of primitive people that somehow have some of the technology we have today but also some of the lowtech tools used by pirates and vikings immediately the film's biggest flaw is apparent are these people primitive or highly advanced ? it doesn't seem like anyone can read yet they have skidoos and airplanes ! how are these things powered ? and if they have airplanes couldn't they just keep flying until they reached dry land ? also if the planet is completely covered in water where did they get the materials to make these things ? i'm sorry i'm all for checking your brain at the door when going to the movies but elements like these cannot go unnoticed because they draw our attention away from the story and confuse us there was potential here for a good pirate story set in medieval times before modern technology so why mix the two together ? it doesn't make any sense there really isn't much of a plot here because the story moves so quickly it never takes time to explain anything the only thing we learn is that the prodigy child enola mojorino has a tattoo on her back that is supposedly a map to dryland who put the tattoo there and how come it has taken them this long to figure this out ? we never get an answer just a stupid action movie about whoever can get the girl will be the victor of sorts if they reach dryland to make a long boring stupid and just plain bad story short the mariner escapes with a woman named helen tripplehorn and enola they sail for a long time encountering some strange people in the process and fight off the smokers as lead by the idiot villain deacon hopper who kidnaps enola the story becomes a overly grand adventure with the mariner taking on an army of goons rescuing enola and bringing them all to salvation how original even with all its special effects action and adventure this film is boring not a single character is likable therefore neither is the plot dennis hopper completely rips off jack nicholson's joker while costner just plain rips still waterworld is professionally made with a good production design and an original idea but no substance to it i just hope they don't make a sequel !\""
      ]
     },
     "execution_count": 193,
     "metadata": {},
     "output_type": "execute_result"
    }
   ],
   "source": [
    "Text_test_text_string_list[-1]"
   ]
  },
  {
   "cell_type": "code",
   "execution_count": 183,
   "metadata": {
    "collapsed": false
   },
   "outputs": [
    {
     "data": {
      "text/plain": [
       "412"
      ]
     },
     "execution_count": 183,
     "metadata": {},
     "output_type": "execute_result"
    }
   ],
   "source": [
    "len(Text_train2[-1])"
   ]
  },
  {
   "cell_type": "code",
   "execution_count": 194,
   "metadata": {
    "collapsed": false
   },
   "outputs": [
    {
     "data": {
      "text/plain": [
       "2319"
      ]
     },
     "execution_count": 194,
     "metadata": {},
     "output_type": "execute_result"
    }
   ],
   "source": [
    "len(Text_train_text_string_list[-1])"
   ]
  },
  {
   "cell_type": "code",
   "execution_count": 202,
   "metadata": {
    "collapsed": true
   },
   "outputs": [],
   "source": [
    "Count_vectorizer = CountVectorizer(binary=False,ngram_range=(1,2),stop_words='english')"
   ]
  },
  {
   "cell_type": "code",
   "execution_count": 203,
   "metadata": {
    "collapsed": false
   },
   "outputs": [],
   "source": [
    "train_text_X = Count_vectorizer.fit_transform(Text_train_text_string_list)"
   ]
  },
  {
   "cell_type": "code",
   "execution_count": 204,
   "metadata": {
    "collapsed": false
   },
   "outputs": [
    {
     "data": {
      "text/plain": [
       "<1500x419525 sparse matrix of type '<type 'numpy.int64'>'\n",
       "\twith 820258 stored elements in Compressed Sparse Row format>"
      ]
     },
     "execution_count": 204,
     "metadata": {},
     "output_type": "execute_result"
    }
   ],
   "source": [
    "train_text_X"
   ]
  },
  {
   "cell_type": "code",
   "execution_count": 270,
   "metadata": {
    "collapsed": true
   },
   "outputs": [],
   "source": [
    "#tfidf_vectorizer = TfidfVectorizer(ngram_range=(1,1),stop_words='english')\n",
    "tfidf_vectorizer = TfidfVectorizer(ngram_range=(1,1),stop_words='english')\n",
    "tfidf_vectorizer.fit(Text_train_text_string_list)\n",
    "X_train_tfidf = tfidf_vectorizer.transform(Text_train_text_string_list)\n",
    "X_test_tfidf = tfidf_vectorizer.transform(Text_test_text_string_list)"
   ]
  },
  {
   "cell_type": "code",
   "execution_count": 259,
   "metadata": {
    "collapsed": false
   },
   "outputs": [],
   "source": [
    "count_vectorizer = CountVectorizer(binary=True,ngram_range=(1,1),stop_words='english')\n",
    "count_vectorizer.fit(Text_train_text_string_list)\n",
    "X_train_count = count_vectorizer.transform(Text_train_text_string_list)\n",
    "X_test_count = count_vectorizer.transform(Text_test_text_string_list)"
   ]
  },
  {
   "cell_type": "code",
   "execution_count": 230,
   "metadata": {
    "collapsed": true
   },
   "outputs": [],
   "source": [
    "y_train2 = pickle.load( open( \"y_train.p\", \"rb\" ) )\n",
    "y_test2 = pickle.load( open( \"y_test.p\", \"rb\" ) )"
   ]
  },
  {
   "cell_type": "code",
   "execution_count": 271,
   "metadata": {
    "collapsed": false
   },
   "outputs": [
    {
     "data": {
      "text/plain": [
       "SVC(C=1.0, cache_size=200, class_weight=None, coef0=0.0, degree=3, gamma=0.0,\n",
       "  kernel='linear', max_iter=-1, probability=True, random_state=None,\n",
       "  shrinking=True, tol=0.001, verbose=False)"
      ]
     },
     "execution_count": 271,
     "metadata": {},
     "output_type": "execute_result"
    }
   ],
   "source": [
    "import matplotlib\n",
    "import matplotlib.pyplot as plt\n",
    "import sklearn\n",
    "from sklearn import linear_model\n",
    "from sklearn import svm, datasets\n",
    "from sklearn.metrics import roc_curve, auc\n",
    "from sklearn.metrics import roc_auc_score\n",
    "my_svm = svm.SVC(kernel='linear',probability=True)\n",
    "my_svm.fit(X_train_tfidf,y_train2 )\n",
    "#my_svm.fit(X_train_count,y_train2 )"
   ]
  },
  {
   "cell_type": "code",
   "execution_count": 272,
   "metadata": {
    "collapsed": false
   },
   "outputs": [],
   "source": [
    "#predict_result = my_svm.predict(X_test_tfidf)\n",
    "predict_result = my_svm.predict(X_test_tfidf)"
   ]
  },
  {
   "cell_type": "code",
   "execution_count": 273,
   "metadata": {
    "collapsed": false
   },
   "outputs": [],
   "source": [
    "wrong_item_num =0\n",
    "for i in range(len(predict_result)):\n",
    "    if predict_result[i]!= y_test2[i]:\n",
    "        wrong_item_num +=1"
   ]
  },
  {
   "cell_type": "code",
   "execution_count": 274,
   "metadata": {
    "collapsed": false
   },
   "outputs": [
    {
     "data": {
      "text/plain": [
       "77"
      ]
     },
     "execution_count": 274,
     "metadata": {},
     "output_type": "execute_result"
    }
   ],
   "source": [
    "wrong_item_num"
   ]
  },
  {
   "cell_type": "markdown",
   "metadata": {},
   "source": [
    "$\\sqrt{p (1-p)}$"
   ]
  }
 ],
 "metadata": {
  "kernelspec": {
   "display_name": "Python 2",
   "language": "python",
   "name": "python2"
  },
  "language_info": {
   "codemirror_mode": {
    "name": "ipython",
    "version": 2
   },
   "file_extension": ".py",
   "mimetype": "text/x-python",
   "name": "python",
   "nbconvert_exporter": "python",
   "pygments_lexer": "ipython2",
   "version": "2.7.11"
  }
 },
 "nbformat": 4,
 "nbformat_minor": 0
}
