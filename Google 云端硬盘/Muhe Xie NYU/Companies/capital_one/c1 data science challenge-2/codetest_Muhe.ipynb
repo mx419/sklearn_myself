{
 "cells": [
  {
   "cell_type": "code",
   "execution_count": 37,
   "metadata": {
    "collapsed": true
   },
   "outputs": [],
   "source": [
    "import pandas as pd\n",
    "import numpy as np\n",
    "import matplotlib.pyplot as plt\n",
    "from sklearn.cross_validation import train_test_split\n",
    "from sklearn.tree import DecisionTreeClassifier\n",
    "from sklearn import tree, metrics\n",
    "from sklearn.svm import SVR\n",
    "from sklearn import tree, metrics\n",
    "from sklearn.metrics import mean_squared_error"
   ]
  },
  {
   "cell_type": "code",
   "execution_count": 3,
   "metadata": {
    "collapsed": false
   },
   "outputs": [],
   "source": [
    "from sklearn.linear_model import LogisticRegression \n",
    "from sklearn.tree import DecisionTreeClassifier"
   ]
  },
  {
   "cell_type": "code",
   "execution_count": null,
   "metadata": {
    "collapsed": true
   },
   "outputs": [],
   "source": [
    "LogisticRegression."
   ]
  },
  {
   "cell_type": "code",
   "execution_count": 172,
   "metadata": {
    "collapsed": false
   },
   "outputs": [],
   "source": [
    "codetest_train = pd.read_table(\"codetest_train.txt\")\n",
    "codetest_test = pd.read_table(\"codetest_test.txt\")"
   ]
  },
  {
   "cell_type": "code",
   "execution_count": 173,
   "metadata": {
    "collapsed": false
   },
   "outputs": [],
   "source": [
    "X_test = codetest_test"
   ]
  },
  {
   "cell_type": "code",
   "execution_count": 174,
   "metadata": {
    "collapsed": false
   },
   "outputs": [],
   "source": [
    "X_train = codetest_train.drop('target',axis =1)\n",
    "y_train = codetest_train['target']"
   ]
  },
  {
   "cell_type": "code",
   "execution_count": 175,
   "metadata": {
    "collapsed": false
   },
   "outputs": [],
   "source": [
    "for i in X_train.columns:\n",
    "    if i not in ['f_61','f_121','f_215','f_237']:\n",
    "        X_train[i].replace(np.nan,np.mean(X_train[i]),inplace = True)\n",
    "        X_test[i].replace(np.nan,np.mean(X_test[i]),inplace = True)\n"
   ]
  },
  {
   "cell_type": "code",
   "execution_count": 260,
   "metadata": {
    "collapsed": false
   },
   "outputs": [
    {
     "data": {
      "text/plain": [
       "array(['Canada', 'USA', 'Mexico', nan], dtype=object)"
      ]
     },
     "execution_count": 260,
     "metadata": {},
     "output_type": "execute_result"
    }
   ],
   "source": [
    "#X_train['f_61'].unique()\n",
    "#X_train['f_215'].unique()\n",
    "X_train['f_237'].unique()"
   ]
  },
  {
   "cell_type": "code",
   "execution_count": 177,
   "metadata": {
    "collapsed": false,
    "scrolled": true
   },
   "outputs": [
    {
     "name": "stderr",
     "output_type": "stream",
     "text": [
      "/Users/MuheXie/anacondacmdline/anaconda/lib/python2.7/site-packages/ipykernel/__main__.py:5: SettingWithCopyWarning: \n",
      "A value is trying to be set on a copy of a slice from a DataFrame\n",
      "\n",
      "See the the caveats in the documentation: http://pandas.pydata.org/pandas-docs/stable/indexing.html#indexing-view-versus-copy\n",
      "/Users/MuheXie/anacondacmdline/anaconda/lib/python2.7/site-packages/ipykernel/__main__.py:9: SettingWithCopyWarning: \n",
      "A value is trying to be set on a copy of a slice from a DataFrame\n",
      "\n",
      "See the the caveats in the documentation: http://pandas.pydata.org/pandas-docs/stable/indexing.html#indexing-view-versus-copy\n"
     ]
    }
   ],
   "source": [
    "X_train['f_61_is_a'] =0\n",
    "X_test['f_61_is_a'] = 0\n",
    "for i in range(len(X_train)):\n",
    "    if X_train['f_61'][i] == 'a':\n",
    "        X_train['f_61_is_a'][i] =1\n",
    "\n",
    "for i in range(len(X_test)):\n",
    "    if X_test['f_61'][i] == 'a':\n",
    "        X_test['f_61_is_a'][i] =1"
   ]
  },
  {
   "cell_type": "code",
   "execution_count": 179,
   "metadata": {
    "collapsed": false
   },
   "outputs": [
    {
     "name": "stderr",
     "output_type": "stream",
     "text": [
      "/Users/MuheXie/anacondacmdline/anaconda/lib/python2.7/site-packages/ipykernel/__main__.py:5: SettingWithCopyWarning: \n",
      "A value is trying to be set on a copy of a slice from a DataFrame\n",
      "\n",
      "See the the caveats in the documentation: http://pandas.pydata.org/pandas-docs/stable/indexing.html#indexing-view-versus-copy\n",
      "/Users/MuheXie/anacondacmdline/anaconda/lib/python2.7/site-packages/ipykernel/__main__.py:9: SettingWithCopyWarning: \n",
      "A value is trying to be set on a copy of a slice from a DataFrame\n",
      "\n",
      "See the the caveats in the documentation: http://pandas.pydata.org/pandas-docs/stable/indexing.html#indexing-view-versus-copy\n"
     ]
    }
   ],
   "source": [
    "X_train['f_61_is_b'] =0\n",
    "X_test['f_61_is_b'] = 0\n",
    "for i in range(len(X_train)):\n",
    "    if X_train['f_61'][i] == 'b':\n",
    "        X_train['f_61_is_b'][i] =1\n",
    "\n",
    "for i in range(len(X_test)):\n",
    "    if X_test['f_61'][i] == 'b':\n",
    "        X_test['f_61_is_b'][i] =1"
   ]
  },
  {
   "cell_type": "code",
   "execution_count": 180,
   "metadata": {
    "collapsed": false
   },
   "outputs": [
    {
     "name": "stderr",
     "output_type": "stream",
     "text": [
      "/Users/MuheXie/anacondacmdline/anaconda/lib/python2.7/site-packages/ipykernel/__main__.py:5: SettingWithCopyWarning: \n",
      "A value is trying to be set on a copy of a slice from a DataFrame\n",
      "\n",
      "See the the caveats in the documentation: http://pandas.pydata.org/pandas-docs/stable/indexing.html#indexing-view-versus-copy\n",
      "/Users/MuheXie/anacondacmdline/anaconda/lib/python2.7/site-packages/ipykernel/__main__.py:9: SettingWithCopyWarning: \n",
      "A value is trying to be set on a copy of a slice from a DataFrame\n",
      "\n",
      "See the the caveats in the documentation: http://pandas.pydata.org/pandas-docs/stable/indexing.html#indexing-view-versus-copy\n"
     ]
    }
   ],
   "source": [
    "X_train['f_61_is_c'] =0\n",
    "X_test['f_61_is_c'] = 0\n",
    "for i in range(len(X_train)):\n",
    "    if X_train['f_61'][i] == 'c':\n",
    "        X_train['f_61_is_c'][i] =1\n",
    "\n",
    "for i in range(len(X_test)):\n",
    "    if X_test['f_61'][i] == 'c':\n",
    "        X_test['f_61_is_c'][i] =1\n"
   ]
  },
  {
   "cell_type": "code",
   "execution_count": 181,
   "metadata": {
    "collapsed": false
   },
   "outputs": [
    {
     "name": "stderr",
     "output_type": "stream",
     "text": [
      "/Users/MuheXie/anacondacmdline/anaconda/lib/python2.7/site-packages/ipykernel/__main__.py:5: SettingWithCopyWarning: \n",
      "A value is trying to be set on a copy of a slice from a DataFrame\n",
      "\n",
      "See the the caveats in the documentation: http://pandas.pydata.org/pandas-docs/stable/indexing.html#indexing-view-versus-copy\n",
      "/Users/MuheXie/anacondacmdline/anaconda/lib/python2.7/site-packages/ipykernel/__main__.py:9: SettingWithCopyWarning: \n",
      "A value is trying to be set on a copy of a slice from a DataFrame\n",
      "\n",
      "See the the caveats in the documentation: http://pandas.pydata.org/pandas-docs/stable/indexing.html#indexing-view-versus-copy\n"
     ]
    }
   ],
   "source": [
    "X_train['f_61_is_d'] =0\n",
    "X_test['f_61_is_d'] = 0\n",
    "for i in range(len(X_train)):\n",
    "    if X_train['f_61'][i] == 'd':\n",
    "        X_train['f_61_is_d'][i] =1\n",
    "\n",
    "for i in range(len(X_test)):\n",
    "    if X_test['f_61'][i] == 'd':\n",
    "        X_test['f_61_is_d'][i] =1\n",
    "\n"
   ]
  },
  {
   "cell_type": "code",
   "execution_count": 182,
   "metadata": {
    "collapsed": false
   },
   "outputs": [
    {
     "name": "stderr",
     "output_type": "stream",
     "text": [
      "/Users/MuheXie/anacondacmdline/anaconda/lib/python2.7/site-packages/ipykernel/__main__.py:5: SettingWithCopyWarning: \n",
      "A value is trying to be set on a copy of a slice from a DataFrame\n",
      "\n",
      "See the the caveats in the documentation: http://pandas.pydata.org/pandas-docs/stable/indexing.html#indexing-view-versus-copy\n",
      "/Users/MuheXie/anacondacmdline/anaconda/lib/python2.7/site-packages/ipykernel/__main__.py:9: SettingWithCopyWarning: \n",
      "A value is trying to be set on a copy of a slice from a DataFrame\n",
      "\n",
      "See the the caveats in the documentation: http://pandas.pydata.org/pandas-docs/stable/indexing.html#indexing-view-versus-copy\n"
     ]
    }
   ],
   "source": [
    "X_train['f_61_is_e'] =0\n",
    "X_test['f_61_is_e'] = 0\n",
    "for i in range(len(X_train)):\n",
    "    if X_train['f_61'][i] == 'e':\n",
    "        X_train['f_61_is_e'][i] =1\n",
    "\n",
    "for i in range(len(X_test)):\n",
    "    if X_test['f_61'][i] == 'e':\n",
    "        X_test['f_61_is_e'][i] =1\n",
    "\n"
   ]
  },
  {
   "cell_type": "code",
   "execution_count": 242,
   "metadata": {
    "collapsed": false
   },
   "outputs": [
    {
     "ename": "KeyError",
     "evalue": "'f_61'",
     "output_type": "error",
     "traceback": [
      "\u001b[0;31m---------------------------------------------------------------------------\u001b[0m",
      "\u001b[0;31mKeyError\u001b[0m                                  Traceback (most recent call last)",
      "\u001b[0;32m<ipython-input-242-9365ce72d119>\u001b[0m in \u001b[0;36m<module>\u001b[0;34m()\u001b[0m\n\u001b[0;32m----> 1\u001b[0;31m \u001b[0mX_train\u001b[0m\u001b[0;34m[\u001b[0m\u001b[0;34m'f_61'\u001b[0m\u001b[0;34m]\u001b[0m\u001b[0;34m\u001b[0m\u001b[0m\n\u001b[0m",
      "\u001b[0;32m/Users/MuheXie/anacondacmdline/anaconda/lib/python2.7/site-packages/pandas/core/frame.pyc\u001b[0m in \u001b[0;36m__getitem__\u001b[0;34m(self, key)\u001b[0m\n\u001b[1;32m   1795\u001b[0m             \u001b[0;32mreturn\u001b[0m \u001b[0mself\u001b[0m\u001b[0;34m.\u001b[0m\u001b[0m_getitem_multilevel\u001b[0m\u001b[0;34m(\u001b[0m\u001b[0mkey\u001b[0m\u001b[0;34m)\u001b[0m\u001b[0;34m\u001b[0m\u001b[0m\n\u001b[1;32m   1796\u001b[0m         \u001b[0;32melse\u001b[0m\u001b[0;34m:\u001b[0m\u001b[0;34m\u001b[0m\u001b[0m\n\u001b[0;32m-> 1797\u001b[0;31m             \u001b[0;32mreturn\u001b[0m \u001b[0mself\u001b[0m\u001b[0;34m.\u001b[0m\u001b[0m_getitem_column\u001b[0m\u001b[0;34m(\u001b[0m\u001b[0mkey\u001b[0m\u001b[0;34m)\u001b[0m\u001b[0;34m\u001b[0m\u001b[0m\n\u001b[0m\u001b[1;32m   1798\u001b[0m \u001b[0;34m\u001b[0m\u001b[0m\n\u001b[1;32m   1799\u001b[0m     \u001b[0;32mdef\u001b[0m \u001b[0m_getitem_column\u001b[0m\u001b[0;34m(\u001b[0m\u001b[0mself\u001b[0m\u001b[0;34m,\u001b[0m \u001b[0mkey\u001b[0m\u001b[0;34m)\u001b[0m\u001b[0;34m:\u001b[0m\u001b[0;34m\u001b[0m\u001b[0m\n",
      "\u001b[0;32m/Users/MuheXie/anacondacmdline/anaconda/lib/python2.7/site-packages/pandas/core/frame.pyc\u001b[0m in \u001b[0;36m_getitem_column\u001b[0;34m(self, key)\u001b[0m\n\u001b[1;32m   1802\u001b[0m         \u001b[0;31m# get column\u001b[0m\u001b[0;34m\u001b[0m\u001b[0;34m\u001b[0m\u001b[0m\n\u001b[1;32m   1803\u001b[0m         \u001b[0;32mif\u001b[0m \u001b[0mself\u001b[0m\u001b[0;34m.\u001b[0m\u001b[0mcolumns\u001b[0m\u001b[0;34m.\u001b[0m\u001b[0mis_unique\u001b[0m\u001b[0;34m:\u001b[0m\u001b[0;34m\u001b[0m\u001b[0m\n\u001b[0;32m-> 1804\u001b[0;31m             \u001b[0;32mreturn\u001b[0m \u001b[0mself\u001b[0m\u001b[0;34m.\u001b[0m\u001b[0m_get_item_cache\u001b[0m\u001b[0;34m(\u001b[0m\u001b[0mkey\u001b[0m\u001b[0;34m)\u001b[0m\u001b[0;34m\u001b[0m\u001b[0m\n\u001b[0m\u001b[1;32m   1805\u001b[0m \u001b[0;34m\u001b[0m\u001b[0m\n\u001b[1;32m   1806\u001b[0m         \u001b[0;31m# duplicate columns & possible reduce dimensionaility\u001b[0m\u001b[0;34m\u001b[0m\u001b[0;34m\u001b[0m\u001b[0m\n",
      "\u001b[0;32m/Users/MuheXie/anacondacmdline/anaconda/lib/python2.7/site-packages/pandas/core/generic.pyc\u001b[0m in \u001b[0;36m_get_item_cache\u001b[0;34m(self, item)\u001b[0m\n\u001b[1;32m   1082\u001b[0m         \u001b[0mres\u001b[0m \u001b[0;34m=\u001b[0m \u001b[0mcache\u001b[0m\u001b[0;34m.\u001b[0m\u001b[0mget\u001b[0m\u001b[0;34m(\u001b[0m\u001b[0mitem\u001b[0m\u001b[0;34m)\u001b[0m\u001b[0;34m\u001b[0m\u001b[0m\n\u001b[1;32m   1083\u001b[0m         \u001b[0;32mif\u001b[0m \u001b[0mres\u001b[0m \u001b[0;32mis\u001b[0m \u001b[0mNone\u001b[0m\u001b[0;34m:\u001b[0m\u001b[0;34m\u001b[0m\u001b[0m\n\u001b[0;32m-> 1084\u001b[0;31m             \u001b[0mvalues\u001b[0m \u001b[0;34m=\u001b[0m \u001b[0mself\u001b[0m\u001b[0;34m.\u001b[0m\u001b[0m_data\u001b[0m\u001b[0;34m.\u001b[0m\u001b[0mget\u001b[0m\u001b[0;34m(\u001b[0m\u001b[0mitem\u001b[0m\u001b[0;34m)\u001b[0m\u001b[0;34m\u001b[0m\u001b[0m\n\u001b[0m\u001b[1;32m   1085\u001b[0m             \u001b[0mres\u001b[0m \u001b[0;34m=\u001b[0m \u001b[0mself\u001b[0m\u001b[0;34m.\u001b[0m\u001b[0m_box_item_values\u001b[0m\u001b[0;34m(\u001b[0m\u001b[0mitem\u001b[0m\u001b[0;34m,\u001b[0m \u001b[0mvalues\u001b[0m\u001b[0;34m)\u001b[0m\u001b[0;34m\u001b[0m\u001b[0m\n\u001b[1;32m   1086\u001b[0m             \u001b[0mcache\u001b[0m\u001b[0;34m[\u001b[0m\u001b[0mitem\u001b[0m\u001b[0;34m]\u001b[0m \u001b[0;34m=\u001b[0m \u001b[0mres\u001b[0m\u001b[0;34m\u001b[0m\u001b[0m\n",
      "\u001b[0;32m/Users/MuheXie/anacondacmdline/anaconda/lib/python2.7/site-packages/pandas/core/internals.pyc\u001b[0m in \u001b[0;36mget\u001b[0;34m(self, item, fastpath)\u001b[0m\n\u001b[1;32m   2849\u001b[0m \u001b[0;34m\u001b[0m\u001b[0m\n\u001b[1;32m   2850\u001b[0m             \u001b[0;32mif\u001b[0m \u001b[0;32mnot\u001b[0m \u001b[0misnull\u001b[0m\u001b[0;34m(\u001b[0m\u001b[0mitem\u001b[0m\u001b[0;34m)\u001b[0m\u001b[0;34m:\u001b[0m\u001b[0;34m\u001b[0m\u001b[0m\n\u001b[0;32m-> 2851\u001b[0;31m                 \u001b[0mloc\u001b[0m \u001b[0;34m=\u001b[0m \u001b[0mself\u001b[0m\u001b[0;34m.\u001b[0m\u001b[0mitems\u001b[0m\u001b[0;34m.\u001b[0m\u001b[0mget_loc\u001b[0m\u001b[0;34m(\u001b[0m\u001b[0mitem\u001b[0m\u001b[0;34m)\u001b[0m\u001b[0;34m\u001b[0m\u001b[0m\n\u001b[0m\u001b[1;32m   2852\u001b[0m             \u001b[0;32melse\u001b[0m\u001b[0;34m:\u001b[0m\u001b[0;34m\u001b[0m\u001b[0m\n\u001b[1;32m   2853\u001b[0m                 \u001b[0mindexer\u001b[0m \u001b[0;34m=\u001b[0m \u001b[0mnp\u001b[0m\u001b[0;34m.\u001b[0m\u001b[0marange\u001b[0m\u001b[0;34m(\u001b[0m\u001b[0mlen\u001b[0m\u001b[0;34m(\u001b[0m\u001b[0mself\u001b[0m\u001b[0;34m.\u001b[0m\u001b[0mitems\u001b[0m\u001b[0;34m)\u001b[0m\u001b[0;34m)\u001b[0m\u001b[0;34m[\u001b[0m\u001b[0misnull\u001b[0m\u001b[0;34m(\u001b[0m\u001b[0mself\u001b[0m\u001b[0;34m.\u001b[0m\u001b[0mitems\u001b[0m\u001b[0;34m)\u001b[0m\u001b[0;34m]\u001b[0m\u001b[0;34m\u001b[0m\u001b[0m\n",
      "\u001b[0;32m/Users/MuheXie/anacondacmdline/anaconda/lib/python2.7/site-packages/pandas/core/index.pyc\u001b[0m in \u001b[0;36mget_loc\u001b[0;34m(self, key, method)\u001b[0m\n\u001b[1;32m   1570\u001b[0m         \"\"\"\n\u001b[1;32m   1571\u001b[0m         \u001b[0;32mif\u001b[0m \u001b[0mmethod\u001b[0m \u001b[0;32mis\u001b[0m \u001b[0mNone\u001b[0m\u001b[0;34m:\u001b[0m\u001b[0;34m\u001b[0m\u001b[0m\n\u001b[0;32m-> 1572\u001b[0;31m             \u001b[0;32mreturn\u001b[0m \u001b[0mself\u001b[0m\u001b[0;34m.\u001b[0m\u001b[0m_engine\u001b[0m\u001b[0;34m.\u001b[0m\u001b[0mget_loc\u001b[0m\u001b[0;34m(\u001b[0m\u001b[0m_values_from_object\u001b[0m\u001b[0;34m(\u001b[0m\u001b[0mkey\u001b[0m\u001b[0;34m)\u001b[0m\u001b[0;34m)\u001b[0m\u001b[0;34m\u001b[0m\u001b[0m\n\u001b[0m\u001b[1;32m   1573\u001b[0m \u001b[0;34m\u001b[0m\u001b[0m\n\u001b[1;32m   1574\u001b[0m         \u001b[0mindexer\u001b[0m \u001b[0;34m=\u001b[0m \u001b[0mself\u001b[0m\u001b[0;34m.\u001b[0m\u001b[0mget_indexer\u001b[0m\u001b[0;34m(\u001b[0m\u001b[0;34m[\u001b[0m\u001b[0mkey\u001b[0m\u001b[0;34m]\u001b[0m\u001b[0;34m,\u001b[0m \u001b[0mmethod\u001b[0m\u001b[0;34m=\u001b[0m\u001b[0mmethod\u001b[0m\u001b[0;34m)\u001b[0m\u001b[0;34m\u001b[0m\u001b[0m\n",
      "\u001b[0;32mpandas/index.pyx\u001b[0m in \u001b[0;36mpandas.index.IndexEngine.get_loc (pandas/index.c:3824)\u001b[0;34m()\u001b[0m\n",
      "\u001b[0;32mpandas/index.pyx\u001b[0m in \u001b[0;36mpandas.index.IndexEngine.get_loc (pandas/index.c:3704)\u001b[0;34m()\u001b[0m\n",
      "\u001b[0;32mpandas/hashtable.pyx\u001b[0m in \u001b[0;36mpandas.hashtable.PyObjectHashTable.get_item (pandas/hashtable.c:12280)\u001b[0;34m()\u001b[0m\n",
      "\u001b[0;32mpandas/hashtable.pyx\u001b[0m in \u001b[0;36mpandas.hashtable.PyObjectHashTable.get_item (pandas/hashtable.c:12231)\u001b[0;34m()\u001b[0m\n",
      "\u001b[0;31mKeyError\u001b[0m: 'f_61'"
     ]
    }
   ],
   "source": [
    "X_train['f_61']"
   ]
  },
  {
   "cell_type": "code",
   "execution_count": 241,
   "metadata": {
    "collapsed": false
   },
   "outputs": [],
   "source": [
    "X_train.drop('f_61',axis=1,inplace=True)"
   ]
  },
  {
   "cell_type": "code",
   "execution_count": 245,
   "metadata": {
    "collapsed": false
   },
   "outputs": [],
   "source": [
    "X_train['f_121_isA'] = X_train['f_121'] =='A'\n",
    "X_test['f_121_isA'] = X_test['f_121'] =='A'"
   ]
  },
  {
   "cell_type": "code",
   "execution_count": 250,
   "metadata": {
    "collapsed": false
   },
   "outputs": [],
   "source": [
    "X_train['f_121_isB'] = X_train['f_121'] =='B'\n",
    "X_test['f_121_isB'] = X_test['f_121'] =='B'\n",
    "X_train['f_121_isC'] = X_train['f_121'] =='C'\n",
    "X_test['f_121_isC'] = X_test['f_121'] =='C'\n",
    "X_train['f_121_isD'] = X_train['f_121'] =='D'\n",
    "X_test['f_121_isD'] = X_test['f_121'] =='D'\n",
    "X_train['f_121_isE'] = X_train['f_121'] =='E'\n",
    "X_test['f_121_isE'] = X_test['f_121'] =='E'\n",
    "X_train['f_121_isF'] = X_train['f_121'] =='F'\n",
    "X_test['f_121_isF'] = X_test['f_121'] =='F'"
   ]
  },
  {
   "cell_type": "code",
   "execution_count": 254,
   "metadata": {
    "collapsed": false
   },
   "outputs": [],
   "source": [
    "X_train.drop('f_121',axis=1,inplace=True)\n",
    "X_test.drop('f_121',axis=1,inplace=True)"
   ]
  },
  {
   "cell_type": "code",
   "execution_count": 257,
   "metadata": {
    "collapsed": true
   },
   "outputs": [],
   "source": [
    "X_train['f_215_isred'] = X_train['f_215'] =='red'\n",
    "X_test['f_215_isred'] = X_test['f_215'] =='red'\n",
    "X_train['f_215_isblue'] = X_train['f_215'] =='blue'\n",
    "X_test['f_215_isblue'] = X_test['f_215'] =='blue'\n",
    "\n",
    "X_train['f_215_isorange'] = X_train['f_215'] =='orange'\n",
    "X_test['f_215_isorange'] = X_test['f_215'] =='orange'\n",
    "X_train['f_215_isyellow'] = X_train['f_215'] =='yellow'\n",
    "X_test['f_215_isyellow'] = X_test['f_215'] =='yellow'"
   ]
  },
  {
   "cell_type": "code",
   "execution_count": 258,
   "metadata": {
    "collapsed": false
   },
   "outputs": [],
   "source": [
    "X_train.drop('f_215',axis=1,inplace=True)\n",
    "X_test.drop('f_215',axis=1,inplace=True)"
   ]
  },
  {
   "cell_type": "code",
   "execution_count": null,
   "metadata": {
    "collapsed": true
   },
   "outputs": [],
   "source": [
    "array(['Canada', 'USA', 'Mexico', nan], dtype=object)"
   ]
  },
  {
   "cell_type": "code",
   "execution_count": 261,
   "metadata": {
    "collapsed": true
   },
   "outputs": [],
   "source": [
    "X_train['f_237_isCanada'] = X_train['f_237'] =='Canada'\n",
    "X_test['f_237_isCanada'] = X_test['f_237'] =='Canada'\n",
    "\n",
    "X_train['f_237_isUSA'] = X_train['f_237'] =='USA'\n",
    "X_test['f_237_isUSA'] = X_test['f_237'] =='USA'\n",
    "\n",
    "X_train['f_237_isMexico'] = X_train['f_237'] =='Mexico'\n",
    "X_test['f_237_isMexico'] = X_test['f_237'] =='Mexico'\n",
    "\n"
   ]
  },
  {
   "cell_type": "code",
   "execution_count": 262,
   "metadata": {
    "collapsed": true
   },
   "outputs": [],
   "source": [
    "X_train.drop('f_237',axis=1,inplace=True)\n",
    "X_test.drop('f_237',axis=1,inplace=True)"
   ]
  },
  {
   "cell_type": "code",
   "execution_count": 275,
   "metadata": {
    "collapsed": false
   },
   "outputs": [],
   "source": [
    "X_train = X_train.applymap(lambda x:1 if x == True else x)\n",
    "X_test = X_test.applymap(lambda x:1 if x == True else x)"
   ]
  },
  {
   "cell_type": "code",
   "execution_count": 277,
   "metadata": {
    "collapsed": false
   },
   "outputs": [],
   "source": [
    "X_train = X_train.applymap(lambda x:0 if x == False else x)\n",
    "X_test = X_test.applymap(lambda x:0 if x == False else x)"
   ]
  },
  {
   "cell_type": "code",
   "execution_count": 281,
   "metadata": {
    "collapsed": false
   },
   "outputs": [],
   "source": [
    "import pickle"
   ]
  },
  {
   "cell_type": "code",
   "execution_count": 282,
   "metadata": {
    "collapsed": true
   },
   "outputs": [],
   "source": [
    "pickle.dump(X_train, open( \"X_train.p\", \"wb\"))\n",
    "pickle.dump(X_test, open( \"X_test.p\", \"wb\"))\n"
   ]
  },
  {
   "cell_type": "code",
   "execution_count": 311,
   "metadata": {
    "collapsed": true
   },
   "outputs": [],
   "source": [
    "pickle.dump(X_train_scale, open( \"X_train_scale.p\", \"wb\"))\n",
    "pickle.dump(X_test_scale, open( \"X_test_scale.p\", \"wb\"))\n",
    "\n"
   ]
  },
  {
   "cell_type": "code",
   "execution_count": 313,
   "metadata": {
    "collapsed": false
   },
   "outputs": [],
   "source": [
    "xx_train, xx_validate, yy_train, yy_validate = train_test_split(X_train_scale, y_train, test_size = 1000, random_state=5)"
   ]
  },
  {
   "cell_type": "markdown",
   "metadata": {},
   "source": [
    "ridge regression"
   ]
  },
  {
   "cell_type": "code",
   "execution_count": 318,
   "metadata": {
    "collapsed": false
   },
   "outputs": [],
   "source": [
    "from sklearn.linear_model import Ridge\n"
   ]
  },
  {
   "cell_type": "code",
   "execution_count": 320,
   "metadata": {
    "collapsed": false
   },
   "outputs": [
    {
     "data": {
      "text/plain": [
       "Ridge(alpha=1.0, copy_X=True, fit_intercept=True, max_iter=None,\n",
       "   normalize=False, solver='auto', tol=0.001)"
      ]
     },
     "execution_count": 320,
     "metadata": {},
     "output_type": "execute_result"
    }
   ],
   "source": [
    "clf = Ridge(alpha=1.0)\n",
    "clf.fit(xx_train,yy_train)"
   ]
  },
  {
   "cell_type": "code",
   "execution_count": 325,
   "metadata": {
    "collapsed": false
   },
   "outputs": [
    {
     "data": {
      "text/plain": [
       "12.442402125177065"
      ]
     },
     "execution_count": 325,
     "metadata": {},
     "output_type": "execute_result"
    }
   ],
   "source": [
    "mean_squared_error(yy_validate, clf.predict(xx_validate))  "
   ]
  },
  {
   "cell_type": "code",
   "execution_count": 327,
   "metadata": {
    "collapsed": false
   },
   "outputs": [],
   "source": [
    ">>> import numpy as np\n",
    ">>> from sklearn.metrics import mean_squared_error\n",
    ">>> from sklearn.datasets import make_friedman1\n",
    ">>> from sklearn.ensemble import GradientBoostingRegressor\n",
    "\n"
   ]
  },
  {
   "cell_type": "code",
   "execution_count": 328,
   "metadata": {
    "collapsed": false
   },
   "outputs": [
    {
     "data": {
      "text/plain": [
       "13.848776410824849"
      ]
     },
     "execution_count": 328,
     "metadata": {},
     "output_type": "execute_result"
    }
   ],
   "source": [
    "est = GradientBoostingRegressor(n_estimators=100, learning_rate=0.1,max_depth=1, random_state=0, loss='ls').fit(xx_train, yy_train)\n",
    "mean_squared_error(yy_validate, est.predict(xx_validate))    \n"
   ]
  },
  {
   "cell_type": "code",
   "execution_count": 332,
   "metadata": {
    "collapsed": false
   },
   "outputs": [
    {
     "data": {
      "text/plain": [
       "array([  2.81005258e+00,   2.72180905e+00,   7.68919357e-01,\n",
       "         1.96273256e+00,   4.90672971e+00,   9.07068014e+00,\n",
       "         4.75697450e+00,  -1.06407164e+00,   4.47152762e+00,\n",
       "         4.97026791e+00,  -6.90786319e-01,  -3.77347713e+00,\n",
       "         6.26725262e-01,  -6.88679801e+00,   6.15754905e+00,\n",
       "         4.84665157e-01,   4.38257627e+00,   2.09537283e+00,\n",
       "        -1.61364376e+00,   3.69655546e+00,   1.48135212e+00,\n",
       "         4.80559901e-01,  -4.93139084e+00,  -2.21586902e+00,\n",
       "        -6.12792560e-01,   3.87322465e+00,  -5.23922018e+00,\n",
       "         3.85500824e+00,  -6.40228802e+00,   3.93878846e+00,\n",
       "        -5.67853811e+00,   4.01992607e+00,   5.59026902e+00,\n",
       "         8.34762729e+00,   1.09441272e+00,   2.20566530e+00,\n",
       "        -6.63378298e+00,   2.36368590e+00,   1.20953927e+00,\n",
       "         1.20304822e+00,  -6.16468720e-01,  -4.80569140e+00,\n",
       "        -4.28906473e+00,   7.87517631e-01,   5.96547123e+00,\n",
       "        -6.67574494e-02,   5.52461271e-01,   2.37777664e+00,\n",
       "         3.31991813e-01,   4.88564890e+00,   4.23831124e+00,\n",
       "        -9.03199454e-01,   7.95933649e-01,  -6.62077189e+00,\n",
       "         9.79776661e+00,  -9.83376293e-01,   1.22473433e+00,\n",
       "         3.65588021e+00,  -1.19541111e+00,  -3.56527342e+00,\n",
       "        -2.74127750e+00,  -5.21676393e+00,  -7.35491814e-01,\n",
       "         8.44159597e-01,  -3.14607767e+00,   3.82920530e+00,\n",
       "        -6.25535346e+00,  -1.05834316e-01,  -6.47844149e+00,\n",
       "        -4.52037163e-01,   2.67507864e+00,  -1.72210229e+00,\n",
       "         3.11034289e+00,   1.56419865e+00,   4.09651072e-01,\n",
       "         2.42671405e+00,  -5.32433588e+00,   6.52107105e+00,\n",
       "        -1.00242999e+01,   5.53738077e+00,  -5.78035460e+00,\n",
       "        -5.06016231e+00,   1.13934650e+00,   2.64759264e+00,\n",
       "        -1.59030624e+00,   4.33572519e+00,   4.46881361e+00,\n",
       "         1.61780462e+00,   5.22637550e+00,   6.43406467e+00,\n",
       "        -1.09077082e+00,  -4.30296716e+00,   1.32813582e+00,\n",
       "         6.34622029e+00,  -8.15975868e-01,  -5.57524037e-02,\n",
       "         8.39794634e+00,   2.20557654e+00,   4.99268846e+00,\n",
       "         1.14861338e+00,   1.13760633e+00,   8.56823754e+00,\n",
       "         3.88875425e+00,   2.10996490e+00,  -2.01001015e+00,\n",
       "        -1.13042574e+00,   5.89577253e+00,  -9.05037762e-01,\n",
       "         1.99494727e+00,   4.74844696e+00,   1.57880303e+00,\n",
       "        -1.90618585e+00,   3.88543682e+00,   6.52054010e-01,\n",
       "        -3.67727723e+00,   3.61734712e+00,   3.16977388e+00,\n",
       "         2.67142195e+00,  -1.87763149e+00,  -5.25362030e-01,\n",
       "         2.59269893e+00,   1.39404038e+00,   3.99060203e+00,\n",
       "         1.52136283e+00,   1.94844763e+00,  -1.05261044e+00,\n",
       "        -3.80704909e+00,  -2.57598446e+00,  -8.46519091e-03,\n",
       "        -5.29798302e+00,  -5.12496045e+00,  -9.15564400e-01,\n",
       "         3.83410457e+00,   2.50763519e+00,   2.58147331e-01,\n",
       "         1.69300654e+00,  -2.14290237e+00,   3.46636461e+00,\n",
       "         5.31724064e+00,   6.53471573e+00,  -3.24495184e+00,\n",
       "         4.00738936e+00,   3.89350789e+00,   1.92404452e+00,\n",
       "         1.57539266e+00,  -2.58210557e+00,   2.19974121e+00,\n",
       "        -9.07640215e-02,   2.94902299e+00,   1.27303642e+00,\n",
       "        -1.54216303e+00,   3.37279421e+00,  -3.94142675e-01,\n",
       "        -2.77010855e-01,  -1.28798334e+00,  -4.99674277e+00,\n",
       "         5.38437041e+00,   9.12693881e-01,   3.68556009e-01,\n",
       "         8.66967942e+00,  -2.68506768e+00,  -1.92080911e+00,\n",
       "         1.73954525e+00,   2.57570205e+00,   1.31180734e+01,\n",
       "         8.55609537e+00,   6.14629109e-01,  -3.29692939e-02,\n",
       "        -3.61640186e+00,  -7.02892462e+00,  -2.66987559e-01,\n",
       "         4.23878897e+00,   1.27100652e+00,  -6.75714744e+00,\n",
       "         7.61342136e+00,   1.47060580e-01,   2.78939648e+00,\n",
       "         3.37010099e+00,   7.18992685e+00,  -1.39061007e+00,\n",
       "        -1.17057863e+00,   7.10752839e+00,   4.58362118e-01,\n",
       "         1.04548543e+01,   3.41104562e+00,   5.23391010e+00,\n",
       "        -2.70254008e+00,   1.56372382e+00,   2.87997931e+00,\n",
       "        -4.66593191e+00,   3.53986775e+00,   1.08738984e+00,\n",
       "         3.87503419e+00,   2.80361358e+00,  -1.99079206e+00,\n",
       "         2.53210718e-02,   5.04549277e+00,  -6.11383552e-01,\n",
       "         4.75087116e+00,  -5.72883995e+00,  -1.71106028e+00,\n",
       "         6.64660756e-01,  -1.23054407e+00,  -4.72372252e-01,\n",
       "         4.65590633e+00,  -7.24338525e-01,   6.85919114e-01,\n",
       "         5.40108536e-01,   1.47842967e+00,   1.98165072e+00,\n",
       "         6.17108970e+00,   3.35561430e+00,   3.74559559e+00,\n",
       "        -3.83025141e+00,  -1.99113451e+00,   3.09295181e+00,\n",
       "         6.25958380e+00,   4.95433199e+00,   1.49063246e+00,\n",
       "        -4.35842150e+00,  -1.16909908e+01,   2.24486305e-01,\n",
       "        -1.11408896e+00,   1.13990283e+01,  -4.70186925e+00,\n",
       "        -2.61379940e+00,  -7.09349256e-01,   2.85324861e+00,\n",
       "        -7.63618388e+00,   4.11754632e+00,   1.32998387e+00,\n",
       "         4.90201042e-01,   8.92872454e-01,   1.50424709e+00,\n",
       "         1.86195447e+00,   6.96297123e+00,   2.38519981e+00,\n",
       "        -3.71723320e+00,   1.62278702e+00,   3.68167972e+00,\n",
       "         3.16205637e+00,   2.26478686e+00,  -8.66443096e-01,\n",
       "         6.40660860e+00,   2.15869149e+00,   5.34743519e-01,\n",
       "        -1.51461807e+00,  -2.59176369e+00,   3.26648719e+00,\n",
       "        -6.79577165e+00,   3.37217379e+00,   2.36684232e+00,\n",
       "         1.08472180e+00,   6.29430187e-01,   5.49105706e-01,\n",
       "         3.50581445e+00,   1.15533667e+00,   5.50703927e+00,\n",
       "         6.38101548e+00,   1.53177062e+00,   9.06736698e-01,\n",
       "        -2.07164921e-01,  -3.30666480e+00,  -1.59792214e+00,\n",
       "         1.01804207e+00,   1.81223380e+00,  -4.22691567e-02,\n",
       "        -1.48015781e+00,   4.06014912e+00,   8.81887474e-01,\n",
       "         5.82105892e+00,  -2.71114175e+00,  -4.94386360e+00,\n",
       "        -4.74827729e-01,  -5.76301358e+00,  -3.35908753e-01,\n",
       "        -2.17908855e+00,   3.31649449e+00,  -3.50218959e+00,\n",
       "         1.98437881e+00,   3.89627075e+00,   7.77224541e-01,\n",
       "        -3.54651256e-01,   4.80450818e+00,  -4.52170900e+00,\n",
       "        -3.12401248e+00,   7.96535649e+00,   4.97510793e+00,\n",
       "        -5.18895891e+00,  -2.29350449e+00,   2.82753944e-01,\n",
       "         6.92476631e+00,  -5.01148755e+00,   9.85228905e-02,\n",
       "        -5.79363624e+00,   8.79305649e-02,  -5.34493092e+00,\n",
       "        -6.77829958e-01,   4.29542860e+00,  -3.68181473e+00,\n",
       "         3.40987860e+00,   3.60741530e+00,   2.96900445e+00,\n",
       "        -9.76623648e-01,  -7.12683019e+00,   7.40856046e+00,\n",
       "         5.97016109e+00,   1.47336870e+00,   9.52488437e-01,\n",
       "         2.33815013e+00,   4.28107972e+00,  -6.15102033e-01,\n",
       "         4.87436770e+00,  -1.36720672e+00,   1.17879040e+00,\n",
       "         5.30812209e+00,   4.36805655e+00,   1.41667953e+00,\n",
       "        -1.82339637e+00,  -1.05466465e+00,   3.18086475e+00,\n",
       "        -6.70155886e-01,   6.07716456e+00,  -8.44090509e-01,\n",
       "         1.28780232e-01,   3.09906879e+00,   5.69538647e+00,\n",
       "         6.15905513e-01,   3.70704571e-01,   1.16238516e+00,\n",
       "         4.89674706e-01,   9.90037471e-01,   6.75308425e-01,\n",
       "        -4.26576201e+00,   1.02211367e-01,   9.94853891e+00,\n",
       "        -1.52026489e-01,  -4.37343644e+00,   3.40087587e+00,\n",
       "         1.09402253e+00,  -1.60579822e+00,   1.41087782e+00,\n",
       "         7.01158881e-01,   2.98823938e+00,  -5.98033110e-02,\n",
       "         2.22482678e-01,   3.20705767e+00,  -5.17165835e+00,\n",
       "         2.25512703e+00,   5.24817618e+00,   5.36464398e+00,\n",
       "         5.93057160e+00,  -5.05556266e+00,   3.19377487e+00,\n",
       "        -1.48735520e+00,   3.61659230e+00,  -3.60593458e+00,\n",
       "         1.03784879e+00,   3.08468056e+00,  -1.36604387e+00,\n",
       "         9.68056408e+00,  -2.70001027e-01,   5.63251717e-01,\n",
       "        -6.83045295e-01,  -3.83294977e+00,   2.45238252e+00,\n",
       "         6.09340959e+00,  -3.00333073e+00,   1.88609775e+00,\n",
       "         4.58042667e+00,   2.94730564e+00,  -2.52298621e+00,\n",
       "         3.69124614e+00,   1.15053221e+00,   2.48616951e+00,\n",
       "         1.23029015e+01,   2.93816884e+00,  -1.05442361e+00,\n",
       "         6.11121881e-01,   2.22143214e+00,   4.81757660e+00,\n",
       "        -1.68251090e+00,   2.21147256e+00,  -4.64635976e-01,\n",
       "         8.07060347e-01,   6.00740972e+00,   2.59400526e+00,\n",
       "         3.18224291e+00,  -7.04100097e+00,   1.17551642e+00,\n",
       "        -3.70235724e+00,   4.91439318e+00,   5.69008610e-02,\n",
       "         3.40432800e+00,   3.64084980e+00,   1.16407522e+00,\n",
       "         2.29720924e+00,   2.43724915e+00,   4.79438605e+00,\n",
       "         1.97042489e+00,   7.11320382e-01,   7.98672601e+00,\n",
       "        -2.72857917e+00,   1.14033456e+01,   1.14273684e+01,\n",
       "         2.65007766e+00,  -4.03504819e+00,   3.20029079e+00,\n",
       "         1.10523703e+00,  -1.71622852e+00,  -3.92386850e+00,\n",
       "         4.97439547e-02,   3.81638831e+00,   1.55582146e+00,\n",
       "         9.55363957e+00,  -3.63011621e-02,   4.91867640e-01,\n",
       "        -1.44379125e+00,   1.24466804e-01,  -8.92855639e+00,\n",
       "         5.80556899e-01,  -1.97214766e+00,  -5.11688098e+00,\n",
       "         2.82994360e+00,   2.31264040e+00,   5.70231746e-01,\n",
       "        -3.42065091e+00,   4.30877761e+00,   1.92543474e-01,\n",
       "         3.88218067e+00,   4.66326569e-01,  -3.99907584e-01,\n",
       "         8.87164117e-03,  -6.40377677e+00,   3.86279235e+00,\n",
       "         5.35571681e+00,   4.05387339e+00,   6.69594287e+00,\n",
       "         4.63333883e-01,  -3.17269530e+00,   2.65982909e+00,\n",
       "        -3.09904931e+00,   2.79267886e+00,   5.41269508e+00,\n",
       "        -4.98913338e+00,  -5.08880477e-01,   7.03590018e+00,\n",
       "        -6.91386383e+00,   2.76586361e+00,   1.19895954e+00,\n",
       "         5.51815937e+00,  -1.06094866e+00,   3.37161907e+00,\n",
       "        -7.13254435e+00,   6.39431719e+00,   4.28588738e+00,\n",
       "        -4.93042829e+00,  -2.43330573e+00,   3.28343926e+00,\n",
       "         1.74672748e+00,  -3.39756553e+00,   3.52501121e+00,\n",
       "        -5.11766028e+00,   4.07020627e-01,   7.14261560e+00,\n",
       "        -7.53731422e-01,  -5.18939959e+00,   3.62525051e+00,\n",
       "         4.36712394e+00,   4.66645255e+00,  -1.11867386e+00,\n",
       "         1.70502049e+00,   4.88897179e+00,  -4.65060393e+00,\n",
       "         1.03474518e+00,   9.13268886e+00,   5.76808897e+00,\n",
       "        -5.70384976e+00,   2.02022624e+00,  -3.89246909e+00,\n",
       "         2.27969663e+00,   4.35528656e+00,  -5.19245155e+00,\n",
       "         5.47392260e+00,  -1.35917652e+00,   4.17919066e+00,\n",
       "        -6.04511038e-01,  -1.64244261e+00,   1.34030035e+01,\n",
       "         3.38428407e+00,   7.97704108e-01,   6.08204369e-01,\n",
       "        -3.04991875e+00,  -4.97946793e-01,  -5.89789562e+00,\n",
       "         2.77450928e+00,  -3.27932222e+00,   4.03783255e+00,\n",
       "        -3.42529072e+00,  -2.70532832e+00,  -1.08298084e+00,\n",
       "        -1.95002219e+00,  -3.34250607e+00,  -5.90737043e+00,\n",
       "         4.65667160e+00,   9.28540445e+00,   1.83709860e+00,\n",
       "         1.11913358e+00,   1.14641082e+01,   2.04168434e+00,\n",
       "         3.27387994e+00,   8.88431744e-01,   4.80006496e+00,\n",
       "        -8.49141863e+00,   5.02632976e+00,   7.19320529e+00,\n",
       "         5.26935014e+00,   4.65457928e+00,  -4.22091415e+00,\n",
       "        -6.25402806e-01,   1.38079585e-01,  -6.30139802e+00,\n",
       "         2.16708951e+00,   1.78017586e+00,   1.21495426e+00,\n",
       "        -2.91813166e+00,   6.05389405e+00,   7.43808435e+00,\n",
       "         4.16847652e+00,   1.47675818e+01,   3.19377038e+00,\n",
       "        -3.13886211e+00,   3.59480182e+00,  -7.81980303e+00,\n",
       "        -3.43628297e+00,  -1.17679883e+00,  -3.27140147e+00,\n",
       "         7.69280617e+00,   2.15308816e+00,   2.65164210e+00,\n",
       "         6.21712869e+00,  -1.27469399e+00,  -3.64653663e-01,\n",
       "         8.89442926e+00,  -1.93223201e+00,  -8.31246428e-01,\n",
       "        -2.09955572e+00,   4.01476976e+00,   3.89828650e+00,\n",
       "         1.33913841e-02,   5.43293089e+00,  -8.99810655e-01,\n",
       "         3.02295241e-01,   1.07979176e+00,   6.58708587e-01,\n",
       "        -2.93483128e+00,  -1.01420524e+01,   5.42813656e+00,\n",
       "         1.17517607e+00,   3.77031770e+00,   2.03489787e+00,\n",
       "        -6.38945873e+00,   2.71684131e+00,   2.35816429e+00,\n",
       "        -9.13110736e-01,   3.07976152e+00,   3.50354623e+00,\n",
       "         2.27539191e+00,   4.43972440e+00,   2.22184500e+00,\n",
       "         3.59401439e+00,   3.13728411e+00,   2.90510038e+00,\n",
       "        -2.37171750e-01,  -7.65555307e+00,   4.88326402e+00,\n",
       "        -7.07035628e+00,   7.93909668e-01,   9.69092074e-02,\n",
       "        -1.02624741e+00,   6.90113859e+00,  -2.41428441e+00,\n",
       "         2.34601895e+00,   7.92599317e-01,  -3.05820217e-01,\n",
       "         3.97503707e+00,  -2.38140689e+00,  -1.47923506e+00,\n",
       "         1.21456243e+01,  -3.08466794e+00,   2.20995518e+00,\n",
       "         5.19623777e+00,   8.42907626e+00,  -4.44029643e-01,\n",
       "         5.51109105e+00,  -8.20255539e+00,   2.94139459e+00,\n",
       "         1.67449685e+00,  -5.00299320e+00,   3.16384004e+00,\n",
       "        -3.28602327e+00,   3.19167180e+00,   7.36159546e+00,\n",
       "         3.45374163e+00,   1.43491310e+00,  -1.10785683e+00,\n",
       "         5.68927995e-01,  -4.07907037e+00,  -4.01964009e+00,\n",
       "        -1.73742522e+00,  -3.28521479e+00,   1.20533359e+00,\n",
       "        -1.35455096e+00,   7.23551343e+00,   3.16526802e+00,\n",
       "        -4.04222552e+00,  -9.32926535e-01,   1.24980307e+00,\n",
       "         4.09562470e+00,   2.61005268e+00,  -1.02525540e-01,\n",
       "         4.88824412e+00,  -3.01046327e+00,  -2.31949194e+00,\n",
       "         9.59169661e-01,   6.91734219e+00,  -2.31539842e+00,\n",
       "         6.22476346e-01,   2.61937669e+00,  -6.79798234e-01,\n",
       "        -2.46809552e+00,   2.59466220e+00,   5.10812090e+00,\n",
       "         2.99892736e+00,   8.43997973e+00,  -6.00950404e-01,\n",
       "         2.34023523e-01,   2.27657618e+00,   5.70476362e-02,\n",
       "        -4.24569179e+00,  -1.77100623e+00,   1.09250477e+00,\n",
       "        -1.94954713e+00,   1.19468230e+00,  -2.92592383e+00,\n",
       "         3.67385963e+00,   7.80410841e+00,  -4.85861923e+00,\n",
       "        -1.06164931e+01,   5.31703228e+00,   3.51581995e+00,\n",
       "         2.03753258e+00,  -1.02510254e-01,   1.07717602e+00,\n",
       "         4.98105559e+00,   2.52932816e+00,  -2.41373642e-01,\n",
       "        -1.32330029e+00,   7.68338629e+00,  -1.66460458e+00,\n",
       "        -2.28821899e+00,   2.22623859e-01,   2.67369803e+00,\n",
       "         4.69784638e+00,   7.88856157e+00,   6.27543709e+00,\n",
       "         6.17482700e-01,   7.63022265e+00,   6.08430875e+00,\n",
       "         7.82151978e+00,   2.08088719e+00,   6.45643235e+00,\n",
       "        -8.36886581e-01,  -1.31975288e+00,  -7.14175535e-01,\n",
       "         7.83029047e+00,   4.35725486e+00,   2.36917553e+00,\n",
       "         6.22511381e+00,   4.93042436e-01,   5.36816416e+00,\n",
       "        -2.16617698e+00,   7.15160754e-02,  -6.15366118e+00,\n",
       "         1.17359939e+00,   1.65167314e+00,   2.10120393e+00,\n",
       "         9.62760334e-01,  -7.13737575e-01,   3.01542951e+00,\n",
       "         1.25957724e+00,   6.22951322e+00,   1.67588870e-01,\n",
       "        -3.88569134e+00,  -2.18359426e+00,   3.08465997e+00,\n",
       "         2.58074701e+00,  -1.73126237e+00,  -1.45403322e+00,\n",
       "        -4.75277357e+00,   4.34948767e+00,   1.63615345e-01,\n",
       "         5.14591703e-01,  -7.24222141e-01,  -2.40845882e+00,\n",
       "         3.78477459e+00,   6.86422579e-03,   8.03502395e-01,\n",
       "         8.05631912e+00,  -4.20781748e+00,   3.05899362e+00,\n",
       "        -2.19022936e+00,   3.47508997e+00,   2.58633049e+00,\n",
       "        -3.14360952e-01,   9.19075513e+00,  -2.57458606e+00,\n",
       "        -1.81241217e-01,   6.97314836e+00,   9.76822874e-01,\n",
       "        -4.53696329e+00,   7.80335821e+00,  -3.05932494e+00,\n",
       "         1.40303633e+00,  -2.19810481e+00,  -3.15122268e+00,\n",
       "        -3.30184685e-02,   4.27550734e+00,  -1.12407319e+00,\n",
       "        -4.57231407e+00,   1.17621547e+00,   5.73743968e+00,\n",
       "        -2.00185125e+00,  -5.74327322e+00,   1.46363809e+00,\n",
       "         3.26155948e+00,  -5.98457305e-01,  -2.24971343e-01,\n",
       "         2.74483739e+00,  -3.50637621e+00,   1.66394071e+00,\n",
       "         3.35985442e+00,  -3.19278474e+00,   3.94631231e+00,\n",
       "        -4.52182785e+00,  -6.68088618e-01,   3.26846241e-01,\n",
       "         1.32654437e+00,  -7.12459329e-01,   2.14554705e+00,\n",
       "        -4.08293786e+00,   3.81703048e+00,   1.04738964e+00,\n",
       "         9.72776757e+00,  -2.09118759e+00,   1.76629474e+00,\n",
       "        -4.29301363e+00,   7.87724448e+00,  -3.29305851e+00,\n",
       "         3.84647372e+00,   5.08436020e+00,   8.95327324e-01,\n",
       "        -5.98815176e+00,  -2.51730562e+00,   2.49868494e+00,\n",
       "         3.94453200e+00,  -2.97427283e+00,   1.84222628e-01,\n",
       "         1.91298966e+00,   2.36650289e+00,   8.67349621e-01,\n",
       "        -6.12165749e-01,  -7.52387584e-01,   7.99572198e+00,\n",
       "         2.56995758e-01,   3.80555323e+00,   4.97177293e+00,\n",
       "         1.27148358e+00,   2.60602731e-01,   1.69866043e-01,\n",
       "         9.07901287e+00,  -1.60239456e+00,   3.90417548e+00,\n",
       "         7.07848309e+00,   3.40366851e+00,   4.63787721e+00,\n",
       "         2.26827900e+00,  -2.50941475e+00,   1.29431280e+00,\n",
       "        -3.90239413e+00,   9.60484619e-02,  -5.25817237e+00,\n",
       "         2.23478805e+00,   2.37474159e+00,  -5.85262882e-01,\n",
       "         3.68094458e-01,  -2.66008544e+00,   1.73691728e+00,\n",
       "         1.42712073e+00,  -3.81907616e+00,  -3.91030726e+00,\n",
       "         5.85762583e+00,   7.31258790e+00,   8.00417683e+00,\n",
       "         4.42189677e+00,  -1.83700234e+00,  -4.18346091e+00,\n",
       "         1.13474279e+00,  -2.07871292e-01,  -1.32834459e+00,\n",
       "         4.04820042e+00,   2.38820545e+00,   3.47792208e+00,\n",
       "        -3.52952698e+00,   7.61153494e+00,   1.12497809e+01,\n",
       "         1.13448417e+00,   6.87045422e+00,   6.15846754e+00,\n",
       "         1.30849421e+00,   4.21017983e+00,   3.17004249e+00,\n",
       "         1.91947133e+00,   1.35827512e-01,  -1.01626075e+00,\n",
       "         6.88083732e+00,   3.07115568e+00,   2.90722714e+00,\n",
       "        -1.21757998e+00,  -6.24028355e-01,  -1.00256873e+00,\n",
       "         1.28378113e+01,  -2.45865765e+00,   2.66706071e+00,\n",
       "         5.88995762e+00,  -6.05199964e+00,  -2.60938981e+00,\n",
       "         3.58324906e+00,   3.81162312e+00,  -6.22307249e+00,\n",
       "        -2.43272456e+00,  -1.76012969e+00,   3.38280656e+00,\n",
       "        -2.05819117e+00,  -1.83334737e+00,   3.69702204e+00,\n",
       "         3.75054339e+00,   4.81474832e+00,  -3.72467192e+00,\n",
       "         1.41155770e+00,  -1.14028191e+00,   1.15062707e+00,\n",
       "         4.70685318e+00,  -9.35509689e-01,  -4.22762929e+00,\n",
       "         5.88218461e+00,   2.44236928e-01,  -1.53047297e+00,\n",
       "         5.26586843e+00,   4.80032895e+00,   4.77876285e-01,\n",
       "         8.07247138e-01,   3.19074327e-01,   3.23481166e+00,\n",
       "         4.03596870e+00,  -5.57807878e-01,   1.93840319e+00,\n",
       "         2.23907123e+00,  -5.28173673e+00,   5.04130079e+00,\n",
       "        -4.80426833e-01,   3.00915090e+00,   3.12164802e+00,\n",
       "        -7.99157351e-01,  -1.95478564e+00,  -1.15640565e+00,\n",
       "        -2.37811159e+00,  -3.99759942e-01,   2.30259153e+00,\n",
       "         5.16671902e-01,  -3.46324405e+00,  -1.64515075e+00,\n",
       "         1.16238655e+01,  -1.50743676e+00,   5.76980461e+00,\n",
       "        -6.42453008e+00,  -4.35601476e+00,   9.62539924e+00,\n",
       "         4.08185200e+00,   3.71564096e+00,   3.23913799e-01,\n",
       "        -2.51991018e+00,  -4.27809667e-01,   4.86197825e+00,\n",
       "         1.53983952e+00,   8.96516142e-02,   6.08678432e+00,\n",
       "         3.03389849e+00,  -4.29962606e+00,   1.33186817e+00,\n",
       "         3.97011644e+00,  -4.72946924e+00,  -6.39334637e-01,\n",
       "        -4.59270630e+00,   4.00503676e+00,   2.82192518e+00,\n",
       "         1.73237895e+00,   5.97011044e+00,   8.55170371e+00,\n",
       "         1.18815511e+00,   7.71236802e+00,   1.74068371e+00,\n",
       "        -2.81666939e+00,   8.84586441e-01,   4.17868597e+00,\n",
       "        -3.87916312e+00,  -2.86882280e+00,   2.36601658e+00,\n",
       "         3.40411366e+00,   7.26179406e+00,  -2.73197746e+00,\n",
       "         9.07993297e-02,   3.39110278e+00,   6.21604584e+00,\n",
       "        -2.28532125e+00,   4.51792588e+00,   4.98372368e+00,\n",
       "        -7.63807543e-02,  -2.52720634e+00,  -1.00883349e+00,\n",
       "        -2.15640793e+00,   8.54109206e+00,   5.00672195e+00,\n",
       "         7.34497146e+00,   5.21769137e+00,   3.66406003e+00,\n",
       "         8.38548488e-01,   3.43734213e+00,  -6.07471877e+00,\n",
       "         1.17662399e+01,   6.95995913e+00,   3.54650640e+00,\n",
       "        -6.36409402e-01,   3.14958615e+00,   4.44938234e+00,\n",
       "        -2.92286198e+00,   5.87165383e+00,  -1.13836223e+01,\n",
       "        -4.74021783e+00,   2.81575693e+00,   3.47350096e+00,\n",
       "         6.50965909e+00,   5.15150544e-01,  -1.24346518e+00,\n",
       "        -1.07437047e+00,   3.62953520e+00,   3.73645687e+00,\n",
       "         6.06545491e+00,  -6.15410069e+00,   5.94500258e+00,\n",
       "        -2.42497551e+00,   1.26687498e+00,  -3.67918145e+00,\n",
       "        -1.27382728e+00,  -1.21596057e+00,   3.94893477e-01,\n",
       "         2.25513627e-01,   4.46275104e+00,   1.09290513e+00,\n",
       "         2.93614351e+00,   1.51020855e+00,   1.89813541e+00,\n",
       "        -4.06718713e+00,  -5.00192587e+00,  -2.72408772e+00,\n",
       "         5.88015279e+00,   4.23860843e+00,  -7.34712753e+00,\n",
       "         1.14722448e+00,   1.83887795e+00,  -2.18762330e+00,\n",
       "        -1.02806418e+00,   7.60422446e-01,   7.72244305e+00,\n",
       "        -4.43812422e+00,  -4.98585730e+00,   5.62769744e-01,\n",
       "        -3.33746764e+00,   6.64882916e+00,  -7.45720711e-01,\n",
       "        -2.42440304e+00,   1.35774520e+00,   1.77394734e+00,\n",
       "        -3.06667649e+00,   5.46852381e+00,  -8.76027368e+00,\n",
       "         1.73981470e+00,  -4.03793910e+00,  -1.34858388e+00,\n",
       "         2.92937915e+00])"
      ]
     },
     "execution_count": 332,
     "metadata": {},
     "output_type": "execute_result"
    }
   ],
   "source": [
    "clf.predict(xx_validate)"
   ]
  },
  {
   "cell_type": "code",
   "execution_count": 331,
   "metadata": {
    "collapsed": false
   },
   "outputs": [
    {
     "data": {
      "text/plain": [
       "27       0.502466\n",
       "1482    11.299080\n",
       "3021     0.355545\n",
       "3867     0.571146\n",
       "637      2.368867\n",
       "4191     7.869669\n",
       "3042     4.052757\n",
       "775     -0.150558\n",
       "3767     2.968617\n",
       "3954     5.306222\n",
       "3845     1.655530\n",
       "4562    -5.208850\n",
       "2401     2.263008\n",
       "3292    -5.004124\n",
       "1333     6.224956\n",
       "4292    -4.243715\n",
       "999      2.920745\n",
       "1815     6.025729\n",
       "336      1.444982\n",
       "177      5.033925\n",
       "3571     2.484608\n",
       "3779    -2.689401\n",
       "4053   -11.679846\n",
       "3100    -0.157115\n",
       "2370     1.173310\n",
       "2481     4.856987\n",
       "4969    -7.333422\n",
       "4885     8.458157\n",
       "3175    -8.722481\n",
       "3276     4.046817\n",
       "          ...    \n",
       "4654     3.090452\n",
       "2756     3.951022\n",
       "563     -7.350083\n",
       "3174    -4.696980\n",
       "2287    -2.498485\n",
       "3364     5.876256\n",
       "424      2.651539\n",
       "1465    -9.278547\n",
       "3468     4.081553\n",
       "4958    -1.923566\n",
       "4620    -5.952710\n",
       "2945     0.719993\n",
       "947      0.304561\n",
       "4998     4.289620\n",
       "4454    -5.365539\n",
       "1606    -7.148130\n",
       "51       1.193751\n",
       "3121    -3.566456\n",
       "73       2.998381\n",
       "191     -2.792709\n",
       "1324     2.849084\n",
       "406      1.872656\n",
       "4713    -1.600527\n",
       "3441    -8.749208\n",
       "3729     6.681213\n",
       "1745    -1.196027\n",
       "1330     1.245367\n",
       "2559    -4.847456\n",
       "4970    -1.269437\n",
       "3438    -7.322726\n",
       "Name: target, dtype: float64"
      ]
     },
     "execution_count": 331,
     "metadata": {},
     "output_type": "execute_result"
    }
   ],
   "source": [
    "yy_validate"
   ]
  },
  {
   "cell_type": "code",
   "execution_count": 329,
   "metadata": {
    "collapsed": false
   },
   "outputs": [
    {
     "data": {
      "text/plain": [
       "array([  1.25090561e+00,   2.61283928e+00,   5.28654144e-01,\n",
       "         2.77528610e-01,   2.65321620e+00,   7.38079071e+00,\n",
       "         3.03736661e+00,  -2.34431033e+00,   9.50750894e-01,\n",
       "         5.60650630e+00,   2.73921677e+00,  -2.40899777e+00,\n",
       "         1.43300741e+00,  -4.41223184e+00,   4.09123873e+00,\n",
       "         2.71067806e+00,   2.29957895e+00,   3.48415466e+00,\n",
       "        -1.09648533e+00,   3.47507561e+00,   2.23291438e+00,\n",
       "         3.16999485e+00,  -2.93979112e+00,  -7.31000847e-02,\n",
       "         1.76523316e+00,   3.64669050e+00,  -3.42063264e+00,\n",
       "         3.60919334e+00,  -5.99904135e+00,   4.53227800e+00,\n",
       "        -3.57899309e+00,   3.72959485e+00,   3.72694875e+00,\n",
       "         4.00731482e+00,   1.01177236e+00,   2.12172015e+00,\n",
       "        -4.73146884e+00,   1.57133973e-01,   1.98486469e+00,\n",
       "         1.42093148e+00,  -1.25108146e+00,  -2.15545995e+00,\n",
       "        -8.77577071e-01,   3.23468958e-01,   4.11375141e+00,\n",
       "        -7.68715198e-01,   1.79823372e+00,   3.10024793e+00,\n",
       "         1.08357581e+00,   3.74339525e+00,   4.14944770e+00,\n",
       "        -1.52772902e+00,   6.05933220e-01,  -4.07863972e+00,\n",
       "         6.50180429e+00,   9.51954431e-01,   1.32929765e+00,\n",
       "         1.93823781e+00,  -1.62665384e+00,  -3.63481370e+00,\n",
       "        -9.51452842e-01,  -2.08373317e+00,  -2.95049878e-01,\n",
       "        -5.51917278e-01,  -2.40710152e+00,   3.55122379e+00,\n",
       "        -3.94214454e+00,   1.18488111e+00,  -3.69976790e+00,\n",
       "        -6.25524917e-01,   2.38988483e+00,  -2.51316585e+00,\n",
       "         2.76945693e+00,   9.23482907e-01,   2.57375556e-01,\n",
       "         2.05573510e+00,  -4.09889188e+00,   5.57830218e+00,\n",
       "        -6.70875548e+00,   4.51562549e+00,  -4.62469767e+00,\n",
       "        -3.82275492e+00,   8.51032445e-01,   3.16773534e+00,\n",
       "        -8.30058637e-01,   3.46208465e+00,   3.29342088e+00,\n",
       "         3.68675674e-01,   6.15703894e+00,   4.69776314e+00,\n",
       "        -1.51427938e+00,  -2.24129410e+00,   7.61836303e-01,\n",
       "         4.62634583e+00,   4.11774903e-01,   1.43786661e+00,\n",
       "         6.14015042e+00,   2.10590057e+00,   3.83634971e+00,\n",
       "         1.65261867e+00,   1.34116927e+00,   8.30948164e+00,\n",
       "         1.15889757e+00,   9.40717723e-01,  -2.53512358e+00,\n",
       "        -4.99047419e-01,   5.38418946e+00,   1.15174104e-01,\n",
       "         1.17347979e+00,   2.52441386e+00,   2.36090042e+00,\n",
       "         5.56455291e-01,   4.31555056e+00,   2.31651193e+00,\n",
       "        -1.37521985e+00,   1.69400070e+00,   2.63380539e+00,\n",
       "         2.11972449e+00,  -1.82651858e+00,   6.48219335e-01,\n",
       "         1.57700684e+00,   9.18463964e-01,   3.47625043e+00,\n",
       "         1.32239973e+00,   2.43344509e+00,   8.16287789e-01,\n",
       "        -2.76748814e+00,  -1.64773306e+00,   9.95936890e-01,\n",
       "        -3.75171245e+00,  -3.94127378e+00,   2.78607947e+00,\n",
       "         3.29583166e+00,   3.59843890e-01,  -1.25043935e+00,\n",
       "         1.87336680e+00,  -1.90428882e+00,   3.12139155e+00,\n",
       "         3.68508243e+00,   5.84102305e+00,  -2.24570445e+00,\n",
       "         9.97532134e-01,   2.72175690e+00,   6.64924793e-01,\n",
       "         1.25643254e+00,  -1.68728604e+00,   2.06232349e+00,\n",
       "         1.62211272e-01,   9.57951801e-01,   1.89783738e+00,\n",
       "         1.28391276e-01,   1.21464632e+00,  -2.11391363e+00,\n",
       "        -1.66857149e-01,  -1.40416998e+00,  -3.77934052e+00,\n",
       "         3.58229332e+00,   1.08730942e+00,  -1.20304136e+00,\n",
       "         5.17640673e+00,  -1.90226721e+00,  -2.58011036e+00,\n",
       "         1.31301376e+00,   4.78739964e-01,   7.97889594e+00,\n",
       "         8.49872586e+00,   7.41995348e-01,  -9.35609371e-01,\n",
       "        -2.10253010e+00,  -4.29535420e+00,   6.95941083e-01,\n",
       "         3.90831733e+00,  -1.53854265e-01,  -3.50602990e+00,\n",
       "         4.33771857e+00,   8.03924941e-01,   1.42084863e+00,\n",
       "         2.48354767e+00,   4.62738129e+00,  -2.36703709e+00,\n",
       "        -1.16062252e+00,   6.00772459e+00,   2.42152484e+00,\n",
       "         7.66666149e+00,   3.04789241e+00,   3.58350531e+00,\n",
       "         1.87074718e-01,   6.69116588e-01,   2.13629112e+00,\n",
       "        -2.64997195e+00,   2.41170382e+00,   1.28418958e+00,\n",
       "         1.90957528e+00,   2.33385148e+00,  -1.38852676e+00,\n",
       "        -1.25868274e+00,   4.12365095e+00,   1.21334906e+00,\n",
       "         2.88268402e+00,  -5.68166049e+00,  -1.31165564e+00,\n",
       "         1.10094194e+00,  -4.35760117e-01,  -2.72262446e-01,\n",
       "         3.46041496e+00,  -1.08376719e-01,   1.02793802e+00,\n",
       "         2.24539305e+00,   1.85227440e+00,   4.22609504e+00,\n",
       "         4.31158647e+00,   2.16483152e+00,   3.86014330e+00,\n",
       "        -3.86574378e+00,  -7.74832388e-01,   2.88338218e+00,\n",
       "         6.57127710e+00,   2.15935499e+00,   8.79932122e-01,\n",
       "        -2.60301566e+00,  -5.84419162e+00,   9.46900849e-01,\n",
       "         7.87666965e-02,   7.72762647e+00,  -2.73833857e+00,\n",
       "        -1.51506311e+00,  -4.63327952e-01,   2.87323901e+00,\n",
       "        -4.61373561e+00,   4.01193020e+00,   1.11991290e+00,\n",
       "        -1.38197642e+00,   1.82041155e+00,   3.66674169e+00,\n",
       "         4.08253538e+00,   4.04650012e+00,   1.26024203e+00,\n",
       "        -2.54253110e+00,   2.92731214e+00,   1.35195642e+00,\n",
       "         2.81480342e+00,   3.37200903e+00,  -6.83334157e-01,\n",
       "         3.07766857e+00,   1.12289007e+00,   1.45051195e+00,\n",
       "        -7.79356159e-01,  -8.58463496e-01,   7.71464310e-01,\n",
       "        -5.78906696e+00,   2.60862081e+00,   3.20841640e+00,\n",
       "         1.74552572e+00,  -2.86266119e-01,   2.59230523e+00,\n",
       "         2.69478562e+00,   2.11115737e-02,   5.01323108e+00,\n",
       "         6.12574613e+00,   3.91474762e+00,   9.87038894e-01,\n",
       "         1.55601462e+00,  -2.57684549e+00,  -1.19551175e+00,\n",
       "         1.05505219e+00,   2.85791298e+00,   1.98107938e+00,\n",
       "         5.01274505e-01,   4.65310854e+00,   4.66000487e-01,\n",
       "         4.85374063e+00,  -1.59871674e+00,  -3.06280181e+00,\n",
       "        -5.91414940e-01,  -2.23696871e+00,  -7.00034172e-01,\n",
       "        -2.11360159e+00,   2.35504660e+00,  -2.25465489e+00,\n",
       "         2.77409892e+00,   2.10280458e+00,   9.94361999e-01,\n",
       "        -9.74468264e-01,   3.64187750e+00,  -2.66633405e+00,\n",
       "        -1.88900227e+00,   4.23648268e+00,   7.03039422e-01,\n",
       "        -3.20252581e+00,  -2.01298471e+00,   1.45197181e+00,\n",
       "         3.94768306e+00,  -3.31410833e+00,  -1.39943084e-01,\n",
       "        -2.89309249e+00,  -1.96541148e-01,  -4.44221651e+00,\n",
       "        -1.00173890e+00,   5.22973952e+00,  -2.99506037e+00,\n",
       "         2.80429115e+00,   4.28738462e+00,   3.69738746e+00,\n",
       "        -2.09389267e+00,  -3.27288625e+00,   5.92325434e+00,\n",
       "         5.02152231e+00,   3.07664347e-01,   9.38456358e-01,\n",
       "         2.11720250e+00,   1.94457086e+00,  -7.63983691e-01,\n",
       "         4.27663636e+00,  -4.08388709e-01,   3.20110601e-01,\n",
       "         3.95099340e+00,   3.90184468e+00,   5.95783122e-01,\n",
       "        -4.27111097e-01,  -1.63844415e+00,   1.85861172e+00,\n",
       "         8.79314351e-01,   3.98409384e+00,   7.03201786e-01,\n",
       "         6.20346774e-01,   2.49284176e+00,   5.60237997e+00,\n",
       "         3.57833058e-01,  -7.89836579e-01,   6.02048796e-01,\n",
       "         5.01840809e-01,   1.39043998e+00,  -4.25652767e-01,\n",
       "        -2.79630659e+00,   7.14790727e-01,   7.34896767e+00,\n",
       "        -3.39335177e-02,  -1.14114518e+00,   4.49326356e+00,\n",
       "         1.17475342e+00,  -1.47406079e+00,   8.88294698e-01,\n",
       "         1.32177189e+00,   2.23437725e+00,  -5.35020837e-01,\n",
       "         6.03406979e-01,   2.67563983e+00,  -3.03510880e+00,\n",
       "         3.39499866e+00,   4.23983363e+00,   5.50463882e+00,\n",
       "         5.19548181e+00,  -2.73852366e+00,   3.26699868e+00,\n",
       "        -4.70402100e-01,   1.77653038e+00,  -3.11640569e+00,\n",
       "         9.36750103e-01,   2.49718155e+00,  -1.70137187e+00,\n",
       "         6.72132383e+00,   7.82162351e-01,   4.20562110e-01,\n",
       "         3.35206315e-02,  -3.05364339e+00,   1.61968456e+00,\n",
       "         4.30873897e+00,  -4.92697665e-01,   8.06933411e-01,\n",
       "         5.02643567e+00,   1.81529421e+00,  -1.74192109e+00,\n",
       "         2.03267034e+00,   6.24371890e-01,   1.36099087e+00,\n",
       "         8.61568157e+00,   1.82410278e+00,  -1.77903769e+00,\n",
       "         2.34205298e-01,   1.70871794e+00,   3.52581980e+00,\n",
       "        -1.36889320e+00,   7.69006368e-01,  -4.14025551e-01,\n",
       "         1.85477333e+00,   4.37133407e+00,   2.10972616e+00,\n",
       "         1.49577152e+00,  -4.61774591e+00,   1.86872090e+00,\n",
       "        -2.04577030e+00,   2.69167709e+00,  -3.38291996e-01,\n",
       "         2.20220393e+00,   4.25599976e+00,   1.50675337e+00,\n",
       "         2.51412775e+00,   2.49402673e+00,   3.62887709e+00,\n",
       "         8.84603244e-01,   4.87274473e-01,   6.13347780e+00,\n",
       "        -2.02578842e+00,   7.55521264e+00,   8.86135634e+00,\n",
       "         6.10971134e-01,  -2.25610185e+00,   2.49795145e+00,\n",
       "         1.52202427e+00,   8.34464990e-01,  -3.22702800e+00,\n",
       "        -8.53189409e-01,   3.78473624e+00,   1.41403483e+00,\n",
       "         5.71246940e+00,  -4.00204493e+00,  -2.67122546e-01,\n",
       "        -6.85488314e-01,   6.12205938e-01,  -5.64842237e+00,\n",
       "        -9.03941346e-01,  -4.53702084e-01,  -2.75585612e+00,\n",
       "         5.06971290e-01,   2.01949078e+00,   1.48391554e+00,\n",
       "        -1.53242901e+00,   3.61199476e+00,   1.36483007e-01,\n",
       "         1.37445771e+00,   1.92366517e-01,   2.16570262e-02,\n",
       "         2.82132664e-02,  -2.40816028e+00,   3.40676539e+00,\n",
       "         4.90563299e+00,   2.29068095e+00,   5.08487285e+00,\n",
       "         1.25630146e+00,  -2.86821023e+00,   1.76379090e+00,\n",
       "        -3.20757197e-01,   2.65780706e+00,   2.97658101e+00,\n",
       "        -3.82889311e+00,   9.60419238e-02,   4.81425435e+00,\n",
       "        -4.11945834e+00,   1.44784399e+00,   8.75545039e-01,\n",
       "         5.50985455e+00,  -1.18871058e+00,   4.76772384e+00,\n",
       "        -5.20697453e+00,   4.83635099e+00,   2.61404079e+00,\n",
       "        -2.80450441e+00,  -1.32942937e+00,   3.25461203e+00,\n",
       "         1.47943515e+00,  -3.54978509e+00,   2.36348293e+00,\n",
       "        -3.90808504e+00,   1.96136679e-01,   5.58319117e+00,\n",
       "        -1.90719400e+00,  -3.10093405e+00,   2.73607844e+00,\n",
       "         3.63416136e+00,   3.05070551e+00,  -4.86438367e-01,\n",
       "         1.86145788e+00,   3.87845591e+00,  -1.98673926e+00,\n",
       "        -1.42263281e-01,   6.41942426e+00,   5.01342035e+00,\n",
       "        -4.66026123e+00,   1.44568179e+00,  -1.45824398e+00,\n",
       "         1.59815553e+00,   2.78417975e+00,  -3.05272127e+00,\n",
       "         4.34305227e+00,  -1.75111209e-01,   4.58255580e+00,\n",
       "        -1.22198124e+00,  -3.33398051e-02,   8.28505520e+00,\n",
       "         1.02463484e+00,  -6.11651035e-01,   1.15174104e-01,\n",
       "        -8.02473356e-01,   6.36131312e-01,  -3.67328071e+00,\n",
       "         1.74454317e+00,  -1.83194061e+00,   3.08019674e+00,\n",
       "        -1.37856235e+00,  -1.06815061e+00,   5.07942503e-01,\n",
       "        -4.61400392e-01,  -2.38022193e+00,  -2.83481313e+00,\n",
       "         4.49440276e+00,   6.83364580e+00,   9.12240678e-01,\n",
       "         2.12505708e+00,   9.27158584e+00,   1.83980363e+00,\n",
       "         2.39113357e+00,   3.81408080e-01,   3.67945404e+00,\n",
       "        -4.44392932e+00,   3.67950228e+00,   5.46315294e+00,\n",
       "         4.90383955e+00,   1.77903977e+00,  -1.44749958e+00,\n",
       "         9.05215220e-01,   3.21253496e+00,  -5.95035676e+00,\n",
       "         2.78272662e+00,   1.13578794e+00,   2.32565003e+00,\n",
       "        -2.79511277e+00,   5.79215000e+00,   5.85177521e+00,\n",
       "         3.01001211e+00,   8.54613726e+00,   3.87604782e+00,\n",
       "        -1.35130483e+00,   3.27664114e+00,  -4.99842972e+00,\n",
       "        -2.91658224e+00,  -4.35760117e-01,  -2.13797196e+00,\n",
       "         3.98535544e+00,   1.16476709e+00,  -3.49296868e-01,\n",
       "         4.41390611e+00,  -1.94395743e+00,  -2.67122546e-01,\n",
       "         5.36941561e+00,  -1.41337079e+00,  -1.22463836e+00,\n",
       "        -8.53704664e-01,   1.50973793e+00,   5.49871894e+00,\n",
       "         8.22986726e-01,   5.27043020e+00,  -1.10429614e+00,\n",
       "         1.12491472e+00,  -5.38694851e-01,   2.63641571e-01,\n",
       "        -2.28796326e+00,  -5.18874649e+00,   3.66588534e+00,\n",
       "         1.38852965e+00,   4.09123873e+00,   2.10280458e+00,\n",
       "        -4.41474473e+00,   2.20727719e+00,   2.27205511e+00,\n",
       "         2.09463247e-01,   2.90551954e+00,   4.05321496e+00,\n",
       "         7.81206638e-01,   4.20406906e+00,   4.19622905e+00,\n",
       "         1.75353036e+00,   4.53918090e+00,   3.44470101e+00,\n",
       "         1.84675044e-01,  -3.06832647e+00,   4.25194949e+00,\n",
       "        -3.67586657e+00,   1.30774426e+00,   8.04937304e-01,\n",
       "        -8.18714867e-01,   4.99897981e+00,   8.75490506e-01,\n",
       "         3.61665831e+00,   1.36867315e+00,  -3.73664266e-01,\n",
       "         3.64187750e+00,  -2.01916685e+00,  -1.21842426e+00,\n",
       "         8.40010699e+00,  -4.91278624e-01,   1.97051053e+00,\n",
       "         3.74339525e+00,   5.38710931e+00,   3.92097479e-01,\n",
       "         4.47751177e+00,  -4.90160597e+00,   2.81455017e+00,\n",
       "         1.16041811e+00,  -4.32129669e-01,   3.50663214e+00,\n",
       "        -1.67251865e+00,   2.33781270e+00,   5.47671304e+00,\n",
       "         4.24680017e+00,   1.86233748e+00,  -6.33576456e-01,\n",
       "         8.60739411e-01,  -1.30443638e+00,  -1.54159537e+00,\n",
       "        -1.71271995e+00,   1.10073244e-02,   2.03200714e+00,\n",
       "         5.68626336e-01,   2.94841897e+00,   4.37532252e+00,\n",
       "        -2.29505147e+00,  -1.07559725e+00,   2.35186571e+00,\n",
       "         3.63088052e+00,   2.02456163e+00,  -3.12484607e-01,\n",
       "         5.14351633e+00,   1.11355055e-01,  -1.47981012e+00,\n",
       "         1.70213231e+00,   6.03136470e+00,  -5.52730335e-01,\n",
       "         3.66156609e-01,   3.36254006e+00,   1.02970923e+00,\n",
       "         5.48657548e-01,   2.82004839e+00,   2.60535210e+00,\n",
       "         1.63787487e+00,   5.51306752e+00,  -4.65419963e-01,\n",
       "         1.77563191e+00,   4.35791921e+00,   2.43507092e+00,\n",
       "        -2.47986882e+00,  -1.35764467e+00,   1.58940486e+00,\n",
       "        -1.94263968e+00,  -1.13668981e+00,  -3.16519364e+00,\n",
       "         2.62886761e+00,   5.08494597e+00,  -4.17570570e+00,\n",
       "        -5.82391201e+00,   3.41925954e+00,   3.28844735e+00,\n",
       "         6.63049039e-01,  -6.73563892e-01,   1.93646890e+00,\n",
       "         4.23599245e+00,   3.95517394e+00,  -9.44407475e-01,\n",
       "        -6.45935341e-01,   5.70026350e+00,  -1.65690514e+00,\n",
       "        -1.46068965e+00,  -1.16566113e+00,   2.36246404e+00,\n",
       "         3.67077699e+00,   5.71563139e+00,   5.20523581e+00,\n",
       "        -1.20544257e-01,   4.57702454e+00,   3.51108461e+00,\n",
       "         6.04390801e+00,  -3.37588294e-01,   5.50181989e+00,\n",
       "        -1.96291364e+00,  -1.80751996e-01,  -1.44575521e-01,\n",
       "         6.62882777e+00,   5.02519752e+00,   1.04252311e+00,\n",
       "         5.36214731e+00,   2.53275910e+00,   3.33253358e+00,\n",
       "        -4.90284200e-01,   3.12682696e-01,  -3.80011731e+00,\n",
       "         1.14070376e+00,   2.95143014e+00,   3.77426909e+00,\n",
       "         6.19823676e-02,   8.61110671e-01,   3.43705118e+00,\n",
       "         2.01796860e+00,   3.18099605e+00,  -2.32087247e-01,\n",
       "        -2.74860401e+00,  -1.88350644e+00,   3.60901812e+00,\n",
       "         1.89009242e+00,  -2.87616252e+00,  -2.02149281e+00,\n",
       "        -3.77588589e+00,   2.37470639e+00,   1.72091821e+00,\n",
       "         7.52871003e-01,   1.62570622e+00,  -2.51513712e+00,\n",
       "         4.38601071e+00,   1.28413136e+00,   9.88293603e-01,\n",
       "         8.08468577e+00,  -3.69478766e+00,   2.21626788e+00,\n",
       "        -1.07230702e+00,   9.18044725e-01,   1.07064464e+00,\n",
       "        -2.74890223e+00,   6.06869187e+00,  -2.97449825e+00,\n",
       "        -7.14394306e-02,   6.46265830e+00,   1.66736210e+00,\n",
       "        -2.13932602e+00,   3.87319790e+00,  -2.39032448e+00,\n",
       "         1.09820135e-01,  -2.37615293e+00,  -3.81615364e+00,\n",
       "         1.47637517e+00,   2.24090606e+00,  -1.40813932e+00,\n",
       "        -3.08681434e+00,   2.55844046e-01,   4.97494628e+00,\n",
       "         8.13407207e-01,  -1.76547976e+00,   6.50001697e-01,\n",
       "         4.20947624e+00,  -1.75643161e+00,  -2.37654188e-01,\n",
       "         1.51684894e+00,  -2.28665831e+00,   2.36120269e+00,\n",
       "         3.22858090e+00,  -3.95508817e+00,   4.38273594e+00,\n",
       "        -4.80418681e+00,   1.03757893e+00,   2.57202209e+00,\n",
       "        -4.17720985e-01,   1.08204392e-01,   1.51607939e+00,\n",
       "        -3.86718872e+00,   3.55299260e+00,   2.54147292e+00,\n",
       "         7.95871091e+00,   4.06570545e-01,   7.71464310e-01,\n",
       "        -2.27842809e+00,   6.21632779e+00,  -2.16404377e+00,\n",
       "         2.80934156e+00,   4.61560070e+00,   2.59010065e+00,\n",
       "        -4.87984954e+00,  -2.15723694e+00,   2.88349043e+00,\n",
       "         3.81422654e+00,  -1.25554441e+00,   5.59640743e-01,\n",
       "         1.04725545e+00,   3.05770647e+00,   6.39211353e-01,\n",
       "         1.81046177e-01,  -9.64831127e-01,   5.77188406e+00,\n",
       "        -1.25684649e-01,   2.96483683e+00,   2.25558491e+00,\n",
       "         1.43767900e+00,   1.15210150e+00,   1.87221875e+00,\n",
       "         6.86901168e+00,  -2.11320368e+00,   3.85765097e+00,\n",
       "         5.45275239e+00,   1.51531980e+00,   4.84642252e+00,\n",
       "         1.36634650e+00,  -3.14414244e+00,  -5.57089425e-01,\n",
       "        -6.72174013e-01,   1.07857329e+00,  -4.49219672e+00,\n",
       "         1.19576844e+00,   4.31573882e+00,   1.32951955e+00,\n",
       "        -1.39567512e-03,  -2.23234631e+00,   1.20084457e+00,\n",
       "         1.23993475e+00,  -2.58188986e+00,  -2.18079196e+00,\n",
       "         3.96631786e+00,   5.88630434e+00,   6.94766711e+00,\n",
       "         4.36808772e+00,  -5.08928420e-01,  -2.01695456e+00,\n",
       "         9.24165101e-01,  -2.64238029e+00,  -4.94984933e-01,\n",
       "         3.12139155e+00,   2.85011091e+00,   6.27441436e-01,\n",
       "        -2.59804683e+00,   6.48220136e+00,   6.09896189e+00,\n",
       "         1.22269536e+00,   5.56184645e+00,   6.00729186e+00,\n",
       "         1.34503429e+00,   4.23599245e+00,   3.28844735e+00,\n",
       "         8.79546978e-01,   1.84959579e+00,  -1.63266165e+00,\n",
       "         5.67678078e+00,   2.95492399e+00,   2.64404100e+00,\n",
       "        -2.20283274e+00,  -2.13987628e-01,  -1.59116328e+00,\n",
       "         7.10093313e+00,  -7.30005978e-01,   1.08702537e+00,\n",
       "         2.51945875e+00,  -3.48572989e+00,  -3.29553998e+00,\n",
       "         2.38262803e+00,   3.29566693e+00,  -5.25193512e+00,\n",
       "        -1.88301447e+00,  -1.11303798e+00,   3.32840637e+00,\n",
       "        -1.72828940e+00,  -3.26642060e+00,   3.53350536e+00,\n",
       "         3.34153529e+00,   3.39409998e+00,  -2.59881038e+00,\n",
       "         2.38944225e+00,  -3.73728870e-01,   9.02775807e-01,\n",
       "         2.91286631e+00,  -2.50275197e-01,  -1.49774898e+00,\n",
       "         3.75608244e+00,  -2.02475600e-01,   4.23002376e-01,\n",
       "         4.70930838e+00,   4.28337001e+00,   2.19719371e-01,\n",
       "         4.44850752e-01,   1.98090814e+00,   1.92802604e+00,\n",
       "         4.10988796e+00,  -6.91685885e-01,   2.05122123e+00,\n",
       "         4.17112854e+00,  -3.32653472e+00,   6.27441436e-01,\n",
       "        -1.16211513e+00,   2.38409286e+00,   3.49665524e+00,\n",
       "        -2.02409653e+00,  -1.96816915e-01,  -7.32590523e-01,\n",
       "        -2.95922989e+00,   3.61537524e-01,   3.26981266e+00,\n",
       "        -1.45183725e+00,  -1.72573322e+00,  -1.24828253e+00,\n",
       "         7.03558738e+00,  -1.19553319e+00,   4.12919895e+00,\n",
       "        -3.43499894e+00,  -2.20238784e+00,   6.05753152e+00,\n",
       "         3.71222983e+00,   4.01163606e+00,   2.89443489e+00,\n",
       "        -2.48906811e+00,   1.84603748e+00,   3.08202334e+00,\n",
       "         1.51916450e+00,   1.25657074e+00,   5.77353167e+00,\n",
       "         3.15588472e+00,  -1.70945063e+00,   1.98977882e+00,\n",
       "         7.67900062e-01,  -4.73900537e+00,  -1.37825109e+00,\n",
       "        -2.46066099e+00,   2.02061585e+00,   2.06232349e+00,\n",
       "         3.46841770e+00,   4.56735065e+00,   6.36755768e+00,\n",
       "         2.38803251e+00,   4.73920933e+00,   2.60040644e+00,\n",
       "        -1.04626651e+00,  -9.87495807e-01,   2.75453684e+00,\n",
       "        -2.12049652e+00,  -2.39594830e+00,   2.23765535e+00,\n",
       "         2.73170131e+00,   5.40449733e+00,  -2.77236952e+00,\n",
       "         9.02581028e-01,   4.48975541e+00,   3.34806416e+00,\n",
       "         1.20524709e+00,   5.02939274e+00,   3.14724669e+00,\n",
       "        -4.12910284e-01,   2.29603981e-01,  -1.77040735e+00,\n",
       "        -1.45834659e+00,   5.88304236e+00,   4.57941728e+00,\n",
       "         5.24106444e+00,   4.28284703e+00,   2.20381302e+00,\n",
       "         2.46138740e+00,   4.64557367e+00,  -2.38137986e+00,\n",
       "         8.62063767e+00,   7.15725053e+00,   3.72184779e+00,\n",
       "        -2.90747664e+00,   1.82433318e+00,   3.48015562e+00,\n",
       "        -3.01268645e+00,   2.07703246e+00,  -6.85332655e+00,\n",
       "        -9.00703547e-01,   3.73018902e+00,   4.06841053e+00,\n",
       "         4.03803907e+00,   4.00342708e-01,   1.09692972e+00,\n",
       "         9.65309559e-02,   3.85036926e+00,   3.11691512e+00,\n",
       "         4.08048252e+00,  -3.32709223e+00,   2.99975433e+00,\n",
       "        -1.71665655e-01,   3.33455435e+00,  -2.23529191e+00,\n",
       "        -2.26125484e+00,  -7.89159301e-01,   1.01931838e+00,\n",
       "        -6.26412200e-01,   2.40275371e+00,   1.02950006e+00,\n",
       "         1.65415319e+00,   8.89050990e-01,   2.34163213e+00,\n",
       "        -2.47943098e+00,  -2.40157847e+00,  -6.98089427e-01,\n",
       "         4.24485174e+00,   2.80048412e+00,  -3.17901105e+00,\n",
       "         1.28307541e+00,   2.63535093e+00,  -2.69005487e+00,\n",
       "         7.63362343e-01,   1.09228810e+00,   4.24281574e+00,\n",
       "        -3.44822606e+00,  -3.98609750e+00,  -1.50395593e-01,\n",
       "        -4.01139344e+00,   4.48117455e+00,   1.24157846e+00,\n",
       "        -9.95970457e-01,   4.41165195e-01,   1.99238098e+00,\n",
       "        -2.04858578e+00,   5.21194044e+00,  -4.62477431e+00,\n",
       "         7.55100690e-01,  -2.50851217e+00,  -1.47859904e+00,\n",
       "        -1.26988970e+00])"
      ]
     },
     "execution_count": 329,
     "metadata": {},
     "output_type": "execute_result"
    }
   ],
   "source": [
    "est.predict(xx_validate)"
   ]
  },
  {
   "cell_type": "code",
   "execution_count": 134,
   "metadata": {
    "collapsed": false
   },
   "outputs": [],
   "source": [
    "a['ais1'] = a['a']==1"
   ]
  },
  {
   "cell_type": "code",
   "execution_count": 100,
   "metadata": {
    "collapsed": false
   },
   "outputs": [],
   "source": [
    "a['b'].replace(5,100,inplace = True)"
   ]
  },
  {
   "cell_type": "code",
   "execution_count": 202,
   "metadata": {
    "collapsed": false
   },
   "outputs": [],
   "source": [
    "a.replace([True,False],[1,0],inplace=True)"
   ]
  },
  {
   "cell_type": "code",
   "execution_count": 207,
   "metadata": {
    "collapsed": false
   },
   "outputs": [
    {
     "ename": "SyntaxError",
     "evalue": "invalid syntax (<ipython-input-207-14ee1dcf92cd>, line 1)",
     "output_type": "error",
     "traceback": [
      "\u001b[0;36m  File \u001b[0;32m\"<ipython-input-207-14ee1dcf92cd>\"\u001b[0;36m, line \u001b[0;32m1\u001b[0m\n\u001b[0;31m    a['a'].applymap(lambda x:1 if x==1)\u001b[0m\n\u001b[0m                                      ^\u001b[0m\n\u001b[0;31mSyntaxError\u001b[0m\u001b[0;31m:\u001b[0m invalid syntax\n"
     ]
    }
   ],
   "source": [
    "a['a'].applymap(lambda x:1 if x==1)\n",
    "\n"
   ]
  },
  {
   "cell_type": "code",
   "execution_count": 273,
   "metadata": {
    "collapsed": false
   },
   "outputs": [],
   "source": [
    "a = a.applymap(lambda x:1011100 if x == True else x)\n"
   ]
  },
  {
   "cell_type": "code",
   "execution_count": 224,
   "metadata": {
    "collapsed": false
   },
   "outputs": [],
   "source": [
    "a['a'][2] =True"
   ]
  },
  {
   "cell_type": "code",
   "execution_count": 226,
   "metadata": {
    "collapsed": false
   },
   "outputs": [],
   "source": [
    "a['c'] = a['a'] ==1 c =(a - a.min())/(a.max() -a.min())"
   ]
  },
  {
   "cell_type": "code",
   "execution_count": 307,
   "metadata": {
    "collapsed": false
   },
   "outputs": [],
   "source": [
    "X_train_scale = (X_train - X_train.min())/(X_train.max()-X_train.min())\n"
   ]
  },
  {
   "cell_type": "code",
   "execution_count": 310,
   "metadata": {
    "collapsed": false
   },
   "outputs": [],
   "source": [
    "X_test_scale = (X_test - X_test.min())/(X_test.max()-X_test.min())"
   ]
  },
  {
   "cell_type": "code",
   "execution_count": 301,
   "metadata": {
    "collapsed": false
   },
   "outputs": [
    {
     "data": {
      "text/html": [
       "<div>\n",
       "<table border=\"1\" class=\"dataframe\">\n",
       "  <thead>\n",
       "    <tr style=\"text-align: right;\">\n",
       "      <th></th>\n",
       "      <th>a</th>\n",
       "      <th>b</th>\n",
       "    </tr>\n",
       "  </thead>\n",
       "  <tbody>\n",
       "    <tr>\n",
       "      <th>0</th>\n",
       "      <td>1.000000</td>\n",
       "      <td>0.0</td>\n",
       "    </tr>\n",
       "    <tr>\n",
       "      <th>1</th>\n",
       "      <td>0.000000</td>\n",
       "      <td>0.2</td>\n",
       "    </tr>\n",
       "    <tr>\n",
       "      <th>2</th>\n",
       "      <td>1.000000</td>\n",
       "      <td>0.6</td>\n",
       "    </tr>\n",
       "    <tr>\n",
       "      <th>3</th>\n",
       "      <td>0.003006</td>\n",
       "      <td>1.0</td>\n",
       "    </tr>\n",
       "  </tbody>\n",
       "</table>\n",
       "</div>"
      ],
      "text/plain": [
       "          a    b\n",
       "0  1.000000  0.0\n",
       "1  0.000000  0.2\n",
       "2  1.000000  0.6\n",
       "3  0.003006  1.0"
      ]
     },
     "execution_count": 301,
     "metadata": {},
     "output_type": "execute_result"
    }
   ],
   "source": [
    "c.dropna(axis=1)"
   ]
  },
  {
   "cell_type": "code",
   "execution_count": 299,
   "metadata": {
    "collapsed": false
   },
   "outputs": [],
   "source": [
    "c =(a - a.min())/(a.max() -a.min())"
   ]
  },
  {
   "cell_type": "code",
   "execution_count": 288,
   "metadata": {
    "collapsed": false
   },
   "outputs": [],
   "source": [
    "from sklearn import preprocessing\n",
    "a=a.convert_objects(convert_numeric=True)"
   ]
  }
 ],
 "metadata": {
  "kernelspec": {
   "display_name": "Python 2",
   "language": "python",
   "name": "python2"
  },
  "language_info": {
   "codemirror_mode": {
    "name": "ipython",
    "version": 2
   },
   "file_extension": ".py",
   "mimetype": "text/x-python",
   "name": "python",
   "nbconvert_exporter": "python",
   "pygments_lexer": "ipython2",
   "version": "2.7.11"
  }
 },
 "nbformat": 4,
 "nbformat_minor": 0
}
